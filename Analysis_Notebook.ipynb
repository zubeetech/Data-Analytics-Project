{
 "cells": [
  {
   "cell_type": "markdown",
   "metadata": {},
   "source": [
    "# **CAREER ACCELERATOR LP1 - PROJECT**"
   ]
  },
  {
   "cell_type": "markdown",
   "metadata": {},
   "source": [
    "### **Introduction:**"
   ]
  },
  {
   "cell_type": "markdown",
   "metadata": {},
   "source": [
    "Ideas, creativity, and execution are essential for a start-up to flourish. But are they enough? Investors provide start-ups and other entrepreneurial ventures with the capital---popularly known as \"funding\"---to think big, grow rich, and leave a lasting impact. In this project, you are going to analyse funding received by start-ups in India from 2018 to 2021. You will find the data for each year of funding in a separate csv file in the dataset provided. In these files you'll find the start-ups' details, the funding amounts received, and the investors' information.\n"
   ]
  },
  {
   "cell_type": "markdown",
   "metadata": {},
   "source": [
    "### **Scenario:**\n",
    "My team Has been tasked with analyzing the Indian Startup Ecosystem. The analysis should provide insight as to the best course of action for the company."
   ]
  },
  {
   "cell_type": "markdown",
   "metadata": {},
   "source": [
    "### **Task:**"
   ]
  },
  {
   "cell_type": "markdown",
   "metadata": {},
   "source": [
    "Our task is to develop a unique story from this dataset by stating and testing a hypothesis, asking questions, perform analysis and share insights with appropriate visualisations."
   ]
  },
  {
   "cell_type": "markdown",
   "metadata": {},
   "source": [
    "# **INDIAN STARTUP ECOSYSTEM ANALYSIS 2018 - 2021**"
   ]
  },
  {
   "cell_type": "markdown",
   "metadata": {},
   "source": [
    "# **1. Business Understanding**\n",
    "\n",
    "To be able to understand anything, We must first break it apart and examine it's components before we understand how it works as a whole. The task is to perform an analysis of the 'Indian Start-Up Ecosystem', but what exactly do each of these mean? Let's dive into the definitions of each of the elements in the task;"
   ]
  },
  {
   "cell_type": "markdown",
   "metadata": {},
   "source": [
    "#### **Definitions** ####\n",
    "##### **Ecosystem:**\n",
    "In natural sciences, ‘ecosystems’ are generally defined as a system, or a group of interconnected elements, formed by the interaction of a community of organisms with their environment. \n",
    "\n",
    "##### **Startup:**\n",
    "A startup or start-up is a company or project undertaken by an entrepreneur to seek, develop, and validate a scalable business model. Startups are new businesses that intend to grow large beyond the solo founder. At the beginning, startups face high uncertainty and have high rates of failure, but a minority of them do go on to become successful and influential.\n",
    "\n",
    "##### **India:** \n",
    "India is a country that occupies the greater part of South Asia. India is made up of 28 states and eight union territories, and its national capital is New Delhi. It is the seventh-largest country by area and the most populous country as of June 2023."
   ]
  },
  {
   "cell_type": "markdown",
   "metadata": {},
   "source": [
    "A startup ecosystem is community of people, startups in their various stages and various types of organizations (funders, governments, etc) in a location (physical or virtual), interacting as a system to create and scale new startups. \n",
    "\n",
    "Neither biological nor startup ecosystems can be created, designed or built by an outside actor. While this makes the term ‘start-up ecosystem’ hard to grasp, it does underline that start-ups operate in complex and highly dynamic environments. For this reason, it is particularly important to take sufficient time to analyse and understand the ecosystem before designing interventions to partake in it.\n",
    "\n",
    "Just like biological ecosystems, a startup ecosystem consists of different elements, which can be individuals, groups, organisations and institutions that form a community by interacting with one another, but also environmental determinants that have an influence on how these actors work and interconnect; in startup ecosystems, these can be laws and policies or cultural norms."
   ]
  },
  {
   "cell_type": "markdown",
   "metadata": {},
   "source": [
    "![**A Start-Up Ecosystem**](https://upload.wikimedia.org/wikipedia/commons/thumb/3/35/StartupEcosystem.png/300px-StartupEcosystem.png)"
   ]
  },
  {
   "cell_type": "markdown",
   "metadata": {},
   "source": [
    "#### **Previous Studies / Research**\n",
    "\n",
    "In nature, for any and all participants to thrive, the ecosystem must be healthy and in balance. For a company this could be the best indicator for whether to invest in an ecosystem or not. Previous studies and researchers have identified 5 key aspects of an ecosystem that can be tracked to measure it's vibrance and and these are:"
   ]
  },
  {
   "cell_type": "markdown",
   "metadata": {},
   "source": [
    "\n",
    "**1. What is the Density and ecosystem value?**  \\\n",
    "A first step to mapping an ecosystem is to look at its actual size, growth, and value. This can be tracked by the number of new startups founded in a region during a specific period but also the total combined valuation of all these companies over time, and even break them down by funding year to monitor each cohort. Looking at the number of exits, especially the larger ones are also an interesting indicator of startup success.\n",
    "\n",
    "**2. How does the Funding activity look in the Ecosystem?** \\\n",
    "To assess the health of a startup ecosystem we need to have an eye on the quality, quantity, and ease of access to funding. To evaluate the ease of access to funding, start tracking early-stage funding rounds. Their volume and growth over time will let us know if start-ups are getting the support they need to take their business off the ground. The location of the investors will help you to identify foreign VCs already investing in your Indian startup ecosystem and allow us to build bridges for potential collaboration and partnerships.\n",
    "\n",
    "**3. Market reach and scaling opportunities** \\\n",
    "The easiest way to gauge the success of your startups is to watch the unicorns (measured in terms of companies valued at over $1 billion) in your ecosystem. Although it may be a metric not relevant in the future (due to the increase in number of unicorns), it remains an interesting indicator of startup ecosystem success.\n",
    "\n",
    "**4.Knowledge and innovation** \\\n",
    "Innovation and entrepreneurship often flourish alongside world-class knowledge institutes and R&D incentives. These institutions often foster high-impact innovation, collaboration, and success across sectors. You can measure the level of innovation and new technology in your local ecosystem through research and patent activity, and by keeping tabs on the number of spinouts your local knowledge institutions produce. \n",
    "\n",
    "**5. Connectedness, Talent, Diversity, and more…** \\\n",
    "A vibrant ecosystem is not simply a collection of isolated elements, the connections between the elements matter just as much as the elements themselves. The metrics for connectedness and access to quality and diverse talent are a little more complex. You could however look out for the number of accelerators & incubators in your region, on job boards to access the type of talent your startups are looking for the most and on investment heatmaps to understand the breadth of various industries or depth of expertise present in your community."
   ]
  },
  {
   "cell_type": "markdown",
   "metadata": {},
   "source": [
    "### **Business Objective** \n",
    "To find out whether to invest in the Indian start-up ecosystem or not."
   ]
  },
  {
   "cell_type": "markdown",
   "metadata": {},
   "source": [
    "#### **Hypothesis**\n",
    "Null - The Indian Startup Ecosystem is healthy and worth an investment\\\n",
    "Alternative  - The Indian Startup Ecosystem is weak and not worthy of investment"
   ]
  },
  {
   "cell_type": "markdown",
   "metadata": {},
   "source": [
    "#### **Key Questions**\n",
    "\n",
    "Using metrics similar to those of previous researchers enables the company to easily compare the Indian case with other global thereby giving the company a broader worldview and the ability to make a more informed decision. \n",
    "This is to mean our Key questions will be influenced heavily by the body of previous research."
   ]
  },
  {
   "cell_type": "markdown",
   "metadata": {},
   "source": [
    "**1. What is the Total Value of the Indian Startup Ecosystem?**\n",
    "* How Many startups were founded in the period\n",
    "* How Much Money has the ecosystem received in funding \n",
    "\n",
    "**2. How has the Ecosystem changed over time?**\n",
    "* What is the change in performance year on year\n",
    "* Which region has the best performance\n",
    "\n",
    "**3. What is the Success rate of Start-ups in the ecosystem?**\n",
    "* Are there any unicorns from the ecosystem\n",
    "* How Many Unicorns\n",
    "\n",
    "**4. Who is already in the Ecosystem?**\n",
    "* How many companies are already involved in the ecosystem\n",
    "* What fields are they invested in\n",
    "\n",
    "**5. Which is the best performing sector in the ecosystem?**\n",
    "* Sector with highest amount raised\n",
    "* Sector with most start-ups\n"
   ]
  },
  {
   "cell_type": "markdown",
   "metadata": {},
   "source": [
    "#### **Success Criteria**"
   ]
  },
  {
   "cell_type": "markdown",
   "metadata": {},
   "source": [
    "1. To produce a dashboard that showcases the metrics monitoring the health of the Indian Start-up Ecosystem.\n",
    "2. To provide an objective metric that can be used to compare with other startup ecosystems.\n",
    "3. If decision is to invest, to provide guidance on the best path of investment into the Indian Startup Ecosystem."
   ]
  },
  {
   "cell_type": "markdown",
   "metadata": {},
   "source": [
    "# **2. Data Understanding**"
   ]
  },
  {
   "cell_type": "markdown",
   "metadata": {},
   "source": [
    "### **2.1: Data Preparation**"
   ]
  },
  {
   "cell_type": "markdown",
   "metadata": {},
   "source": [
    "#### **2.1.1: Importations**"
   ]
  },
  {
   "cell_type": "code",
   "execution_count": 16,
   "metadata": {},
   "outputs": [
    {
     "name": "stdout",
     "output_type": "stream",
     "text": [
      "all libraries loaded successfully\n"
     ]
    }
   ],
   "source": [
    "# import all necessary libraries\n",
    "import os\n",
    "import pandas as pd\n",
    "import numpy as np\n",
    "import pyodbc\n",
    "from dotenv import dotenv_values\n",
    "import matplotlib.pyplot as plt\n",
    "import seaborn as sns\n",
    "from thefuzz import process, fuzz\n",
    "\n",
    "#remove pandas display limits\n",
    "pd.set_option('display.max_columns', None)\n",
    "\n",
    "#hide warnings\n",
    "import warnings\n",
    "\n",
    "warnings.filterwarnings('ignore')\n",
    "\n",
    "\n",
    "#confrimation all libraries loaded\n",
    "print(\"all libraries loaded successfully\")"
   ]
  },
  {
   "cell_type": "markdown",
   "metadata": {},
   "source": [
    "### **2.1.2: Database Connection**"
   ]
  },
  {
   "cell_type": "code",
   "execution_count": 17,
   "metadata": {},
   "outputs": [
    {
     "name": "stdout",
     "output_type": "stream",
     "text": [
      "connected successfully\n"
     ]
    }
   ],
   "source": [
    "#reading data from database\n",
    "#Load environment variables from .env file into a dictionary variable\n",
    "environment_variables=dotenv_values('.env')\n",
    "\n",
    "# Get the values for the credentials you set in the '.env' file\n",
    "database = environment_variables.get(\"DB_NAME\")\n",
    "server = environment_variables.get(\"SERVER_NAME\")\n",
    "username = environment_variables.get(\"USERNAME\")\n",
    "password = environment_variables.get(\"PASSWORD\")\n",
    "\n",
    "#Connecting to the database\n",
    "connection_string = f\"DRIVER={{SQL Server}};SERVER={server};DATABASE={database};UID={username};PWD={password}\"\n",
    "\n",
    "# Using the connect method of the pyodbc library.\n",
    "# This will connect to the server. \n",
    "connection=pyodbc.connect(connection_string)\n",
    "\n",
    "print(\"connected successfully\")"
   ]
  },
  {
   "cell_type": "markdown",
   "metadata": {},
   "source": [
    "### **Note:** If the connection stops working, try restarting the kernel"
   ]
  },
  {
   "cell_type": "markdown",
   "metadata": {},
   "source": [
    "#### **2.1.3: Reading the Data**"
   ]
  },
  {
   "cell_type": "markdown",
   "metadata": {},
   "source": [
    "##### *YEAR: 2018*"
   ]
  },
  {
   "cell_type": "code",
   "execution_count": 18,
   "metadata": {},
   "outputs": [
    {
     "data": {
      "text/html": [
       "<div>\n",
       "<style scoped>\n",
       "    .dataframe tbody tr th:only-of-type {\n",
       "        vertical-align: middle;\n",
       "    }\n",
       "\n",
       "    .dataframe tbody tr th {\n",
       "        vertical-align: top;\n",
       "    }\n",
       "\n",
       "    .dataframe thead th {\n",
       "        text-align: right;\n",
       "    }\n",
       "</style>\n",
       "<table border=\"1\" class=\"dataframe\">\n",
       "  <thead>\n",
       "    <tr style=\"text-align: right;\">\n",
       "      <th></th>\n",
       "      <th>Company Name</th>\n",
       "      <th>Industry</th>\n",
       "      <th>Round/Series</th>\n",
       "      <th>Amount</th>\n",
       "      <th>Location</th>\n",
       "      <th>About Company</th>\n",
       "    </tr>\n",
       "  </thead>\n",
       "  <tbody>\n",
       "    <tr>\n",
       "      <th>0</th>\n",
       "      <td>TheCollegeFever</td>\n",
       "      <td>Brand Marketing, Event Promotion, Marketing, S...</td>\n",
       "      <td>Seed</td>\n",
       "      <td>250000</td>\n",
       "      <td>Bangalore, Karnataka, India</td>\n",
       "      <td>TheCollegeFever is a hub for fun, fiesta and f...</td>\n",
       "    </tr>\n",
       "    <tr>\n",
       "      <th>1</th>\n",
       "      <td>Happy Cow Dairy</td>\n",
       "      <td>Agriculture, Farming</td>\n",
       "      <td>Seed</td>\n",
       "      <td>₹40,000,000</td>\n",
       "      <td>Mumbai, Maharashtra, India</td>\n",
       "      <td>A startup which aggregates milk from dairy far...</td>\n",
       "    </tr>\n",
       "    <tr>\n",
       "      <th>2</th>\n",
       "      <td>MyLoanCare</td>\n",
       "      <td>Credit, Financial Services, Lending, Marketplace</td>\n",
       "      <td>Series A</td>\n",
       "      <td>₹65,000,000</td>\n",
       "      <td>Gurgaon, Haryana, India</td>\n",
       "      <td>Leading Online Loans Marketplace in India</td>\n",
       "    </tr>\n",
       "    <tr>\n",
       "      <th>3</th>\n",
       "      <td>PayMe India</td>\n",
       "      <td>Financial Services, FinTech</td>\n",
       "      <td>Angel</td>\n",
       "      <td>2000000</td>\n",
       "      <td>Noida, Uttar Pradesh, India</td>\n",
       "      <td>PayMe India is an innovative FinTech organizat...</td>\n",
       "    </tr>\n",
       "    <tr>\n",
       "      <th>4</th>\n",
       "      <td>Eunimart</td>\n",
       "      <td>E-Commerce Platforms, Retail, SaaS</td>\n",
       "      <td>Seed</td>\n",
       "      <td>—</td>\n",
       "      <td>Hyderabad, Andhra Pradesh, India</td>\n",
       "      <td>Eunimart is a one stop solution for merchants ...</td>\n",
       "    </tr>\n",
       "  </tbody>\n",
       "</table>\n",
       "</div>"
      ],
      "text/plain": [
       "      Company Name                                           Industry  \\\n",
       "0  TheCollegeFever  Brand Marketing, Event Promotion, Marketing, S...   \n",
       "1  Happy Cow Dairy                               Agriculture, Farming   \n",
       "2       MyLoanCare   Credit, Financial Services, Lending, Marketplace   \n",
       "3      PayMe India                        Financial Services, FinTech   \n",
       "4         Eunimart                 E-Commerce Platforms, Retail, SaaS   \n",
       "\n",
       "  Round/Series       Amount                          Location  \\\n",
       "0         Seed       250000       Bangalore, Karnataka, India   \n",
       "1         Seed  ₹40,000,000        Mumbai, Maharashtra, India   \n",
       "2     Series A  ₹65,000,000           Gurgaon, Haryana, India   \n",
       "3        Angel      2000000       Noida, Uttar Pradesh, India   \n",
       "4         Seed            —  Hyderabad, Andhra Pradesh, India   \n",
       "\n",
       "                                       About Company  \n",
       "0  TheCollegeFever is a hub for fun, fiesta and f...  \n",
       "1  A startup which aggregates milk from dairy far...  \n",
       "2          Leading Online Loans Marketplace in India  \n",
       "3  PayMe India is an innovative FinTech organizat...  \n",
       "4  Eunimart is a one stop solution for merchants ...  "
      ]
     },
     "execution_count": 18,
     "metadata": {},
     "output_type": "execute_result"
    }
   ],
   "source": [
    "# import 2018 data from GitHub\n",
    "# Available from Azubi Africa Career Accelerator LP1 Repository as csv\n",
    "\n",
    "df_2018 = pd.read_csv(\"https://github.com/Azubi-Africa/Career_Accelerator_LP1-Data_Analysis/blob/main/startup_funding2018.csv?raw=true\")\n",
    "\n",
    "df_2018.head()"
   ]
  },
  {
   "cell_type": "markdown",
   "metadata": {},
   "source": [
    "##### *YEAR: 2019*"
   ]
  },
  {
   "cell_type": "code",
   "execution_count": 19,
   "metadata": {},
   "outputs": [
    {
     "data": {
      "text/html": [
       "<div>\n",
       "<style scoped>\n",
       "    .dataframe tbody tr th:only-of-type {\n",
       "        vertical-align: middle;\n",
       "    }\n",
       "\n",
       "    .dataframe tbody tr th {\n",
       "        vertical-align: top;\n",
       "    }\n",
       "\n",
       "    .dataframe thead th {\n",
       "        text-align: right;\n",
       "    }\n",
       "</style>\n",
       "<table border=\"1\" class=\"dataframe\">\n",
       "  <thead>\n",
       "    <tr style=\"text-align: right;\">\n",
       "      <th></th>\n",
       "      <th>Company/Brand</th>\n",
       "      <th>Founded</th>\n",
       "      <th>HeadQuarter</th>\n",
       "      <th>Sector</th>\n",
       "      <th>What it does</th>\n",
       "      <th>Founders</th>\n",
       "      <th>Investor</th>\n",
       "      <th>Amount($)</th>\n",
       "      <th>Stage</th>\n",
       "    </tr>\n",
       "  </thead>\n",
       "  <tbody>\n",
       "    <tr>\n",
       "      <th>0</th>\n",
       "      <td>Bombay Shaving</td>\n",
       "      <td>NaN</td>\n",
       "      <td>NaN</td>\n",
       "      <td>Ecommerce</td>\n",
       "      <td>Provides a range of male grooming products</td>\n",
       "      <td>Shantanu Deshpande</td>\n",
       "      <td>Sixth Sense Ventures</td>\n",
       "      <td>$6,300,000</td>\n",
       "      <td>NaN</td>\n",
       "    </tr>\n",
       "    <tr>\n",
       "      <th>1</th>\n",
       "      <td>Ruangguru</td>\n",
       "      <td>2014.0</td>\n",
       "      <td>Mumbai</td>\n",
       "      <td>Edtech</td>\n",
       "      <td>A learning platform that provides topic-based ...</td>\n",
       "      <td>Adamas Belva Syah Devara, Iman Usman.</td>\n",
       "      <td>General Atlantic</td>\n",
       "      <td>$150,000,000</td>\n",
       "      <td>Series C</td>\n",
       "    </tr>\n",
       "    <tr>\n",
       "      <th>2</th>\n",
       "      <td>Eduisfun</td>\n",
       "      <td>NaN</td>\n",
       "      <td>Mumbai</td>\n",
       "      <td>Edtech</td>\n",
       "      <td>It aims to make learning fun via games.</td>\n",
       "      <td>Jatin Solanki</td>\n",
       "      <td>Deepak Parekh, Amitabh Bachchan, Piyush Pandey</td>\n",
       "      <td>$28,000,000</td>\n",
       "      <td>Fresh funding</td>\n",
       "    </tr>\n",
       "    <tr>\n",
       "      <th>3</th>\n",
       "      <td>HomeLane</td>\n",
       "      <td>2014.0</td>\n",
       "      <td>Chennai</td>\n",
       "      <td>Interior design</td>\n",
       "      <td>Provides interior designing solutions</td>\n",
       "      <td>Srikanth Iyer, Rama Harinath</td>\n",
       "      <td>Evolvence India Fund (EIF), Pidilite Group, FJ...</td>\n",
       "      <td>$30,000,000</td>\n",
       "      <td>Series D</td>\n",
       "    </tr>\n",
       "    <tr>\n",
       "      <th>4</th>\n",
       "      <td>Nu Genes</td>\n",
       "      <td>2004.0</td>\n",
       "      <td>Telangana</td>\n",
       "      <td>AgriTech</td>\n",
       "      <td>It is a seed company engaged in production, pr...</td>\n",
       "      <td>Narayana Reddy Punyala</td>\n",
       "      <td>Innovation in Food and Agriculture (IFA)</td>\n",
       "      <td>$6,000,000</td>\n",
       "      <td>NaN</td>\n",
       "    </tr>\n",
       "  </tbody>\n",
       "</table>\n",
       "</div>"
      ],
      "text/plain": [
       "    Company/Brand  Founded HeadQuarter           Sector  \\\n",
       "0  Bombay Shaving      NaN         NaN        Ecommerce   \n",
       "1       Ruangguru   2014.0      Mumbai           Edtech   \n",
       "2        Eduisfun      NaN      Mumbai           Edtech   \n",
       "3        HomeLane   2014.0     Chennai  Interior design   \n",
       "4        Nu Genes   2004.0   Telangana         AgriTech   \n",
       "\n",
       "                                        What it does  \\\n",
       "0         Provides a range of male grooming products   \n",
       "1  A learning platform that provides topic-based ...   \n",
       "2            It aims to make learning fun via games.   \n",
       "3              Provides interior designing solutions   \n",
       "4  It is a seed company engaged in production, pr...   \n",
       "\n",
       "                                Founders  \\\n",
       "0                     Shantanu Deshpande   \n",
       "1  Adamas Belva Syah Devara, Iman Usman.   \n",
       "2                          Jatin Solanki   \n",
       "3           Srikanth Iyer, Rama Harinath   \n",
       "4                 Narayana Reddy Punyala   \n",
       "\n",
       "                                            Investor     Amount($)  \\\n",
       "0                               Sixth Sense Ventures    $6,300,000   \n",
       "1                                   General Atlantic  $150,000,000   \n",
       "2     Deepak Parekh, Amitabh Bachchan, Piyush Pandey   $28,000,000   \n",
       "3  Evolvence India Fund (EIF), Pidilite Group, FJ...   $30,000,000   \n",
       "4           Innovation in Food and Agriculture (IFA)    $6,000,000   \n",
       "\n",
       "           Stage  \n",
       "0            NaN  \n",
       "1       Series C  \n",
       "2  Fresh funding  \n",
       "3       Series D  \n",
       "4            NaN  "
      ]
     },
     "execution_count": 19,
     "metadata": {},
     "output_type": "execute_result"
    }
   ],
   "source": [
    "# import 2019 data from csv\n",
    "df_2019 = pd.read_csv(\"datasets\\startup_funding2019.csv\")\n",
    "df_2019.head()"
   ]
  },
  {
   "cell_type": "markdown",
   "metadata": {},
   "source": [
    "##### *YEAR: 2020*"
   ]
  },
  {
   "cell_type": "code",
   "execution_count": 20,
   "metadata": {},
   "outputs": [
    {
     "data": {
      "text/html": [
       "<div>\n",
       "<style scoped>\n",
       "    .dataframe tbody tr th:only-of-type {\n",
       "        vertical-align: middle;\n",
       "    }\n",
       "\n",
       "    .dataframe tbody tr th {\n",
       "        vertical-align: top;\n",
       "    }\n",
       "\n",
       "    .dataframe thead th {\n",
       "        text-align: right;\n",
       "    }\n",
       "</style>\n",
       "<table border=\"1\" class=\"dataframe\">\n",
       "  <thead>\n",
       "    <tr style=\"text-align: right;\">\n",
       "      <th></th>\n",
       "      <th>Company_Brand</th>\n",
       "      <th>Founded</th>\n",
       "      <th>HeadQuarter</th>\n",
       "      <th>Sector</th>\n",
       "      <th>What_it_does</th>\n",
       "      <th>Founders</th>\n",
       "      <th>Investor</th>\n",
       "      <th>Amount</th>\n",
       "      <th>Stage</th>\n",
       "      <th>column10</th>\n",
       "    </tr>\n",
       "  </thead>\n",
       "  <tbody>\n",
       "    <tr>\n",
       "      <th>0</th>\n",
       "      <td>Aqgromalin</td>\n",
       "      <td>2019.0</td>\n",
       "      <td>Chennai</td>\n",
       "      <td>AgriTech</td>\n",
       "      <td>Cultivating Ideas for Profit</td>\n",
       "      <td>Prasanna Manogaran, Bharani C L</td>\n",
       "      <td>Angel investors</td>\n",
       "      <td>200000.0</td>\n",
       "      <td>None</td>\n",
       "      <td>None</td>\n",
       "    </tr>\n",
       "    <tr>\n",
       "      <th>1</th>\n",
       "      <td>Krayonnz</td>\n",
       "      <td>2019.0</td>\n",
       "      <td>Bangalore</td>\n",
       "      <td>EdTech</td>\n",
       "      <td>An academy-guardian-scholar centric ecosystem ...</td>\n",
       "      <td>Saurabh Dixit, Gurudutt Upadhyay</td>\n",
       "      <td>GSF Accelerator</td>\n",
       "      <td>100000.0</td>\n",
       "      <td>Pre-seed</td>\n",
       "      <td>None</td>\n",
       "    </tr>\n",
       "    <tr>\n",
       "      <th>2</th>\n",
       "      <td>PadCare Labs</td>\n",
       "      <td>2018.0</td>\n",
       "      <td>Pune</td>\n",
       "      <td>Hygiene management</td>\n",
       "      <td>Converting bio-hazardous waste to harmless waste</td>\n",
       "      <td>Ajinkya Dhariya</td>\n",
       "      <td>Venture Center</td>\n",
       "      <td>NaN</td>\n",
       "      <td>Pre-seed</td>\n",
       "      <td>None</td>\n",
       "    </tr>\n",
       "    <tr>\n",
       "      <th>3</th>\n",
       "      <td>NCOME</td>\n",
       "      <td>2020.0</td>\n",
       "      <td>New Delhi</td>\n",
       "      <td>Escrow</td>\n",
       "      <td>Escrow-as-a-service platform</td>\n",
       "      <td>Ritesh Tiwari</td>\n",
       "      <td>Venture Catalysts, PointOne Capital</td>\n",
       "      <td>400000.0</td>\n",
       "      <td>None</td>\n",
       "      <td>None</td>\n",
       "    </tr>\n",
       "    <tr>\n",
       "      <th>4</th>\n",
       "      <td>Gramophone</td>\n",
       "      <td>2016.0</td>\n",
       "      <td>Indore</td>\n",
       "      <td>AgriTech</td>\n",
       "      <td>Gramophone is an AgTech platform enabling acce...</td>\n",
       "      <td>Ashish Rajan Singh, Harshit Gupta, Nishant Mah...</td>\n",
       "      <td>Siana Capital Management, Info Edge</td>\n",
       "      <td>340000.0</td>\n",
       "      <td>None</td>\n",
       "      <td>None</td>\n",
       "    </tr>\n",
       "  </tbody>\n",
       "</table>\n",
       "</div>"
      ],
      "text/plain": [
       "  Company_Brand  Founded HeadQuarter              Sector  \\\n",
       "0    Aqgromalin   2019.0     Chennai            AgriTech   \n",
       "1      Krayonnz   2019.0   Bangalore              EdTech   \n",
       "2  PadCare Labs   2018.0        Pune  Hygiene management   \n",
       "3         NCOME   2020.0   New Delhi              Escrow   \n",
       "4    Gramophone   2016.0      Indore            AgriTech   \n",
       "\n",
       "                                        What_it_does  \\\n",
       "0                       Cultivating Ideas for Profit   \n",
       "1  An academy-guardian-scholar centric ecosystem ...   \n",
       "2   Converting bio-hazardous waste to harmless waste   \n",
       "3                       Escrow-as-a-service platform   \n",
       "4  Gramophone is an AgTech platform enabling acce...   \n",
       "\n",
       "                                            Founders  \\\n",
       "0                    Prasanna Manogaran, Bharani C L   \n",
       "1                   Saurabh Dixit, Gurudutt Upadhyay   \n",
       "2                                    Ajinkya Dhariya   \n",
       "3                                      Ritesh Tiwari   \n",
       "4  Ashish Rajan Singh, Harshit Gupta, Nishant Mah...   \n",
       "\n",
       "                              Investor    Amount     Stage column10  \n",
       "0                      Angel investors  200000.0      None     None  \n",
       "1                      GSF Accelerator  100000.0  Pre-seed     None  \n",
       "2                       Venture Center       NaN  Pre-seed     None  \n",
       "3  Venture Catalysts, PointOne Capital  400000.0      None     None  \n",
       "4  Siana Capital Management, Info Edge  340000.0      None     None  "
      ]
     },
     "execution_count": 20,
     "metadata": {},
     "output_type": "execute_result"
    }
   ],
   "source": [
    "#reading the 2020 SQL table into a dataframe\n",
    "\n",
    "query='''SELECT * \n",
    "        FROM dbo.LP1_startup_funding2020'''\n",
    "        \n",
    "df_2020=pd.read_sql(query,connection)\n",
    "\n",
    "df_2020.head()"
   ]
  },
  {
   "cell_type": "markdown",
   "metadata": {},
   "source": [
    "##### *YEAR: 2021*"
   ]
  },
  {
   "cell_type": "code",
   "execution_count": 21,
   "metadata": {},
   "outputs": [
    {
     "data": {
      "text/html": [
       "<div>\n",
       "<style scoped>\n",
       "    .dataframe tbody tr th:only-of-type {\n",
       "        vertical-align: middle;\n",
       "    }\n",
       "\n",
       "    .dataframe tbody tr th {\n",
       "        vertical-align: top;\n",
       "    }\n",
       "\n",
       "    .dataframe thead th {\n",
       "        text-align: right;\n",
       "    }\n",
       "</style>\n",
       "<table border=\"1\" class=\"dataframe\">\n",
       "  <thead>\n",
       "    <tr style=\"text-align: right;\">\n",
       "      <th></th>\n",
       "      <th>Company_Brand</th>\n",
       "      <th>Founded</th>\n",
       "      <th>HeadQuarter</th>\n",
       "      <th>Sector</th>\n",
       "      <th>What_it_does</th>\n",
       "      <th>Founders</th>\n",
       "      <th>Investor</th>\n",
       "      <th>Amount</th>\n",
       "      <th>Stage</th>\n",
       "    </tr>\n",
       "  </thead>\n",
       "  <tbody>\n",
       "    <tr>\n",
       "      <th>0</th>\n",
       "      <td>Unbox Robotics</td>\n",
       "      <td>2019.0</td>\n",
       "      <td>Bangalore</td>\n",
       "      <td>AI startup</td>\n",
       "      <td>Unbox Robotics builds on-demand AI-driven ware...</td>\n",
       "      <td>Pramod Ghadge, Shahid Memon</td>\n",
       "      <td>BEENEXT, Entrepreneur First</td>\n",
       "      <td>$1,200,000</td>\n",
       "      <td>Pre-series A</td>\n",
       "    </tr>\n",
       "    <tr>\n",
       "      <th>1</th>\n",
       "      <td>upGrad</td>\n",
       "      <td>2015.0</td>\n",
       "      <td>Mumbai</td>\n",
       "      <td>EdTech</td>\n",
       "      <td>UpGrad is an online higher education platform.</td>\n",
       "      <td>Mayank Kumar, Phalgun Kompalli, Ravijot Chugh,...</td>\n",
       "      <td>Unilazer Ventures, IIFL Asset Management</td>\n",
       "      <td>$120,000,000</td>\n",
       "      <td>None</td>\n",
       "    </tr>\n",
       "    <tr>\n",
       "      <th>2</th>\n",
       "      <td>Lead School</td>\n",
       "      <td>2012.0</td>\n",
       "      <td>Mumbai</td>\n",
       "      <td>EdTech</td>\n",
       "      <td>LEAD School offers technology based school tra...</td>\n",
       "      <td>Smita Deorah, Sumeet Mehta</td>\n",
       "      <td>GSV Ventures, Westbridge Capital</td>\n",
       "      <td>$30,000,000</td>\n",
       "      <td>Series D</td>\n",
       "    </tr>\n",
       "    <tr>\n",
       "      <th>3</th>\n",
       "      <td>Bizongo</td>\n",
       "      <td>2015.0</td>\n",
       "      <td>Mumbai</td>\n",
       "      <td>B2B E-commerce</td>\n",
       "      <td>Bizongo is a business-to-business online marke...</td>\n",
       "      <td>Aniket Deb, Ankit Tomar, Sachin Agrawal</td>\n",
       "      <td>CDC Group, IDG Capital</td>\n",
       "      <td>$51,000,000</td>\n",
       "      <td>Series C</td>\n",
       "    </tr>\n",
       "    <tr>\n",
       "      <th>4</th>\n",
       "      <td>FypMoney</td>\n",
       "      <td>2021.0</td>\n",
       "      <td>Gurugram</td>\n",
       "      <td>FinTech</td>\n",
       "      <td>FypMoney is Digital NEO Bank for Teenagers, em...</td>\n",
       "      <td>Kapil Banwari</td>\n",
       "      <td>Liberatha Kallat, Mukesh Yadav, Dinesh Nagpal</td>\n",
       "      <td>$2,000,000</td>\n",
       "      <td>Seed</td>\n",
       "    </tr>\n",
       "  </tbody>\n",
       "</table>\n",
       "</div>"
      ],
      "text/plain": [
       "    Company_Brand  Founded HeadQuarter          Sector  \\\n",
       "0  Unbox Robotics   2019.0   Bangalore      AI startup   \n",
       "1          upGrad   2015.0      Mumbai          EdTech   \n",
       "2     Lead School   2012.0      Mumbai          EdTech   \n",
       "3         Bizongo   2015.0      Mumbai  B2B E-commerce   \n",
       "4        FypMoney   2021.0    Gurugram         FinTech   \n",
       "\n",
       "                                        What_it_does  \\\n",
       "0  Unbox Robotics builds on-demand AI-driven ware...   \n",
       "1     UpGrad is an online higher education platform.   \n",
       "2  LEAD School offers technology based school tra...   \n",
       "3  Bizongo is a business-to-business online marke...   \n",
       "4  FypMoney is Digital NEO Bank for Teenagers, em...   \n",
       "\n",
       "                                            Founders  \\\n",
       "0                        Pramod Ghadge, Shahid Memon   \n",
       "1  Mayank Kumar, Phalgun Kompalli, Ravijot Chugh,...   \n",
       "2                         Smita Deorah, Sumeet Mehta   \n",
       "3            Aniket Deb, Ankit Tomar, Sachin Agrawal   \n",
       "4                                      Kapil Banwari   \n",
       "\n",
       "                                        Investor        Amount         Stage  \n",
       "0                    BEENEXT, Entrepreneur First    $1,200,000  Pre-series A  \n",
       "1       Unilazer Ventures, IIFL Asset Management  $120,000,000          None  \n",
       "2               GSV Ventures, Westbridge Capital   $30,000,000      Series D  \n",
       "3                         CDC Group, IDG Capital   $51,000,000      Series C  \n",
       "4  Liberatha Kallat, Mukesh Yadav, Dinesh Nagpal    $2,000,000          Seed  "
      ]
     },
     "execution_count": 21,
     "metadata": {},
     "output_type": "execute_result"
    }
   ],
   "source": [
    "#reading the 2021 SQL table into a dataframe\n",
    "\n",
    "query='''SELECT * \n",
    "        FROM dbo.LP1_startup_funding2021'''\n",
    "        \n",
    "df_2021=pd.read_sql(query,connection)\n",
    "\n",
    "df_2021.head()"
   ]
  },
  {
   "cell_type": "markdown",
   "metadata": {},
   "source": [
    "**Notes:** \\\n",
    "    1. The data for each year is saved in variables named 'df_year'"
   ]
  },
  {
   "cell_type": "markdown",
   "metadata": {},
   "source": [
    "## **2.2: Exploratory Data Analysis**"
   ]
  },
  {
   "cell_type": "markdown",
   "metadata": {},
   "source": [
    "The data provided is expected to have the following columns to be used in the analysis:\n",
    "\n",
    "\n",
    "|  | **COLUMN NAME** | **DESCRIPTION** | **EXPECTED DATATYPE** |\n",
    "|--|-----------------|-----------------|-----------------------|\n",
    "|**1**| **Company** | Name of the company/start-up | Object |\n",
    "|**2**| **Founded** | Year start-up was founded | Datetime[Y] / int |\n",
    "|**3**| **Sector** | Sector/ Industry | Category |\n",
    "|**4**| **Description** | Description about Company | Object |\n",
    "|**5**| **Founders** | Founders of the Company | Object |\n",
    "|**6**| **Investor** | Investors | Category |\n",
    "|**7**| **Amount** | Raised funds | float64 / int64 |\n",
    "|**8**| **Stage** | Round of funding reached | Category |\n",
    "|**9**| **Location** | City/ Region of Startup | Category |"
   ]
  },
  {
   "cell_type": "markdown",
   "metadata": {},
   "source": [
    "**Key Assumption**\n",
    "Based on our business understanding and the key questions asked, we have created the expected datatype column to guide our EDA"
   ]
  },
  {
   "cell_type": "code",
   "execution_count": 22,
   "metadata": {},
   "outputs": [
    {
     "name": "stdout",
     "output_type": "stream",
     "text": [
      "<class 'pandas.core.frame.DataFrame'>\n",
      "RangeIndex: 526 entries, 0 to 525\n",
      "Data columns (total 6 columns):\n",
      " #   Column         Non-Null Count  Dtype \n",
      "---  ------         --------------  ----- \n",
      " 0   Company Name   526 non-null    object\n",
      " 1   Industry       526 non-null    object\n",
      " 2   Round/Series   526 non-null    object\n",
      " 3   Amount         526 non-null    object\n",
      " 4   Location       526 non-null    object\n",
      " 5   About Company  526 non-null    object\n",
      "dtypes: object(6)\n",
      "memory usage: 24.8+ KB\n"
     ]
    }
   ],
   "source": [
    "#checking the 2018 info\n",
    "df_2018.info()"
   ]
  },
  {
   "cell_type": "code",
   "execution_count": 23,
   "metadata": {},
   "outputs": [
    {
     "name": "stdout",
     "output_type": "stream",
     "text": [
      "<class 'pandas.core.frame.DataFrame'>\n",
      "RangeIndex: 89 entries, 0 to 88\n",
      "Data columns (total 9 columns):\n",
      " #   Column         Non-Null Count  Dtype  \n",
      "---  ------         --------------  -----  \n",
      " 0   Company/Brand  89 non-null     object \n",
      " 1   Founded        60 non-null     float64\n",
      " 2   HeadQuarter    70 non-null     object \n",
      " 3   Sector         84 non-null     object \n",
      " 4   What it does   89 non-null     object \n",
      " 5   Founders       86 non-null     object \n",
      " 6   Investor       89 non-null     object \n",
      " 7   Amount($)      89 non-null     object \n",
      " 8   Stage          43 non-null     object \n",
      "dtypes: float64(1), object(8)\n",
      "memory usage: 6.4+ KB\n"
     ]
    }
   ],
   "source": [
    "#checking 2019 info\n",
    "df_2019.info()"
   ]
  },
  {
   "cell_type": "code",
   "execution_count": 24,
   "metadata": {},
   "outputs": [
    {
     "name": "stdout",
     "output_type": "stream",
     "text": [
      "<class 'pandas.core.frame.DataFrame'>\n",
      "RangeIndex: 1055 entries, 0 to 1054\n",
      "Data columns (total 10 columns):\n",
      " #   Column         Non-Null Count  Dtype  \n",
      "---  ------         --------------  -----  \n",
      " 0   Company_Brand  1055 non-null   object \n",
      " 1   Founded        842 non-null    float64\n",
      " 2   HeadQuarter    961 non-null    object \n",
      " 3   Sector         1042 non-null   object \n",
      " 4   What_it_does   1055 non-null   object \n",
      " 5   Founders       1043 non-null   object \n",
      " 6   Investor       1017 non-null   object \n",
      " 7   Amount         801 non-null    float64\n",
      " 8   Stage          591 non-null    object \n",
      " 9   column10       2 non-null      object \n",
      "dtypes: float64(2), object(8)\n",
      "memory usage: 82.6+ KB\n"
     ]
    }
   ],
   "source": [
    "#checking 2020 info\n",
    "df_2020.info()"
   ]
  },
  {
   "cell_type": "code",
   "execution_count": 25,
   "metadata": {},
   "outputs": [
    {
     "name": "stdout",
     "output_type": "stream",
     "text": [
      "<class 'pandas.core.frame.DataFrame'>\n",
      "RangeIndex: 1209 entries, 0 to 1208\n",
      "Data columns (total 9 columns):\n",
      " #   Column         Non-Null Count  Dtype  \n",
      "---  ------         --------------  -----  \n",
      " 0   Company_Brand  1209 non-null   object \n",
      " 1   Founded        1208 non-null   float64\n",
      " 2   HeadQuarter    1208 non-null   object \n",
      " 3   Sector         1209 non-null   object \n",
      " 4   What_it_does   1209 non-null   object \n",
      " 5   Founders       1205 non-null   object \n",
      " 6   Investor       1147 non-null   object \n",
      " 7   Amount         1206 non-null   object \n",
      " 8   Stage          781 non-null    object \n",
      "dtypes: float64(1), object(8)\n",
      "memory usage: 85.1+ KB\n"
     ]
    }
   ],
   "source": [
    "#checking 2021 info\n",
    "df_2021.info()"
   ]
  },
  {
   "cell_type": "markdown",
   "metadata": {},
   "source": [
    "##### **Notes:** #####\n",
    "1. The 2018 Dataset has less columns than the expected and all in the object datatype.\n",
    "2. The 2019 and 2021 datasets have all expected and similar datatypes across columns the Founded column.\n",
    "3. The 2020 dataset has more columns than expected and two columns in the expected datatypes (Founded and Amount).\n"
   ]
  },
  {
   "cell_type": "markdown",
   "metadata": {},
   "source": [
    "##### **Decisions:** #####\n",
    "We will clean all years' data separately as the columns are not in expected datatypes.\\\n",
    "To identify each data with year collected, we will add a year column to all datasets."
   ]
  },
  {
   "cell_type": "code",
   "execution_count": 26,
   "metadata": {},
   "outputs": [],
   "source": [
    "#adding a year column to identify each year's data\n",
    "df_2018['year'] = 2018\n",
    "df_2019['year'] = 2019\n",
    "df_2020['year'] = 2020\n",
    "df_2021['year'] = 2021"
   ]
  },
  {
   "cell_type": "markdown",
   "metadata": {},
   "source": [
    "## **Collaboration Tip:**\n",
    "Clean the data with a focus of creating a dataframe with an info like the Expected table above.\n",
    "\n",
    "**Reference:** \\\n",
    "Effective Pandas by Matt Harrison - https://www.youtube.com/watch?v=zgbUk90aQ6A&t=4084s"
   ]
  },
  {
   "cell_type": "markdown",
   "metadata": {},
   "source": [
    "## **2018 CLEANING**"
   ]
  },
  {
   "cell_type": "code",
   "execution_count": 27,
   "metadata": {},
   "outputs": [
    {
     "data": {
      "text/plain": [
       "Index(['Company Name', 'Industry', 'Round/Series', 'Amount', 'Location',\n",
       "       'About Company', 'year'],\n",
       "      dtype='object')"
      ]
     },
     "execution_count": 27,
     "metadata": {},
     "output_type": "execute_result"
    }
   ],
   "source": [
    "#checking if column names are as expected\n",
    "(df_2018\n",
    ".columns)"
   ]
  },
  {
   "cell_type": "markdown",
   "metadata": {},
   "source": [
    "**Observations:**\n",
    "    The column names are not as expected.\\\n",
    "**Decision**\n",
    "    Check further on items in the columns."
   ]
  },
  {
   "cell_type": "code",
   "execution_count": 28,
   "metadata": {},
   "outputs": [
    {
     "data": {
      "text/html": [
       "<div>\n",
       "<style scoped>\n",
       "    .dataframe tbody tr th:only-of-type {\n",
       "        vertical-align: middle;\n",
       "    }\n",
       "\n",
       "    .dataframe tbody tr th {\n",
       "        vertical-align: top;\n",
       "    }\n",
       "\n",
       "    .dataframe thead th {\n",
       "        text-align: right;\n",
       "    }\n",
       "</style>\n",
       "<table border=\"1\" class=\"dataframe\">\n",
       "  <thead>\n",
       "    <tr style=\"text-align: right;\">\n",
       "      <th></th>\n",
       "      <th>Company Name</th>\n",
       "      <th>Industry</th>\n",
       "      <th>Round/Series</th>\n",
       "      <th>Amount</th>\n",
       "      <th>Location</th>\n",
       "      <th>About Company</th>\n",
       "      <th>year</th>\n",
       "    </tr>\n",
       "  </thead>\n",
       "  <tbody>\n",
       "    <tr>\n",
       "      <th>0</th>\n",
       "      <td>TheCollegeFever</td>\n",
       "      <td>Brand Marketing, Event Promotion, Marketing, S...</td>\n",
       "      <td>Seed</td>\n",
       "      <td>250000</td>\n",
       "      <td>Bangalore, Karnataka, India</td>\n",
       "      <td>TheCollegeFever is a hub for fun, fiesta and f...</td>\n",
       "      <td>2018</td>\n",
       "    </tr>\n",
       "    <tr>\n",
       "      <th>1</th>\n",
       "      <td>Happy Cow Dairy</td>\n",
       "      <td>Agriculture, Farming</td>\n",
       "      <td>Seed</td>\n",
       "      <td>₹40,000,000</td>\n",
       "      <td>Mumbai, Maharashtra, India</td>\n",
       "      <td>A startup which aggregates milk from dairy far...</td>\n",
       "      <td>2018</td>\n",
       "    </tr>\n",
       "    <tr>\n",
       "      <th>2</th>\n",
       "      <td>MyLoanCare</td>\n",
       "      <td>Credit, Financial Services, Lending, Marketplace</td>\n",
       "      <td>Series A</td>\n",
       "      <td>₹65,000,000</td>\n",
       "      <td>Gurgaon, Haryana, India</td>\n",
       "      <td>Leading Online Loans Marketplace in India</td>\n",
       "      <td>2018</td>\n",
       "    </tr>\n",
       "    <tr>\n",
       "      <th>3</th>\n",
       "      <td>PayMe India</td>\n",
       "      <td>Financial Services, FinTech</td>\n",
       "      <td>Angel</td>\n",
       "      <td>2000000</td>\n",
       "      <td>Noida, Uttar Pradesh, India</td>\n",
       "      <td>PayMe India is an innovative FinTech organizat...</td>\n",
       "      <td>2018</td>\n",
       "    </tr>\n",
       "    <tr>\n",
       "      <th>4</th>\n",
       "      <td>Eunimart</td>\n",
       "      <td>E-Commerce Platforms, Retail, SaaS</td>\n",
       "      <td>Seed</td>\n",
       "      <td>—</td>\n",
       "      <td>Hyderabad, Andhra Pradesh, India</td>\n",
       "      <td>Eunimart is a one stop solution for merchants ...</td>\n",
       "      <td>2018</td>\n",
       "    </tr>\n",
       "    <tr>\n",
       "      <th>...</th>\n",
       "      <td>...</td>\n",
       "      <td>...</td>\n",
       "      <td>...</td>\n",
       "      <td>...</td>\n",
       "      <td>...</td>\n",
       "      <td>...</td>\n",
       "      <td>...</td>\n",
       "    </tr>\n",
       "    <tr>\n",
       "      <th>521</th>\n",
       "      <td>Udaan</td>\n",
       "      <td>B2B, Business Development, Internet, Marketplace</td>\n",
       "      <td>Series C</td>\n",
       "      <td>225000000</td>\n",
       "      <td>Bangalore, Karnataka, India</td>\n",
       "      <td>Udaan is a B2B trade platform, designed specif...</td>\n",
       "      <td>2018</td>\n",
       "    </tr>\n",
       "    <tr>\n",
       "      <th>522</th>\n",
       "      <td>Happyeasygo Group</td>\n",
       "      <td>Tourism, Travel</td>\n",
       "      <td>Series A</td>\n",
       "      <td>—</td>\n",
       "      <td>Haryana, Haryana, India</td>\n",
       "      <td>HappyEasyGo is an online travel domain.</td>\n",
       "      <td>2018</td>\n",
       "    </tr>\n",
       "    <tr>\n",
       "      <th>523</th>\n",
       "      <td>Mombay</td>\n",
       "      <td>Food and Beverage, Food Delivery, Internet</td>\n",
       "      <td>Seed</td>\n",
       "      <td>7500</td>\n",
       "      <td>Mumbai, Maharashtra, India</td>\n",
       "      <td>Mombay is a unique opportunity for housewives ...</td>\n",
       "      <td>2018</td>\n",
       "    </tr>\n",
       "    <tr>\n",
       "      <th>524</th>\n",
       "      <td>Droni Tech</td>\n",
       "      <td>Information Technology</td>\n",
       "      <td>Seed</td>\n",
       "      <td>₹35,000,000</td>\n",
       "      <td>Mumbai, Maharashtra, India</td>\n",
       "      <td>Droni Tech manufacture UAVs and develop softwa...</td>\n",
       "      <td>2018</td>\n",
       "    </tr>\n",
       "    <tr>\n",
       "      <th>525</th>\n",
       "      <td>Netmeds</td>\n",
       "      <td>Biotechnology, Health Care, Pharmaceutical</td>\n",
       "      <td>Series C</td>\n",
       "      <td>35000000</td>\n",
       "      <td>Chennai, Tamil Nadu, India</td>\n",
       "      <td>Welcome to India's most convenient pharmacy!</td>\n",
       "      <td>2018</td>\n",
       "    </tr>\n",
       "  </tbody>\n",
       "</table>\n",
       "<p>526 rows × 7 columns</p>\n",
       "</div>"
      ],
      "text/plain": [
       "          Company Name                                           Industry  \\\n",
       "0      TheCollegeFever  Brand Marketing, Event Promotion, Marketing, S...   \n",
       "1      Happy Cow Dairy                               Agriculture, Farming   \n",
       "2           MyLoanCare   Credit, Financial Services, Lending, Marketplace   \n",
       "3          PayMe India                        Financial Services, FinTech   \n",
       "4             Eunimart                 E-Commerce Platforms, Retail, SaaS   \n",
       "..                 ...                                                ...   \n",
       "521              Udaan   B2B, Business Development, Internet, Marketplace   \n",
       "522  Happyeasygo Group                                    Tourism, Travel   \n",
       "523             Mombay         Food and Beverage, Food Delivery, Internet   \n",
       "524         Droni Tech                             Information Technology   \n",
       "525            Netmeds         Biotechnology, Health Care, Pharmaceutical   \n",
       "\n",
       "    Round/Series       Amount                          Location  \\\n",
       "0           Seed       250000       Bangalore, Karnataka, India   \n",
       "1           Seed  ₹40,000,000        Mumbai, Maharashtra, India   \n",
       "2       Series A  ₹65,000,000           Gurgaon, Haryana, India   \n",
       "3          Angel      2000000       Noida, Uttar Pradesh, India   \n",
       "4           Seed            —  Hyderabad, Andhra Pradesh, India   \n",
       "..           ...          ...                               ...   \n",
       "521     Series C    225000000       Bangalore, Karnataka, India   \n",
       "522     Series A            —           Haryana, Haryana, India   \n",
       "523         Seed         7500        Mumbai, Maharashtra, India   \n",
       "524         Seed  ₹35,000,000        Mumbai, Maharashtra, India   \n",
       "525     Series C     35000000        Chennai, Tamil Nadu, India   \n",
       "\n",
       "                                         About Company  year  \n",
       "0    TheCollegeFever is a hub for fun, fiesta and f...  2018  \n",
       "1    A startup which aggregates milk from dairy far...  2018  \n",
       "2            Leading Online Loans Marketplace in India  2018  \n",
       "3    PayMe India is an innovative FinTech organizat...  2018  \n",
       "4    Eunimart is a one stop solution for merchants ...  2018  \n",
       "..                                                 ...   ...  \n",
       "521  Udaan is a B2B trade platform, designed specif...  2018  \n",
       "522            HappyEasyGo is an online travel domain.  2018  \n",
       "523  Mombay is a unique opportunity for housewives ...  2018  \n",
       "524  Droni Tech manufacture UAVs and develop softwa...  2018  \n",
       "525       Welcome to India's most convenient pharmacy!  2018  \n",
       "\n",
       "[526 rows x 7 columns]"
      ]
     },
     "execution_count": 28,
     "metadata": {},
     "output_type": "execute_result"
    }
   ],
   "source": [
    "#Checking columns\n",
    "cols = ['Company Name', 'Industry', 'Round/Series', 'Amount', 'Location','About Company', 'year']\n",
    "\n",
    "(df_2018\n",
    " [cols]\n",
    ")"
   ]
  },
  {
   "cell_type": "markdown",
   "metadata": {},
   "source": [
    "**Observation:**\n",
    "1. The dataframe has 6 columns as opposed to the Expected 9. There is probably some missing/incomplete data from 2018.\n",
    "2. The column names are similar/same to those expected."
   ]
  },
  {
   "cell_type": "code",
   "execution_count": 29,
   "metadata": {},
   "outputs": [
    {
     "data": {
      "text/plain": [
       "Company Name     0\n",
       "Industry         0\n",
       "Round/Series     0\n",
       "Amount           0\n",
       "Location         0\n",
       "About Company    0\n",
       "year             0\n",
       "dtype: int64"
      ]
     },
     "execution_count": 29,
     "metadata": {},
     "output_type": "execute_result"
    }
   ],
   "source": [
    "#checking nulls\n",
    "(df_2018\n",
    ".isnull()\n",
    ".sum())"
   ]
  },
  {
   "cell_type": "markdown",
   "metadata": {},
   "source": [
    "**Observation**\n",
    "There are no nulls. So the DataFrame is missing some expected columns. Probably they weren't recorded."
   ]
  },
  {
   "cell_type": "code",
   "execution_count": 30,
   "metadata": {},
   "outputs": [
    {
     "data": {
      "text/plain": [
       "Company Name     object\n",
       "Industry         object\n",
       "Round/Series     object\n",
       "Amount           object\n",
       "Location         object\n",
       "About Company    object\n",
       "year              int64\n",
       "dtype: object"
      ]
     },
     "execution_count": 30,
     "metadata": {},
     "output_type": "execute_result"
    }
   ],
   "source": [
    "#checking dtypes\n",
    "(df_2018\n",
    " [cols]\n",
    " .dtypes)"
   ]
  },
  {
   "cell_type": "markdown",
   "metadata": {},
   "source": [
    "**Observation:**\n",
    "The datatypes are not as expected for Industry, Amount and Round/Series columns.\\\n",
    "**Decision**\n",
    "Delve further into the columns "
   ]
  },
  {
   "cell_type": "code",
   "execution_count": 31,
   "metadata": {},
   "outputs": [
    {
     "data": {
      "text/html": [
       "<div>\n",
       "<style scoped>\n",
       "    .dataframe tbody tr th:only-of-type {\n",
       "        vertical-align: middle;\n",
       "    }\n",
       "\n",
       "    .dataframe tbody tr th {\n",
       "        vertical-align: top;\n",
       "    }\n",
       "\n",
       "    .dataframe thead th {\n",
       "        text-align: right;\n",
       "    }\n",
       "</style>\n",
       "<table border=\"1\" class=\"dataframe\">\n",
       "  <thead>\n",
       "    <tr style=\"text-align: right;\">\n",
       "      <th></th>\n",
       "      <th>Industry</th>\n",
       "      <th>Amount</th>\n",
       "      <th>Round/Series</th>\n",
       "    </tr>\n",
       "  </thead>\n",
       "  <tbody>\n",
       "    <tr>\n",
       "      <th>count</th>\n",
       "      <td>526</td>\n",
       "      <td>526</td>\n",
       "      <td>526</td>\n",
       "    </tr>\n",
       "    <tr>\n",
       "      <th>unique</th>\n",
       "      <td>405</td>\n",
       "      <td>198</td>\n",
       "      <td>21</td>\n",
       "    </tr>\n",
       "    <tr>\n",
       "      <th>top</th>\n",
       "      <td>—</td>\n",
       "      <td>—</td>\n",
       "      <td>Seed</td>\n",
       "    </tr>\n",
       "    <tr>\n",
       "      <th>freq</th>\n",
       "      <td>30</td>\n",
       "      <td>148</td>\n",
       "      <td>280</td>\n",
       "    </tr>\n",
       "  </tbody>\n",
       "</table>\n",
       "</div>"
      ],
      "text/plain": [
       "       Industry Amount Round/Series\n",
       "count       526    526          526\n",
       "unique      405    198           21\n",
       "top           —      —         Seed\n",
       "freq         30    148          280"
      ]
     },
     "execution_count": 31,
     "metadata": {},
     "output_type": "execute_result"
    }
   ],
   "source": [
    "(df_2018\n",
    " [['Industry','Amount','Round/Series']]\n",
    " .describe()\n",
    " )"
   ]
  },
  {
   "cell_type": "markdown",
   "metadata": {},
   "source": [
    "#### **Amount Column Cleaning**"
   ]
  },
  {
   "cell_type": "code",
   "execution_count": 32,
   "metadata": {},
   "outputs": [
    {
     "data": {
      "text/plain": [
       "array(['250000', '₹40,000,000', '₹65,000,000', '2000000', '—', '1600000',\n",
       "       '₹16,000,000', '₹50,000,000', '—', '—', '—', '—', '—', '—', '—',\n",
       "       '₹100,000,000', '150000', '1100000', '—', '₹500,000', '6000000',\n",
       "       '650000', '₹35,000,000', '₹64,000,000', '—', '—', '2000000',\n",
       "       '2000000', '2000000', '—', '₹20,000,000', '1000000', '—', '650000',\n",
       "       '1000000', '5000000', '4000000', '₹30,000,000', '1000000',\n",
       "       '2800000', '—', '150000', '₹40,000,000', '1000000', '1700000', '—',\n",
       "       '1300000', '2000000', '—', '₹5,000,000', '₹20,000,000',\n",
       "       '₹40,000,000', '₹20,000,000', '1000000', '₹12,500,000',\n",
       "       '₹15,000,000', '500000', '5000000', '₹104,000,000', '₹45,000,000',\n",
       "       '13400000', '—', '500000', '—', '₹25,000,000', '—', '₹26,400,000',\n",
       "       '—', '—', '₹8,000,000', '₹60,000', '4000000', '9000000', '—',\n",
       "       '100000', '20000', '—', '1000000', '—', '4000000', '250000', '—',\n",
       "       '120000', '₹34,000,000', '—', '₹342,000,000', '$143,145', '—',\n",
       "       '₹600,000,000', '—', '$742,000,000', '₹1,000,000,000',\n",
       "       '₹2,000,000,000', '$3,980,000', '₹2,000,000,000', '$10,000', '—',\n",
       "       '₹1,000,000,000', '₹100,000', '₹250,000,000', '₹2,000,000,000',\n",
       "       '$1,000,000,000', '$7,000,000', '—', '$35,000,000', '₹550,000,000',\n",
       "       '$28,500,000', '₹30,000,000', '$2,000,000', '₹240,000,000', '—',\n",
       "       '—', '—', '₹120,000,000', '$2,400,000', '$30,000,000',\n",
       "       '₹2,500,000,000', '$23,000,000', '—', '$150,000', '—', '—',\n",
       "       '$11,000,000', '₹44,000,000', '$3,240,000', '—', '₹60,000,000',\n",
       "       '₹2,500,000,000', '—', '—', '$540,000,000', '₹650,000,000',\n",
       "       '₹1,600,000,000', '—', '$900,000', '$10,000,000', '—', '—',\n",
       "       '$1,500,000', '—', '₹50,000,000', '₹70,000,000', '—', '$1,000,000',\n",
       "       '$5,000,000', '₹16,000,000', '$14,000,000', '₹102,500,000',\n",
       "       '$100,000,000', '₹550,000,000', '—', '₹20,000,000', '$2,000,000',\n",
       "       '—', '₹1,200,000', '₹250,000,000', '₹5,200,000,000', '—', '—',\n",
       "       '$800,000', '$1,041,000', '$100,000', '$100,000', '—', '₹100,000',\n",
       "       '—', '$15,000', '500000', '1400000', '5000000', '1200000',\n",
       "       '₹50,000,000', '—', '1000000', '—', '2200000', '500000',\n",
       "       '₹100,000,000', '2000000', '1800000', '500000', '—', '150000',\n",
       "       '3600000', '500000', '₹9,500,000', '—', '300000', '500000',\n",
       "       '6830000', '1400000', '200000', '2000000', '₹150,000,000', '—',\n",
       "       '1000000', '4300000', '—', '—', '—', '300000', '—', '364846',\n",
       "       '4000000', '500000', '400000', '—', '1500000', '—', '120000',\n",
       "       '₹7,000,000', '₹1,400,000', '—', '500000', '—', '₹50,000,000', '—',\n",
       "       '—', '500000', '1000000', '₹10,000,000', '₹22,500,000',\n",
       "       '₹5,000,000', '13200000', '—', '—', '—', '500000', '1000000', '—',\n",
       "       '50000', '₹50,000,000', '200000', '₹140,200,000', '3000000',\n",
       "       '400000', '1100000', '500000', '1250000', '180000', '₹30,000,000',\n",
       "       '₹19,200,000', '₹103,000,000', '—', '₹40,000,000', '1000000',\n",
       "       '1500000', '2000000', '—', '4200000', '175000', '₹35,000,000', '—',\n",
       "       '₹100,000,000', '1300000', '—', '1450000', '—', '₹200,000',\n",
       "       '1000000', '4500000', '1000000', '500000', '600000', '250000',\n",
       "       '2000000', '—', '4500000', '₹16,600,000', '₹12,000,000', '1000000',\n",
       "       '—', '15000000', '₹20,000,000', '300000', '50000', '₹30,000,000',\n",
       "       '—', '—', '—', '—', '—', '—', '₹33,000,000', '125000', '4000000',\n",
       "       '1000000', '—', '130000', '300000', '—', '1000000', '2000000', '—',\n",
       "       '250000', '₹34,900,000', '—', '—', '₹72,000,000', '₹50,000,000',\n",
       "       '—', '—', '120000', '₹120,000,000', '17200000', '600000', '—', '—',\n",
       "       '₹35,000,000', '₹32,000,000', '100000', '1000000', '₹250,000,000',\n",
       "       '3500000', '—', '₹135,000,000', '—', '250000', '1100000',\n",
       "       '1000000', '—', '3000000', '—', '—', '—', '1500000', '1600000',\n",
       "       '200000', '12000000', '₹15,000,000', '₹20,000,000', '—', '1000000',\n",
       "       '₹10,000,000', '₹135,000,000', '3000000', '₹50,000,000',\n",
       "       '₹20,000,000', '—', '—', '4200000', '₹64,000,000', '₹50,000,000',\n",
       "       '—', '—', '—', '—', '—', '250000', '$10,000,000', '₹40,000,000',\n",
       "       '$40,000,000', '—', '$1,100,000', '$50,000,000', '$1,500,000',\n",
       "       '₹1,540,000,000', '—', '$3,000,000', '₹45,000,000', '$100,000,000',\n",
       "       '$1,500,000', '$6,000,000', '₹140,000,000', '₹60,000,000',\n",
       "       '$3,000,000', '—', '$100,000', '₹5,000,000', '$41,900,000',\n",
       "       '$11,000,000', '—', '$100,000,000', '₹1,410,000,000', '—',\n",
       "       '$3,530,000', '₹72,000,000', '$200,000', '$3,300,000',\n",
       "       '₹240,000,000', '$1,000,000', '—', '₹580,000,000', '—',\n",
       "       '$2,000,000', '$100,000', '$6,000,000', '₹36,000,000',\n",
       "       '₹340,000,000', '$210,000,000', '₹35,000,000', '₹70,000,000',\n",
       "       '$11,000,000', '—', '₹50,000,000', '₹70,000,000', '$5,000,000',\n",
       "       '$37,680,000', '—', '$50,000,000', '$1,000,000', '$250,000', '—',\n",
       "       '$20,000', '$900,000', '—', '₹1,200,000', '—', '5000000', '—',\n",
       "       '₹40,000,000', '₹510,000,000', '₹2,200,000,000', '5000000',\n",
       "       '1000000', '22000000', '—', '70000', '—', '10000000',\n",
       "       '₹15,392,000,000', '₹20,000,000,000', '₹4,000,000,000', '1000000',\n",
       "       '₹25,000,000', '185000000', '₹140,000,000', '—', '—', '—', '—',\n",
       "       '—', '—', '1000000', '65000000', '2000000', '—', '₹165,000,000',\n",
       "       '₹650,000,000', '—', '700000', '30000000', '—', '₹210,000,000',\n",
       "       '210000000', '4000000', '—', '₹20,000,000', '₹2,029,600,000',\n",
       "       '75000000', '₹600,000,000', '30000000', '₹80,000,000', '1760000',\n",
       "       '2700000', '400000', '₹280,000,000', '₹800,000,000', '750000',\n",
       "       '2500000', '—', '—', '80000000', '25000000', '₹730,000,000', '—',\n",
       "       '3000000', '—', '3500000', '₹400,000,000', '₹600,000,000',\n",
       "       '1100000', '3700000', '1300000', '₹140,000,000', '5600000',\n",
       "       '₹260,000,000', '—', '₹150,000,000', '—', '—', '₹12,000,000',\n",
       "       '99230000', '1000000', '70000000', '1000000', '2000000', '—',\n",
       "       '₹400,000,000', '40000', '550000', '—', '50000000', '50000000',\n",
       "       '365000000', '—', '₹8,750,000', '1500000', '30000000', '5000000',\n",
       "       '₹78,000,000', '4000000', '—', '28000000', '15000000', '—',\n",
       "       '5000000', '₹12,500,000', '—', '₹264,000,000', '—', '100000000',\n",
       "       '—', '₹1,130,000,000', '₹810,000,000', '—', '₹1,400,000,000',\n",
       "       '₹10,000,000', '—', '6000000', '14900000', '225000000', '—',\n",
       "       '7500', '₹35,000,000', '35000000'], dtype=object)"
      ]
     },
     "execution_count": 32,
     "metadata": {},
     "output_type": "execute_result"
    }
   ],
   "source": [
    "#Dealing with the Amount Column\n",
    "(df_2018\n",
    " ['Amount']\n",
    " .values\n",
    " )"
   ]
  },
  {
   "cell_type": "markdown",
   "metadata": {},
   "source": [
    "**Observations:**\n",
    "1. There are multiple currency symbols in the column.\\\n",
    "    Decision: Extract the currency symbols and put in a separate column\n",
    "2. There are commas in some values.\\\n",
    "    Decision: Remove the commas \n",
    "3. There are '-' in some rows\\\n",
    "    Decision: replace them with Nan "
   ]
  },
  {
   "cell_type": "code",
   "execution_count": 33,
   "metadata": {},
   "outputs": [
    {
     "data": {
      "text/html": [
       "<div>\n",
       "<style scoped>\n",
       "    .dataframe tbody tr th:only-of-type {\n",
       "        vertical-align: middle;\n",
       "    }\n",
       "\n",
       "    .dataframe tbody tr th {\n",
       "        vertical-align: top;\n",
       "    }\n",
       "\n",
       "    .dataframe thead th {\n",
       "        text-align: right;\n",
       "    }\n",
       "</style>\n",
       "<table border=\"1\" class=\"dataframe\">\n",
       "  <thead>\n",
       "    <tr style=\"text-align: right;\">\n",
       "      <th></th>\n",
       "      <th>Company Name</th>\n",
       "      <th>Industry</th>\n",
       "      <th>Round/Series</th>\n",
       "      <th>Amount</th>\n",
       "      <th>Location</th>\n",
       "      <th>About Company</th>\n",
       "      <th>year</th>\n",
       "      <th>Currency</th>\n",
       "    </tr>\n",
       "  </thead>\n",
       "  <tbody>\n",
       "    <tr>\n",
       "      <th>0</th>\n",
       "      <td>TheCollegeFever</td>\n",
       "      <td>Brand Marketing, Event Promotion, Marketing, S...</td>\n",
       "      <td>Seed</td>\n",
       "      <td>250000</td>\n",
       "      <td>Bangalore, Karnataka, India</td>\n",
       "      <td>TheCollegeFever is a hub for fun, fiesta and f...</td>\n",
       "      <td>2018</td>\n",
       "      <td>NaN</td>\n",
       "    </tr>\n",
       "    <tr>\n",
       "      <th>1</th>\n",
       "      <td>Happy Cow Dairy</td>\n",
       "      <td>Agriculture, Farming</td>\n",
       "      <td>Seed</td>\n",
       "      <td>₹40,000,000</td>\n",
       "      <td>Mumbai, Maharashtra, India</td>\n",
       "      <td>A startup which aggregates milk from dairy far...</td>\n",
       "      <td>2018</td>\n",
       "      <td>₹</td>\n",
       "    </tr>\n",
       "    <tr>\n",
       "      <th>2</th>\n",
       "      <td>MyLoanCare</td>\n",
       "      <td>Credit, Financial Services, Lending, Marketplace</td>\n",
       "      <td>Series A</td>\n",
       "      <td>₹65,000,000</td>\n",
       "      <td>Gurgaon, Haryana, India</td>\n",
       "      <td>Leading Online Loans Marketplace in India</td>\n",
       "      <td>2018</td>\n",
       "      <td>₹</td>\n",
       "    </tr>\n",
       "    <tr>\n",
       "      <th>3</th>\n",
       "      <td>PayMe India</td>\n",
       "      <td>Financial Services, FinTech</td>\n",
       "      <td>Angel</td>\n",
       "      <td>2000000</td>\n",
       "      <td>Noida, Uttar Pradesh, India</td>\n",
       "      <td>PayMe India is an innovative FinTech organizat...</td>\n",
       "      <td>2018</td>\n",
       "      <td>NaN</td>\n",
       "    </tr>\n",
       "    <tr>\n",
       "      <th>4</th>\n",
       "      <td>Eunimart</td>\n",
       "      <td>E-Commerce Platforms, Retail, SaaS</td>\n",
       "      <td>Seed</td>\n",
       "      <td>—</td>\n",
       "      <td>Hyderabad, Andhra Pradesh, India</td>\n",
       "      <td>Eunimart is a one stop solution for merchants ...</td>\n",
       "      <td>2018</td>\n",
       "      <td>NaN</td>\n",
       "    </tr>\n",
       "    <tr>\n",
       "      <th>...</th>\n",
       "      <td>...</td>\n",
       "      <td>...</td>\n",
       "      <td>...</td>\n",
       "      <td>...</td>\n",
       "      <td>...</td>\n",
       "      <td>...</td>\n",
       "      <td>...</td>\n",
       "      <td>...</td>\n",
       "    </tr>\n",
       "    <tr>\n",
       "      <th>521</th>\n",
       "      <td>Udaan</td>\n",
       "      <td>B2B, Business Development, Internet, Marketplace</td>\n",
       "      <td>Series C</td>\n",
       "      <td>225000000</td>\n",
       "      <td>Bangalore, Karnataka, India</td>\n",
       "      <td>Udaan is a B2B trade platform, designed specif...</td>\n",
       "      <td>2018</td>\n",
       "      <td>NaN</td>\n",
       "    </tr>\n",
       "    <tr>\n",
       "      <th>522</th>\n",
       "      <td>Happyeasygo Group</td>\n",
       "      <td>Tourism, Travel</td>\n",
       "      <td>Series A</td>\n",
       "      <td>—</td>\n",
       "      <td>Haryana, Haryana, India</td>\n",
       "      <td>HappyEasyGo is an online travel domain.</td>\n",
       "      <td>2018</td>\n",
       "      <td>NaN</td>\n",
       "    </tr>\n",
       "    <tr>\n",
       "      <th>523</th>\n",
       "      <td>Mombay</td>\n",
       "      <td>Food and Beverage, Food Delivery, Internet</td>\n",
       "      <td>Seed</td>\n",
       "      <td>7500</td>\n",
       "      <td>Mumbai, Maharashtra, India</td>\n",
       "      <td>Mombay is a unique opportunity for housewives ...</td>\n",
       "      <td>2018</td>\n",
       "      <td>NaN</td>\n",
       "    </tr>\n",
       "    <tr>\n",
       "      <th>524</th>\n",
       "      <td>Droni Tech</td>\n",
       "      <td>Information Technology</td>\n",
       "      <td>Seed</td>\n",
       "      <td>₹35,000,000</td>\n",
       "      <td>Mumbai, Maharashtra, India</td>\n",
       "      <td>Droni Tech manufacture UAVs and develop softwa...</td>\n",
       "      <td>2018</td>\n",
       "      <td>₹</td>\n",
       "    </tr>\n",
       "    <tr>\n",
       "      <th>525</th>\n",
       "      <td>Netmeds</td>\n",
       "      <td>Biotechnology, Health Care, Pharmaceutical</td>\n",
       "      <td>Series C</td>\n",
       "      <td>35000000</td>\n",
       "      <td>Chennai, Tamil Nadu, India</td>\n",
       "      <td>Welcome to India's most convenient pharmacy!</td>\n",
       "      <td>2018</td>\n",
       "      <td>NaN</td>\n",
       "    </tr>\n",
       "  </tbody>\n",
       "</table>\n",
       "<p>526 rows × 8 columns</p>\n",
       "</div>"
      ],
      "text/plain": [
       "          Company Name                                           Industry  \\\n",
       "0      TheCollegeFever  Brand Marketing, Event Promotion, Marketing, S...   \n",
       "1      Happy Cow Dairy                               Agriculture, Farming   \n",
       "2           MyLoanCare   Credit, Financial Services, Lending, Marketplace   \n",
       "3          PayMe India                        Financial Services, FinTech   \n",
       "4             Eunimart                 E-Commerce Platforms, Retail, SaaS   \n",
       "..                 ...                                                ...   \n",
       "521              Udaan   B2B, Business Development, Internet, Marketplace   \n",
       "522  Happyeasygo Group                                    Tourism, Travel   \n",
       "523             Mombay         Food and Beverage, Food Delivery, Internet   \n",
       "524         Droni Tech                             Information Technology   \n",
       "525            Netmeds         Biotechnology, Health Care, Pharmaceutical   \n",
       "\n",
       "    Round/Series       Amount                          Location  \\\n",
       "0           Seed       250000       Bangalore, Karnataka, India   \n",
       "1           Seed  ₹40,000,000        Mumbai, Maharashtra, India   \n",
       "2       Series A  ₹65,000,000           Gurgaon, Haryana, India   \n",
       "3          Angel      2000000       Noida, Uttar Pradesh, India   \n",
       "4           Seed            —  Hyderabad, Andhra Pradesh, India   \n",
       "..           ...          ...                               ...   \n",
       "521     Series C    225000000       Bangalore, Karnataka, India   \n",
       "522     Series A            —           Haryana, Haryana, India   \n",
       "523         Seed         7500        Mumbai, Maharashtra, India   \n",
       "524         Seed  ₹35,000,000        Mumbai, Maharashtra, India   \n",
       "525     Series C     35000000        Chennai, Tamil Nadu, India   \n",
       "\n",
       "                                         About Company  year Currency  \n",
       "0    TheCollegeFever is a hub for fun, fiesta and f...  2018      NaN  \n",
       "1    A startup which aggregates milk from dairy far...  2018        ₹  \n",
       "2            Leading Online Loans Marketplace in India  2018        ₹  \n",
       "3    PayMe India is an innovative FinTech organizat...  2018      NaN  \n",
       "4    Eunimart is a one stop solution for merchants ...  2018      NaN  \n",
       "..                                                 ...   ...      ...  \n",
       "521  Udaan is a B2B trade platform, designed specif...  2018      NaN  \n",
       "522            HappyEasyGo is an online travel domain.  2018      NaN  \n",
       "523  Mombay is a unique opportunity for housewives ...  2018      NaN  \n",
       "524  Droni Tech manufacture UAVs and develop softwa...  2018        ₹  \n",
       "525       Welcome to India's most convenient pharmacy!  2018      NaN  \n",
       "\n",
       "[526 rows x 8 columns]"
      ]
     },
     "execution_count": 33,
     "metadata": {},
     "output_type": "execute_result"
    }
   ],
   "source": [
    "#defining a function to extract the currrency symbols\n",
    "def extract_currency(df, column_name, curr_char):\n",
    "    \"\"\"\n",
    "    Checks if values in the specified column that start with the given currency character.\n",
    "    If they do, extracts the currency character and saves it in a new column.\n",
    "\n",
    "    Args:\n",
    "        df (pandas.DataFrame): The DataFrame containing the data.\n",
    "        column_name (str): The name of the column to check.\n",
    "        curr_char (str): The special character to look for.\n",
    "\n",
    "    Returns:\n",
    "        pandas.DataFrame: The modified DataFrame with the new column.\n",
    "    \"\"\"\n",
    "    # Check if values start with the specified special character\n",
    "    mask = df[column_name].str.startswith(curr_char)\n",
    "\n",
    "    # Create a new column with the extracted special character\n",
    "    df['Currency'] = df.loc[mask, column_name].str[0]\n",
    "\n",
    "    return df\n",
    "\n",
    "#extracting and saving the currency symbols to a new column\n",
    "extract_currency(df_2018, 'Amount', curr_char=('$','₹'))"
   ]
  },
  {
   "cell_type": "code",
   "execution_count": 34,
   "metadata": {},
   "outputs": [
    {
     "data": {
      "text/html": [
       "<div>\n",
       "<style scoped>\n",
       "    .dataframe tbody tr th:only-of-type {\n",
       "        vertical-align: middle;\n",
       "    }\n",
       "\n",
       "    .dataframe tbody tr th {\n",
       "        vertical-align: top;\n",
       "    }\n",
       "\n",
       "    .dataframe thead th {\n",
       "        text-align: right;\n",
       "    }\n",
       "</style>\n",
       "<table border=\"1\" class=\"dataframe\">\n",
       "  <thead>\n",
       "    <tr style=\"text-align: right;\">\n",
       "      <th></th>\n",
       "      <th>Company Name</th>\n",
       "      <th>Industry</th>\n",
       "      <th>Round/Series</th>\n",
       "      <th>Amount</th>\n",
       "      <th>Location</th>\n",
       "      <th>About Company</th>\n",
       "      <th>year</th>\n",
       "      <th>Currency</th>\n",
       "    </tr>\n",
       "  </thead>\n",
       "  <tbody>\n",
       "    <tr>\n",
       "      <th>0</th>\n",
       "      <td>TheCollegeFever</td>\n",
       "      <td>Brand Marketing, Event Promotion, Marketing, S...</td>\n",
       "      <td>Seed</td>\n",
       "      <td>250000.0</td>\n",
       "      <td>Bangalore, Karnataka, India</td>\n",
       "      <td>TheCollegeFever is a hub for fun, fiesta and f...</td>\n",
       "      <td>2018</td>\n",
       "      <td>NaN</td>\n",
       "    </tr>\n",
       "    <tr>\n",
       "      <th>1</th>\n",
       "      <td>Happy Cow Dairy</td>\n",
       "      <td>Agriculture, Farming</td>\n",
       "      <td>Seed</td>\n",
       "      <td>40000000.0</td>\n",
       "      <td>Mumbai, Maharashtra, India</td>\n",
       "      <td>A startup which aggregates milk from dairy far...</td>\n",
       "      <td>2018</td>\n",
       "      <td>₹</td>\n",
       "    </tr>\n",
       "    <tr>\n",
       "      <th>2</th>\n",
       "      <td>MyLoanCare</td>\n",
       "      <td>Credit, Financial Services, Lending, Marketplace</td>\n",
       "      <td>Series A</td>\n",
       "      <td>65000000.0</td>\n",
       "      <td>Gurgaon, Haryana, India</td>\n",
       "      <td>Leading Online Loans Marketplace in India</td>\n",
       "      <td>2018</td>\n",
       "      <td>₹</td>\n",
       "    </tr>\n",
       "    <tr>\n",
       "      <th>3</th>\n",
       "      <td>PayMe India</td>\n",
       "      <td>Financial Services, FinTech</td>\n",
       "      <td>Angel</td>\n",
       "      <td>2000000.0</td>\n",
       "      <td>Noida, Uttar Pradesh, India</td>\n",
       "      <td>PayMe India is an innovative FinTech organizat...</td>\n",
       "      <td>2018</td>\n",
       "      <td>NaN</td>\n",
       "    </tr>\n",
       "    <tr>\n",
       "      <th>4</th>\n",
       "      <td>Eunimart</td>\n",
       "      <td>E-Commerce Platforms, Retail, SaaS</td>\n",
       "      <td>Seed</td>\n",
       "      <td>NaN</td>\n",
       "      <td>Hyderabad, Andhra Pradesh, India</td>\n",
       "      <td>Eunimart is a one stop solution for merchants ...</td>\n",
       "      <td>2018</td>\n",
       "      <td>NaN</td>\n",
       "    </tr>\n",
       "    <tr>\n",
       "      <th>...</th>\n",
       "      <td>...</td>\n",
       "      <td>...</td>\n",
       "      <td>...</td>\n",
       "      <td>...</td>\n",
       "      <td>...</td>\n",
       "      <td>...</td>\n",
       "      <td>...</td>\n",
       "      <td>...</td>\n",
       "    </tr>\n",
       "    <tr>\n",
       "      <th>521</th>\n",
       "      <td>Udaan</td>\n",
       "      <td>B2B, Business Development, Internet, Marketplace</td>\n",
       "      <td>Series C</td>\n",
       "      <td>225000000.0</td>\n",
       "      <td>Bangalore, Karnataka, India</td>\n",
       "      <td>Udaan is a B2B trade platform, designed specif...</td>\n",
       "      <td>2018</td>\n",
       "      <td>NaN</td>\n",
       "    </tr>\n",
       "    <tr>\n",
       "      <th>522</th>\n",
       "      <td>Happyeasygo Group</td>\n",
       "      <td>Tourism, Travel</td>\n",
       "      <td>Series A</td>\n",
       "      <td>NaN</td>\n",
       "      <td>Haryana, Haryana, India</td>\n",
       "      <td>HappyEasyGo is an online travel domain.</td>\n",
       "      <td>2018</td>\n",
       "      <td>NaN</td>\n",
       "    </tr>\n",
       "    <tr>\n",
       "      <th>523</th>\n",
       "      <td>Mombay</td>\n",
       "      <td>Food and Beverage, Food Delivery, Internet</td>\n",
       "      <td>Seed</td>\n",
       "      <td>7500.0</td>\n",
       "      <td>Mumbai, Maharashtra, India</td>\n",
       "      <td>Mombay is a unique opportunity for housewives ...</td>\n",
       "      <td>2018</td>\n",
       "      <td>NaN</td>\n",
       "    </tr>\n",
       "    <tr>\n",
       "      <th>524</th>\n",
       "      <td>Droni Tech</td>\n",
       "      <td>Information Technology</td>\n",
       "      <td>Seed</td>\n",
       "      <td>35000000.0</td>\n",
       "      <td>Mumbai, Maharashtra, India</td>\n",
       "      <td>Droni Tech manufacture UAVs and develop softwa...</td>\n",
       "      <td>2018</td>\n",
       "      <td>₹</td>\n",
       "    </tr>\n",
       "    <tr>\n",
       "      <th>525</th>\n",
       "      <td>Netmeds</td>\n",
       "      <td>Biotechnology, Health Care, Pharmaceutical</td>\n",
       "      <td>Series C</td>\n",
       "      <td>35000000.0</td>\n",
       "      <td>Chennai, Tamil Nadu, India</td>\n",
       "      <td>Welcome to India's most convenient pharmacy!</td>\n",
       "      <td>2018</td>\n",
       "      <td>NaN</td>\n",
       "    </tr>\n",
       "  </tbody>\n",
       "</table>\n",
       "<p>526 rows × 8 columns</p>\n",
       "</div>"
      ],
      "text/plain": [
       "          Company Name                                           Industry  \\\n",
       "0      TheCollegeFever  Brand Marketing, Event Promotion, Marketing, S...   \n",
       "1      Happy Cow Dairy                               Agriculture, Farming   \n",
       "2           MyLoanCare   Credit, Financial Services, Lending, Marketplace   \n",
       "3          PayMe India                        Financial Services, FinTech   \n",
       "4             Eunimart                 E-Commerce Platforms, Retail, SaaS   \n",
       "..                 ...                                                ...   \n",
       "521              Udaan   B2B, Business Development, Internet, Marketplace   \n",
       "522  Happyeasygo Group                                    Tourism, Travel   \n",
       "523             Mombay         Food and Beverage, Food Delivery, Internet   \n",
       "524         Droni Tech                             Information Technology   \n",
       "525            Netmeds         Biotechnology, Health Care, Pharmaceutical   \n",
       "\n",
       "    Round/Series       Amount                          Location  \\\n",
       "0           Seed     250000.0       Bangalore, Karnataka, India   \n",
       "1           Seed   40000000.0        Mumbai, Maharashtra, India   \n",
       "2       Series A   65000000.0           Gurgaon, Haryana, India   \n",
       "3          Angel    2000000.0       Noida, Uttar Pradesh, India   \n",
       "4           Seed          NaN  Hyderabad, Andhra Pradesh, India   \n",
       "..           ...          ...                               ...   \n",
       "521     Series C  225000000.0       Bangalore, Karnataka, India   \n",
       "522     Series A          NaN           Haryana, Haryana, India   \n",
       "523         Seed       7500.0        Mumbai, Maharashtra, India   \n",
       "524         Seed   35000000.0        Mumbai, Maharashtra, India   \n",
       "525     Series C   35000000.0        Chennai, Tamil Nadu, India   \n",
       "\n",
       "                                         About Company  year Currency  \n",
       "0    TheCollegeFever is a hub for fun, fiesta and f...  2018      NaN  \n",
       "1    A startup which aggregates milk from dairy far...  2018        ₹  \n",
       "2            Leading Online Loans Marketplace in India  2018        ₹  \n",
       "3    PayMe India is an innovative FinTech organizat...  2018      NaN  \n",
       "4    Eunimart is a one stop solution for merchants ...  2018      NaN  \n",
       "..                                                 ...   ...      ...  \n",
       "521  Udaan is a B2B trade platform, designed specif...  2018      NaN  \n",
       "522            HappyEasyGo is an online travel domain.  2018      NaN  \n",
       "523  Mombay is a unique opportunity for housewives ...  2018      NaN  \n",
       "524  Droni Tech manufacture UAVs and develop softwa...  2018        ₹  \n",
       "525       Welcome to India's most convenient pharmacy!  2018      NaN  \n",
       "\n",
       "[526 rows x 8 columns]"
      ]
     },
     "execution_count": 34,
     "metadata": {},
     "output_type": "execute_result"
    }
   ],
   "source": [
    "#cleaning the amount column and changing to float datatype\n",
    "df_2018['Amount'] = (df_2018\n",
    "                     ['Amount']\n",
    "                     .str\n",
    "                     .replace(',|\\$|₹','', regex= True) #Remove the comma sign and the currency symbols\n",
    "                     .replace('—', np.NaN, regex=True) #Replace the - with Null\n",
    "                     .astype(float) #changing to float datatype\n",
    "                     )\n",
    "df_2018"
   ]
  },
  {
   "cell_type": "markdown",
   "metadata": {},
   "source": [
    "**Observations:**\n",
    "The Amounts are in differenct currencies.\\\n",
    "**Decision:**\n",
    "Convert all Ruppee amounts to USD\n",
    "\n",
    "* **Key Assumption**: We assume that all amounts without a currency symbol are in USD"
   ]
  },
  {
   "cell_type": "code",
   "execution_count": 35,
   "metadata": {},
   "outputs": [
    {
     "data": {
      "text/html": [
       "<div>\n",
       "<style scoped>\n",
       "    .dataframe tbody tr th:only-of-type {\n",
       "        vertical-align: middle;\n",
       "    }\n",
       "\n",
       "    .dataframe tbody tr th {\n",
       "        vertical-align: top;\n",
       "    }\n",
       "\n",
       "    .dataframe thead th {\n",
       "        text-align: right;\n",
       "    }\n",
       "</style>\n",
       "<table border=\"1\" class=\"dataframe\">\n",
       "  <thead>\n",
       "    <tr style=\"text-align: right;\">\n",
       "      <th></th>\n",
       "      <th>Company Name</th>\n",
       "      <th>Industry</th>\n",
       "      <th>Round/Series</th>\n",
       "      <th>Amount</th>\n",
       "      <th>Location</th>\n",
       "      <th>About Company</th>\n",
       "      <th>year</th>\n",
       "      <th>Currency</th>\n",
       "    </tr>\n",
       "  </thead>\n",
       "  <tbody>\n",
       "    <tr>\n",
       "      <th>0</th>\n",
       "      <td>TheCollegeFever</td>\n",
       "      <td>Brand Marketing, Event Promotion, Marketing, S...</td>\n",
       "      <td>Seed</td>\n",
       "      <td>250000.0</td>\n",
       "      <td>Bangalore, Karnataka, India</td>\n",
       "      <td>TheCollegeFever is a hub for fun, fiesta and f...</td>\n",
       "      <td>2018</td>\n",
       "      <td>NaN</td>\n",
       "    </tr>\n",
       "    <tr>\n",
       "      <th>1</th>\n",
       "      <td>Happy Cow Dairy</td>\n",
       "      <td>Agriculture, Farming</td>\n",
       "      <td>Seed</td>\n",
       "      <td>480000.0</td>\n",
       "      <td>Mumbai, Maharashtra, India</td>\n",
       "      <td>A startup which aggregates milk from dairy far...</td>\n",
       "      <td>2018</td>\n",
       "      <td>₹</td>\n",
       "    </tr>\n",
       "    <tr>\n",
       "      <th>2</th>\n",
       "      <td>MyLoanCare</td>\n",
       "      <td>Credit, Financial Services, Lending, Marketplace</td>\n",
       "      <td>Series A</td>\n",
       "      <td>780000.0</td>\n",
       "      <td>Gurgaon, Haryana, India</td>\n",
       "      <td>Leading Online Loans Marketplace in India</td>\n",
       "      <td>2018</td>\n",
       "      <td>₹</td>\n",
       "    </tr>\n",
       "    <tr>\n",
       "      <th>3</th>\n",
       "      <td>PayMe India</td>\n",
       "      <td>Financial Services, FinTech</td>\n",
       "      <td>Angel</td>\n",
       "      <td>2000000.0</td>\n",
       "      <td>Noida, Uttar Pradesh, India</td>\n",
       "      <td>PayMe India is an innovative FinTech organizat...</td>\n",
       "      <td>2018</td>\n",
       "      <td>NaN</td>\n",
       "    </tr>\n",
       "    <tr>\n",
       "      <th>4</th>\n",
       "      <td>Eunimart</td>\n",
       "      <td>E-Commerce Platforms, Retail, SaaS</td>\n",
       "      <td>Seed</td>\n",
       "      <td>NaN</td>\n",
       "      <td>Hyderabad, Andhra Pradesh, India</td>\n",
       "      <td>Eunimart is a one stop solution for merchants ...</td>\n",
       "      <td>2018</td>\n",
       "      <td>NaN</td>\n",
       "    </tr>\n",
       "    <tr>\n",
       "      <th>...</th>\n",
       "      <td>...</td>\n",
       "      <td>...</td>\n",
       "      <td>...</td>\n",
       "      <td>...</td>\n",
       "      <td>...</td>\n",
       "      <td>...</td>\n",
       "      <td>...</td>\n",
       "      <td>...</td>\n",
       "    </tr>\n",
       "    <tr>\n",
       "      <th>521</th>\n",
       "      <td>Udaan</td>\n",
       "      <td>B2B, Business Development, Internet, Marketplace</td>\n",
       "      <td>Series C</td>\n",
       "      <td>225000000.0</td>\n",
       "      <td>Bangalore, Karnataka, India</td>\n",
       "      <td>Udaan is a B2B trade platform, designed specif...</td>\n",
       "      <td>2018</td>\n",
       "      <td>NaN</td>\n",
       "    </tr>\n",
       "    <tr>\n",
       "      <th>522</th>\n",
       "      <td>Happyeasygo Group</td>\n",
       "      <td>Tourism, Travel</td>\n",
       "      <td>Series A</td>\n",
       "      <td>NaN</td>\n",
       "      <td>Haryana, Haryana, India</td>\n",
       "      <td>HappyEasyGo is an online travel domain.</td>\n",
       "      <td>2018</td>\n",
       "      <td>NaN</td>\n",
       "    </tr>\n",
       "    <tr>\n",
       "      <th>523</th>\n",
       "      <td>Mombay</td>\n",
       "      <td>Food and Beverage, Food Delivery, Internet</td>\n",
       "      <td>Seed</td>\n",
       "      <td>7500.0</td>\n",
       "      <td>Mumbai, Maharashtra, India</td>\n",
       "      <td>Mombay is a unique opportunity for housewives ...</td>\n",
       "      <td>2018</td>\n",
       "      <td>NaN</td>\n",
       "    </tr>\n",
       "    <tr>\n",
       "      <th>524</th>\n",
       "      <td>Droni Tech</td>\n",
       "      <td>Information Technology</td>\n",
       "      <td>Seed</td>\n",
       "      <td>420000.0</td>\n",
       "      <td>Mumbai, Maharashtra, India</td>\n",
       "      <td>Droni Tech manufacture UAVs and develop softwa...</td>\n",
       "      <td>2018</td>\n",
       "      <td>₹</td>\n",
       "    </tr>\n",
       "    <tr>\n",
       "      <th>525</th>\n",
       "      <td>Netmeds</td>\n",
       "      <td>Biotechnology, Health Care, Pharmaceutical</td>\n",
       "      <td>Series C</td>\n",
       "      <td>35000000.0</td>\n",
       "      <td>Chennai, Tamil Nadu, India</td>\n",
       "      <td>Welcome to India's most convenient pharmacy!</td>\n",
       "      <td>2018</td>\n",
       "      <td>NaN</td>\n",
       "    </tr>\n",
       "  </tbody>\n",
       "</table>\n",
       "<p>526 rows × 8 columns</p>\n",
       "</div>"
      ],
      "text/plain": [
       "          Company Name                                           Industry  \\\n",
       "0      TheCollegeFever  Brand Marketing, Event Promotion, Marketing, S...   \n",
       "1      Happy Cow Dairy                               Agriculture, Farming   \n",
       "2           MyLoanCare   Credit, Financial Services, Lending, Marketplace   \n",
       "3          PayMe India                        Financial Services, FinTech   \n",
       "4             Eunimart                 E-Commerce Platforms, Retail, SaaS   \n",
       "..                 ...                                                ...   \n",
       "521              Udaan   B2B, Business Development, Internet, Marketplace   \n",
       "522  Happyeasygo Group                                    Tourism, Travel   \n",
       "523             Mombay         Food and Beverage, Food Delivery, Internet   \n",
       "524         Droni Tech                             Information Technology   \n",
       "525            Netmeds         Biotechnology, Health Care, Pharmaceutical   \n",
       "\n",
       "    Round/Series       Amount                          Location  \\\n",
       "0           Seed     250000.0       Bangalore, Karnataka, India   \n",
       "1           Seed     480000.0        Mumbai, Maharashtra, India   \n",
       "2       Series A     780000.0           Gurgaon, Haryana, India   \n",
       "3          Angel    2000000.0       Noida, Uttar Pradesh, India   \n",
       "4           Seed          NaN  Hyderabad, Andhra Pradesh, India   \n",
       "..           ...          ...                               ...   \n",
       "521     Series C  225000000.0       Bangalore, Karnataka, India   \n",
       "522     Series A          NaN           Haryana, Haryana, India   \n",
       "523         Seed       7500.0        Mumbai, Maharashtra, India   \n",
       "524         Seed     420000.0        Mumbai, Maharashtra, India   \n",
       "525     Series C   35000000.0        Chennai, Tamil Nadu, India   \n",
       "\n",
       "                                         About Company  year Currency  \n",
       "0    TheCollegeFever is a hub for fun, fiesta and f...  2018      NaN  \n",
       "1    A startup which aggregates milk from dairy far...  2018        ₹  \n",
       "2            Leading Online Loans Marketplace in India  2018        ₹  \n",
       "3    PayMe India is an innovative FinTech organizat...  2018      NaN  \n",
       "4    Eunimart is a one stop solution for merchants ...  2018      NaN  \n",
       "..                                                 ...   ...      ...  \n",
       "521  Udaan is a B2B trade platform, designed specif...  2018      NaN  \n",
       "522            HappyEasyGo is an online travel domain.  2018      NaN  \n",
       "523  Mombay is a unique opportunity for housewives ...  2018      NaN  \n",
       "524  Droni Tech manufacture UAVs and develop softwa...  2018        ₹  \n",
       "525       Welcome to India's most convenient pharmacy!  2018      NaN  \n",
       "\n",
       "[526 rows x 8 columns]"
      ]
     },
     "execution_count": 35,
     "metadata": {},
     "output_type": "execute_result"
    }
   ],
   "source": [
    "#converting ₹ to dollars.\n",
    "def currency_converter(df, target, check, rate = 0.012):\n",
    "    '''A function to convert the values of received in Rupees to Dollars.\n",
    "    It checks the currency symbol from one column and them multiplies the target column with the conversion rate\n",
    "    \n",
    "    Args:\n",
    "        df (pandas.DataFrame): The DataFrame containing the data.\n",
    "        target (str): The name of the column to convert.\n",
    "        check (str): The name of the column to check currency symbol.\n",
    "        rate (float): The conversion rate.\n",
    "\n",
    "    Returns:\n",
    "        pandas.DataFrame: The modified DataFrame.\n",
    "    '''\n",
    "    # Conversion rate of 1 ruppee to dollar in 2018 was = 0.012 \n",
    "    \n",
    "    # Check if the currency symbol matches the desired currency\n",
    "    mask = df[check] == '₹'  # Modify this condition as needed\n",
    "\n",
    "    # Multiply the amount column by the exchange rate for matching rows\n",
    "    df.loc[mask, target] *= rate\n",
    "\n",
    "    return df\n",
    "\n",
    "#converting all ruppee amounts to usd\n",
    "currency_converter(df=df_2018, target='Amount', check='Currency')"
   ]
  },
  {
   "cell_type": "code",
   "execution_count": 36,
   "metadata": {},
   "outputs": [
    {
     "data": {
      "text/html": [
       "<div>\n",
       "<style scoped>\n",
       "    .dataframe tbody tr th:only-of-type {\n",
       "        vertical-align: middle;\n",
       "    }\n",
       "\n",
       "    .dataframe tbody tr th {\n",
       "        vertical-align: top;\n",
       "    }\n",
       "\n",
       "    .dataframe thead th {\n",
       "        text-align: right;\n",
       "    }\n",
       "</style>\n",
       "<table border=\"1\" class=\"dataframe\">\n",
       "  <thead>\n",
       "    <tr style=\"text-align: right;\">\n",
       "      <th></th>\n",
       "      <th>Company Name</th>\n",
       "      <th>Industry</th>\n",
       "      <th>Round/Series</th>\n",
       "      <th>Amount</th>\n",
       "      <th>Location</th>\n",
       "      <th>About Company</th>\n",
       "      <th>year</th>\n",
       "    </tr>\n",
       "  </thead>\n",
       "  <tbody>\n",
       "    <tr>\n",
       "      <th>0</th>\n",
       "      <td>TheCollegeFever</td>\n",
       "      <td>Brand Marketing, Event Promotion, Marketing, S...</td>\n",
       "      <td>Seed</td>\n",
       "      <td>250000.0</td>\n",
       "      <td>Bangalore, Karnataka, India</td>\n",
       "      <td>TheCollegeFever is a hub for fun, fiesta and f...</td>\n",
       "      <td>2018</td>\n",
       "    </tr>\n",
       "    <tr>\n",
       "      <th>1</th>\n",
       "      <td>Happy Cow Dairy</td>\n",
       "      <td>Agriculture, Farming</td>\n",
       "      <td>Seed</td>\n",
       "      <td>480000.0</td>\n",
       "      <td>Mumbai, Maharashtra, India</td>\n",
       "      <td>A startup which aggregates milk from dairy far...</td>\n",
       "      <td>2018</td>\n",
       "    </tr>\n",
       "    <tr>\n",
       "      <th>2</th>\n",
       "      <td>MyLoanCare</td>\n",
       "      <td>Credit, Financial Services, Lending, Marketplace</td>\n",
       "      <td>Series A</td>\n",
       "      <td>780000.0</td>\n",
       "      <td>Gurgaon, Haryana, India</td>\n",
       "      <td>Leading Online Loans Marketplace in India</td>\n",
       "      <td>2018</td>\n",
       "    </tr>\n",
       "    <tr>\n",
       "      <th>3</th>\n",
       "      <td>PayMe India</td>\n",
       "      <td>Financial Services, FinTech</td>\n",
       "      <td>Angel</td>\n",
       "      <td>2000000.0</td>\n",
       "      <td>Noida, Uttar Pradesh, India</td>\n",
       "      <td>PayMe India is an innovative FinTech organizat...</td>\n",
       "      <td>2018</td>\n",
       "    </tr>\n",
       "    <tr>\n",
       "      <th>4</th>\n",
       "      <td>Eunimart</td>\n",
       "      <td>E-Commerce Platforms, Retail, SaaS</td>\n",
       "      <td>Seed</td>\n",
       "      <td>NaN</td>\n",
       "      <td>Hyderabad, Andhra Pradesh, India</td>\n",
       "      <td>Eunimart is a one stop solution for merchants ...</td>\n",
       "      <td>2018</td>\n",
       "    </tr>\n",
       "    <tr>\n",
       "      <th>...</th>\n",
       "      <td>...</td>\n",
       "      <td>...</td>\n",
       "      <td>...</td>\n",
       "      <td>...</td>\n",
       "      <td>...</td>\n",
       "      <td>...</td>\n",
       "      <td>...</td>\n",
       "    </tr>\n",
       "    <tr>\n",
       "      <th>521</th>\n",
       "      <td>Udaan</td>\n",
       "      <td>B2B, Business Development, Internet, Marketplace</td>\n",
       "      <td>Series C</td>\n",
       "      <td>225000000.0</td>\n",
       "      <td>Bangalore, Karnataka, India</td>\n",
       "      <td>Udaan is a B2B trade platform, designed specif...</td>\n",
       "      <td>2018</td>\n",
       "    </tr>\n",
       "    <tr>\n",
       "      <th>522</th>\n",
       "      <td>Happyeasygo Group</td>\n",
       "      <td>Tourism, Travel</td>\n",
       "      <td>Series A</td>\n",
       "      <td>NaN</td>\n",
       "      <td>Haryana, Haryana, India</td>\n",
       "      <td>HappyEasyGo is an online travel domain.</td>\n",
       "      <td>2018</td>\n",
       "    </tr>\n",
       "    <tr>\n",
       "      <th>523</th>\n",
       "      <td>Mombay</td>\n",
       "      <td>Food and Beverage, Food Delivery, Internet</td>\n",
       "      <td>Seed</td>\n",
       "      <td>7500.0</td>\n",
       "      <td>Mumbai, Maharashtra, India</td>\n",
       "      <td>Mombay is a unique opportunity for housewives ...</td>\n",
       "      <td>2018</td>\n",
       "    </tr>\n",
       "    <tr>\n",
       "      <th>524</th>\n",
       "      <td>Droni Tech</td>\n",
       "      <td>Information Technology</td>\n",
       "      <td>Seed</td>\n",
       "      <td>420000.0</td>\n",
       "      <td>Mumbai, Maharashtra, India</td>\n",
       "      <td>Droni Tech manufacture UAVs and develop softwa...</td>\n",
       "      <td>2018</td>\n",
       "    </tr>\n",
       "    <tr>\n",
       "      <th>525</th>\n",
       "      <td>Netmeds</td>\n",
       "      <td>Biotechnology, Health Care, Pharmaceutical</td>\n",
       "      <td>Series C</td>\n",
       "      <td>35000000.0</td>\n",
       "      <td>Chennai, Tamil Nadu, India</td>\n",
       "      <td>Welcome to India's most convenient pharmacy!</td>\n",
       "      <td>2018</td>\n",
       "    </tr>\n",
       "  </tbody>\n",
       "</table>\n",
       "<p>526 rows × 7 columns</p>\n",
       "</div>"
      ],
      "text/plain": [
       "          Company Name                                           Industry  \\\n",
       "0      TheCollegeFever  Brand Marketing, Event Promotion, Marketing, S...   \n",
       "1      Happy Cow Dairy                               Agriculture, Farming   \n",
       "2           MyLoanCare   Credit, Financial Services, Lending, Marketplace   \n",
       "3          PayMe India                        Financial Services, FinTech   \n",
       "4             Eunimart                 E-Commerce Platforms, Retail, SaaS   \n",
       "..                 ...                                                ...   \n",
       "521              Udaan   B2B, Business Development, Internet, Marketplace   \n",
       "522  Happyeasygo Group                                    Tourism, Travel   \n",
       "523             Mombay         Food and Beverage, Food Delivery, Internet   \n",
       "524         Droni Tech                             Information Technology   \n",
       "525            Netmeds         Biotechnology, Health Care, Pharmaceutical   \n",
       "\n",
       "    Round/Series       Amount                          Location  \\\n",
       "0           Seed     250000.0       Bangalore, Karnataka, India   \n",
       "1           Seed     480000.0        Mumbai, Maharashtra, India   \n",
       "2       Series A     780000.0           Gurgaon, Haryana, India   \n",
       "3          Angel    2000000.0       Noida, Uttar Pradesh, India   \n",
       "4           Seed          NaN  Hyderabad, Andhra Pradesh, India   \n",
       "..           ...          ...                               ...   \n",
       "521     Series C  225000000.0       Bangalore, Karnataka, India   \n",
       "522     Series A          NaN           Haryana, Haryana, India   \n",
       "523         Seed       7500.0        Mumbai, Maharashtra, India   \n",
       "524         Seed     420000.0        Mumbai, Maharashtra, India   \n",
       "525     Series C   35000000.0        Chennai, Tamil Nadu, India   \n",
       "\n",
       "                                         About Company  year  \n",
       "0    TheCollegeFever is a hub for fun, fiesta and f...  2018  \n",
       "1    A startup which aggregates milk from dairy far...  2018  \n",
       "2            Leading Online Loans Marketplace in India  2018  \n",
       "3    PayMe India is an innovative FinTech organizat...  2018  \n",
       "4    Eunimart is a one stop solution for merchants ...  2018  \n",
       "..                                                 ...   ...  \n",
       "521  Udaan is a B2B trade platform, designed specif...  2018  \n",
       "522            HappyEasyGo is an online travel domain.  2018  \n",
       "523  Mombay is a unique opportunity for housewives ...  2018  \n",
       "524  Droni Tech manufacture UAVs and develop softwa...  2018  \n",
       "525       Welcome to India's most convenient pharmacy!  2018  \n",
       "\n",
       "[526 rows x 7 columns]"
      ]
     },
     "execution_count": 36,
     "metadata": {},
     "output_type": "execute_result"
    }
   ],
   "source": [
    "#dropping the deprecated Currency column\n",
    "(df_2018\n",
    " .drop(columns='Currency', inplace = True)\n",
    " )\n",
    "\n",
    "df_2018"
   ]
  },
  {
   "cell_type": "code",
   "execution_count": 37,
   "metadata": {},
   "outputs": [
    {
     "data": {
      "text/plain": [
       "0         250000.0\n",
       "1         480000.0\n",
       "2         780000.0\n",
       "3        2000000.0\n",
       "4              0.0\n",
       "          ...     \n",
       "521    225000000.0\n",
       "522            0.0\n",
       "523         7500.0\n",
       "524       420000.0\n",
       "525     35000000.0\n",
       "Name: Amount, Length: 526, dtype: float64"
      ]
     },
     "execution_count": 37,
     "metadata": {},
     "output_type": "execute_result"
    }
   ],
   "source": [
    "df_2018['Amount'] = (df_2018\n",
    "                     ['Amount']\n",
    "                     .fillna(0) #filling na with 0 to represent unknown\n",
    "                     .astype('float')\n",
    "                     )\n",
    "df_2018.Amount"
   ]
  },
  {
   "cell_type": "markdown",
   "metadata": {},
   "source": [
    "#### **Series Column Cleaning**"
   ]
  },
  {
   "cell_type": "code",
   "execution_count": 38,
   "metadata": {},
   "outputs": [
    {
     "data": {
      "text/plain": [
       "Round/Series\n",
       "Seed                                                                                                       280\n",
       "Series A                                                                                                    73\n",
       "Angel                                                                                                       37\n",
       "Venture - Series Unknown                                                                                    37\n",
       "Series B                                                                                                    20\n",
       "Series C                                                                                                    16\n",
       "Debt Financing                                                                                              13\n",
       "Private Equity                                                                                              10\n",
       "Corporate Round                                                                                              8\n",
       "Pre-Seed                                                                                                     6\n",
       "Series E                                                                                                     5\n",
       "Grant                                                                                                        4\n",
       "Series D                                                                                                     3\n",
       "Secondary Market                                                                                             3\n",
       "Post-IPO Equity                                                                                              3\n",
       "Undisclosed                                                                                                  2\n",
       "Post-IPO Debt                                                                                                2\n",
       "Non-equity Assistance                                                                                        1\n",
       "Series H                                                                                                     1\n",
       "https://docs.google.com/spreadsheets/d/1x9ziNeaz6auNChIHnMI8U6kS7knTr3byy_YBGfQaoUA/edit#gid=1861303593      1\n",
       "Funding Round                                                                                                1\n",
       "Name: count, dtype: int64"
      ]
     },
     "execution_count": 38,
     "metadata": {},
     "output_type": "execute_result"
    }
   ],
   "source": [
    "# checking the unique values in the column\n",
    "df_2018['Round/Series'].value_counts()"
   ]
  },
  {
   "cell_type": "markdown",
   "metadata": {},
   "source": [
    "**Observation:**\n",
    "There is a google link which could causing the datatype to be different from expected\\\n",
    "**Decision**\n",
    "clear it"
   ]
  },
  {
   "cell_type": "code",
   "execution_count": 39,
   "metadata": {},
   "outputs": [
    {
     "data": {
      "text/plain": [
       "Stage\n",
       "Seed                        280\n",
       "Series A                     73\n",
       "Venture - Series Unknown     37\n",
       "Angel                        37\n",
       "Series B                     20\n",
       "Series C                     16\n",
       "Debt Financing               13\n",
       "Private Equity               10\n",
       "Corporate Round               8\n",
       "Pre-Seed                      6\n",
       "Series E                      5\n",
       "Grant                         4\n",
       "Post-IPO Equity               3\n",
       "Secondary Market              3\n",
       "Series D                      3\n",
       "Post-IPO Debt                 2\n",
       "Undisclosed                   2\n",
       "Non-equity Assistance         1\n",
       "Funding Round                 1\n",
       "Series H                      1\n",
       "                              1\n",
       "Name: count, dtype: int64"
      ]
     },
     "execution_count": 39,
     "metadata": {},
     "output_type": "execute_result"
    }
   ],
   "source": [
    "#Cleaning the column\n",
    "df_2018['Stage'] = (df_2018\n",
    "                     ['Round/Series']\n",
    "                     .str\n",
    "                     .replace(r'http\\S+|www\\S+', '', regex=True) #cleaning the url and replacing with space\n",
    "                     .str\n",
    "                     .strip() # removing empty space\n",
    "                     .astype('category') #converting to categorical datatype\n",
    "                     )\n",
    "\n",
    "df_2018['Stage'].value_counts() #confirming the url has been removed"
   ]
  },
  {
   "cell_type": "code",
   "execution_count": 40,
   "metadata": {},
   "outputs": [
    {
     "data": {
      "text/html": [
       "<div>\n",
       "<style scoped>\n",
       "    .dataframe tbody tr th:only-of-type {\n",
       "        vertical-align: middle;\n",
       "    }\n",
       "\n",
       "    .dataframe tbody tr th {\n",
       "        vertical-align: top;\n",
       "    }\n",
       "\n",
       "    .dataframe thead th {\n",
       "        text-align: right;\n",
       "    }\n",
       "</style>\n",
       "<table border=\"1\" class=\"dataframe\">\n",
       "  <thead>\n",
       "    <tr style=\"text-align: right;\">\n",
       "      <th></th>\n",
       "      <th>Company Name</th>\n",
       "      <th>Industry</th>\n",
       "      <th>Amount</th>\n",
       "      <th>Location</th>\n",
       "      <th>About Company</th>\n",
       "      <th>year</th>\n",
       "      <th>Stage</th>\n",
       "    </tr>\n",
       "  </thead>\n",
       "  <tbody>\n",
       "    <tr>\n",
       "      <th>0</th>\n",
       "      <td>TheCollegeFever</td>\n",
       "      <td>Brand Marketing, Event Promotion, Marketing, S...</td>\n",
       "      <td>250000.0</td>\n",
       "      <td>Bangalore, Karnataka, India</td>\n",
       "      <td>TheCollegeFever is a hub for fun, fiesta and f...</td>\n",
       "      <td>2018</td>\n",
       "      <td>Seed</td>\n",
       "    </tr>\n",
       "    <tr>\n",
       "      <th>1</th>\n",
       "      <td>Happy Cow Dairy</td>\n",
       "      <td>Agriculture, Farming</td>\n",
       "      <td>480000.0</td>\n",
       "      <td>Mumbai, Maharashtra, India</td>\n",
       "      <td>A startup which aggregates milk from dairy far...</td>\n",
       "      <td>2018</td>\n",
       "      <td>Seed</td>\n",
       "    </tr>\n",
       "    <tr>\n",
       "      <th>2</th>\n",
       "      <td>MyLoanCare</td>\n",
       "      <td>Credit, Financial Services, Lending, Marketplace</td>\n",
       "      <td>780000.0</td>\n",
       "      <td>Gurgaon, Haryana, India</td>\n",
       "      <td>Leading Online Loans Marketplace in India</td>\n",
       "      <td>2018</td>\n",
       "      <td>Series A</td>\n",
       "    </tr>\n",
       "    <tr>\n",
       "      <th>3</th>\n",
       "      <td>PayMe India</td>\n",
       "      <td>Financial Services, FinTech</td>\n",
       "      <td>2000000.0</td>\n",
       "      <td>Noida, Uttar Pradesh, India</td>\n",
       "      <td>PayMe India is an innovative FinTech organizat...</td>\n",
       "      <td>2018</td>\n",
       "      <td>Angel</td>\n",
       "    </tr>\n",
       "    <tr>\n",
       "      <th>4</th>\n",
       "      <td>Eunimart</td>\n",
       "      <td>E-Commerce Platforms, Retail, SaaS</td>\n",
       "      <td>0.0</td>\n",
       "      <td>Hyderabad, Andhra Pradesh, India</td>\n",
       "      <td>Eunimart is a one stop solution for merchants ...</td>\n",
       "      <td>2018</td>\n",
       "      <td>Seed</td>\n",
       "    </tr>\n",
       "    <tr>\n",
       "      <th>...</th>\n",
       "      <td>...</td>\n",
       "      <td>...</td>\n",
       "      <td>...</td>\n",
       "      <td>...</td>\n",
       "      <td>...</td>\n",
       "      <td>...</td>\n",
       "      <td>...</td>\n",
       "    </tr>\n",
       "    <tr>\n",
       "      <th>521</th>\n",
       "      <td>Udaan</td>\n",
       "      <td>B2B, Business Development, Internet, Marketplace</td>\n",
       "      <td>225000000.0</td>\n",
       "      <td>Bangalore, Karnataka, India</td>\n",
       "      <td>Udaan is a B2B trade platform, designed specif...</td>\n",
       "      <td>2018</td>\n",
       "      <td>Series C</td>\n",
       "    </tr>\n",
       "    <tr>\n",
       "      <th>522</th>\n",
       "      <td>Happyeasygo Group</td>\n",
       "      <td>Tourism, Travel</td>\n",
       "      <td>0.0</td>\n",
       "      <td>Haryana, Haryana, India</td>\n",
       "      <td>HappyEasyGo is an online travel domain.</td>\n",
       "      <td>2018</td>\n",
       "      <td>Series A</td>\n",
       "    </tr>\n",
       "    <tr>\n",
       "      <th>523</th>\n",
       "      <td>Mombay</td>\n",
       "      <td>Food and Beverage, Food Delivery, Internet</td>\n",
       "      <td>7500.0</td>\n",
       "      <td>Mumbai, Maharashtra, India</td>\n",
       "      <td>Mombay is a unique opportunity for housewives ...</td>\n",
       "      <td>2018</td>\n",
       "      <td>Seed</td>\n",
       "    </tr>\n",
       "    <tr>\n",
       "      <th>524</th>\n",
       "      <td>Droni Tech</td>\n",
       "      <td>Information Technology</td>\n",
       "      <td>420000.0</td>\n",
       "      <td>Mumbai, Maharashtra, India</td>\n",
       "      <td>Droni Tech manufacture UAVs and develop softwa...</td>\n",
       "      <td>2018</td>\n",
       "      <td>Seed</td>\n",
       "    </tr>\n",
       "    <tr>\n",
       "      <th>525</th>\n",
       "      <td>Netmeds</td>\n",
       "      <td>Biotechnology, Health Care, Pharmaceutical</td>\n",
       "      <td>35000000.0</td>\n",
       "      <td>Chennai, Tamil Nadu, India</td>\n",
       "      <td>Welcome to India's most convenient pharmacy!</td>\n",
       "      <td>2018</td>\n",
       "      <td>Series C</td>\n",
       "    </tr>\n",
       "  </tbody>\n",
       "</table>\n",
       "<p>526 rows × 7 columns</p>\n",
       "</div>"
      ],
      "text/plain": [
       "          Company Name                                           Industry  \\\n",
       "0      TheCollegeFever  Brand Marketing, Event Promotion, Marketing, S...   \n",
       "1      Happy Cow Dairy                               Agriculture, Farming   \n",
       "2           MyLoanCare   Credit, Financial Services, Lending, Marketplace   \n",
       "3          PayMe India                        Financial Services, FinTech   \n",
       "4             Eunimart                 E-Commerce Platforms, Retail, SaaS   \n",
       "..                 ...                                                ...   \n",
       "521              Udaan   B2B, Business Development, Internet, Marketplace   \n",
       "522  Happyeasygo Group                                    Tourism, Travel   \n",
       "523             Mombay         Food and Beverage, Food Delivery, Internet   \n",
       "524         Droni Tech                             Information Technology   \n",
       "525            Netmeds         Biotechnology, Health Care, Pharmaceutical   \n",
       "\n",
       "          Amount                          Location  \\\n",
       "0       250000.0       Bangalore, Karnataka, India   \n",
       "1       480000.0        Mumbai, Maharashtra, India   \n",
       "2       780000.0           Gurgaon, Haryana, India   \n",
       "3      2000000.0       Noida, Uttar Pradesh, India   \n",
       "4            0.0  Hyderabad, Andhra Pradesh, India   \n",
       "..           ...                               ...   \n",
       "521  225000000.0       Bangalore, Karnataka, India   \n",
       "522          0.0           Haryana, Haryana, India   \n",
       "523       7500.0        Mumbai, Maharashtra, India   \n",
       "524     420000.0        Mumbai, Maharashtra, India   \n",
       "525   35000000.0        Chennai, Tamil Nadu, India   \n",
       "\n",
       "                                         About Company  year     Stage  \n",
       "0    TheCollegeFever is a hub for fun, fiesta and f...  2018      Seed  \n",
       "1    A startup which aggregates milk from dairy far...  2018      Seed  \n",
       "2            Leading Online Loans Marketplace in India  2018  Series A  \n",
       "3    PayMe India is an innovative FinTech organizat...  2018     Angel  \n",
       "4    Eunimart is a one stop solution for merchants ...  2018      Seed  \n",
       "..                                                 ...   ...       ...  \n",
       "521  Udaan is a B2B trade platform, designed specif...  2018  Series C  \n",
       "522            HappyEasyGo is an online travel domain.  2018  Series A  \n",
       "523  Mombay is a unique opportunity for housewives ...  2018      Seed  \n",
       "524  Droni Tech manufacture UAVs and develop softwa...  2018      Seed  \n",
       "525       Welcome to India's most convenient pharmacy!  2018  Series C  \n",
       "\n",
       "[526 rows x 7 columns]"
      ]
     },
     "execution_count": 40,
     "metadata": {},
     "output_type": "execute_result"
    }
   ],
   "source": [
    "#dropping the deprecated Round/Series column\n",
    "(df_2018\n",
    " .drop('Round/Series', axis = 1, inplace=True)\n",
    " )\n",
    "\n",
    "df_2018"
   ]
  },
  {
   "cell_type": "code",
   "execution_count": 41,
   "metadata": {},
   "outputs": [
    {
     "data": {
      "text/plain": [
       "Company Name       object\n",
       "Industry           object\n",
       "Amount            float64\n",
       "Location           object\n",
       "About Company      object\n",
       "year                int64\n",
       "Stage            category\n",
       "dtype: object"
      ]
     },
     "execution_count": 41,
     "metadata": {},
     "output_type": "execute_result"
    }
   ],
   "source": [
    "#confirming datatypes are as expected\n",
    "df_2018.dtypes"
   ]
  },
  {
   "cell_type": "markdown",
   "metadata": {},
   "source": [
    "#### **Industry Column Cleaning**"
   ]
  },
  {
   "cell_type": "code",
   "execution_count": 42,
   "metadata": {},
   "outputs": [
    {
     "data": {
      "text/plain": [
       "Industry\n",
       "—                                              30\n",
       "Financial Services                             15\n",
       "Education                                       8\n",
       "Information Technology                          7\n",
       "Health Care, Hospital                           5\n",
       "                                               ..\n",
       "Education, Gaming, Training                     1\n",
       "Automotive, Search Engine, Service Industry     1\n",
       "Wealth Management                               1\n",
       "B2B, Farming, Marketplace                       1\n",
       "Biotechnology, Health Care, Pharmaceutical      1\n",
       "Name: count, Length: 405, dtype: int64"
      ]
     },
     "execution_count": 42,
     "metadata": {},
     "output_type": "execute_result"
    }
   ],
   "source": [
    "#checking unique industries\n",
    "df_2018['Industry'].value_counts()"
   ]
  },
  {
   "cell_type": "code",
   "execution_count": 43,
   "metadata": {},
   "outputs": [
    {
     "data": {
      "text/plain": [
       "0      Brand Marketing, Event Promotion, Marketing, S...\n",
       "1                                   Agriculture, Farming\n",
       "2       Credit, Financial Services, Lending, Marketplace\n",
       "3                            Financial Services, FinTech\n",
       "4                     E-Commerce Platforms, Retail, SaaS\n",
       "                             ...                        \n",
       "521     B2B, Business Development, Internet, Marketplace\n",
       "522                                      Tourism, Travel\n",
       "523           Food and Beverage, Food Delivery, Internet\n",
       "524                               Information Technology\n",
       "525           Biotechnology, Health Care, Pharmaceutical\n",
       "Name: Industry, Length: 526, dtype: object"
      ]
     },
     "execution_count": 43,
     "metadata": {},
     "output_type": "execute_result"
    }
   ],
   "source": [
    "#overview of column\n",
    "df_2018['Industry']"
   ]
  },
  {
   "cell_type": "markdown",
   "metadata": {},
   "source": [
    "**Observations:**\n",
    "There are multiple items stacked in the column. May make it confusing to know exact industries\\\n",
    "**Decision** \n",
    "Split to each individual industry description and maintain only one"
   ]
  },
  {
   "cell_type": "markdown",
   "metadata": {},
   "source": [
    "**Key Assumption:**\n",
    "We assume that the first industry description is the primary industry and ignore the rest"
   ]
  },
  {
   "cell_type": "code",
   "execution_count": 44,
   "metadata": {},
   "outputs": [
    {
     "data": {
      "text/plain": [
       "Industry\n",
       "—                                     30\n",
       "Health Care                           26\n",
       "Financial Services                    26\n",
       "E-Commerce                            22\n",
       "Apps                                  20\n",
       "                                      ..\n",
       "Environmental Consulting               1\n",
       "Enterprise Software                    1\n",
       "Enterprise Resource Planning (ERP)     1\n",
       "Embedded Systems                       1\n",
       "3D Printing                            1\n",
       "Name: count, Length: 148, dtype: int64"
      ]
     },
     "execution_count": 44,
     "metadata": {},
     "output_type": "execute_result"
    }
   ],
   "source": [
    "#cleaning the industry column\n",
    "df_2018['Industry'] = (df_2018\n",
    "                       ['Industry']\n",
    "                       .str\n",
    "                       .split(',', expand=True) #split the descriptions separated by comma\n",
    "                       .pop(0) #pop only the first description\n",
    "                       .astype('category')\n",
    "                       )\n",
    "\n",
    "df_2018['Industry'].value_counts()"
   ]
  },
  {
   "cell_type": "markdown",
   "metadata": {},
   "source": [
    "**Note:**\n",
    "The value_counts of each industry has increased meaning it can be"
   ]
  },
  {
   "cell_type": "markdown",
   "metadata": {},
   "source": [
    "#### **Location Column Cleaning**"
   ]
  },
  {
   "cell_type": "code",
   "execution_count": 45,
   "metadata": {},
   "outputs": [
    {
     "data": {
      "text/plain": [
       "0           Bangalore, Karnataka, India\n",
       "1            Mumbai, Maharashtra, India\n",
       "2               Gurgaon, Haryana, India\n",
       "3           Noida, Uttar Pradesh, India\n",
       "4      Hyderabad, Andhra Pradesh, India\n",
       "                     ...               \n",
       "521         Bangalore, Karnataka, India\n",
       "522             Haryana, Haryana, India\n",
       "523          Mumbai, Maharashtra, India\n",
       "524          Mumbai, Maharashtra, India\n",
       "525          Chennai, Tamil Nadu, India\n",
       "Name: Location, Length: 526, dtype: object"
      ]
     },
     "execution_count": 45,
     "metadata": {},
     "output_type": "execute_result"
    }
   ],
   "source": [
    "#overview of column\n",
    "df_2018['Location']"
   ]
  },
  {
   "cell_type": "markdown",
   "metadata": {},
   "source": [
    "* Just like Industry, the column has multiple values separated by comma. In this case it is geographical regions.\\\n",
    "They could come in handy. \n",
    "\n",
    "**Decision**\n",
    "Split into separate columns and assign them to city, region and country columns respectively"
   ]
  },
  {
   "cell_type": "code",
   "execution_count": 46,
   "metadata": {},
   "outputs": [
    {
     "data": {
      "text/html": [
       "<div>\n",
       "<style scoped>\n",
       "    .dataframe tbody tr th:only-of-type {\n",
       "        vertical-align: middle;\n",
       "    }\n",
       "\n",
       "    .dataframe tbody tr th {\n",
       "        vertical-align: top;\n",
       "    }\n",
       "\n",
       "    .dataframe thead th {\n",
       "        text-align: right;\n",
       "    }\n",
       "</style>\n",
       "<table border=\"1\" class=\"dataframe\">\n",
       "  <thead>\n",
       "    <tr style=\"text-align: right;\">\n",
       "      <th></th>\n",
       "      <th>Company Name</th>\n",
       "      <th>Industry</th>\n",
       "      <th>Amount</th>\n",
       "      <th>About Company</th>\n",
       "      <th>year</th>\n",
       "      <th>Stage</th>\n",
       "      <th>City</th>\n",
       "      <th>Region</th>\n",
       "      <th>Country</th>\n",
       "    </tr>\n",
       "  </thead>\n",
       "  <tbody>\n",
       "    <tr>\n",
       "      <th>0</th>\n",
       "      <td>TheCollegeFever</td>\n",
       "      <td>Brand Marketing</td>\n",
       "      <td>250000.0</td>\n",
       "      <td>TheCollegeFever is a hub for fun, fiesta and f...</td>\n",
       "      <td>2018</td>\n",
       "      <td>Seed</td>\n",
       "      <td>Bangalore</td>\n",
       "      <td>Karnataka</td>\n",
       "      <td>India</td>\n",
       "    </tr>\n",
       "    <tr>\n",
       "      <th>1</th>\n",
       "      <td>Happy Cow Dairy</td>\n",
       "      <td>Agriculture</td>\n",
       "      <td>480000.0</td>\n",
       "      <td>A startup which aggregates milk from dairy far...</td>\n",
       "      <td>2018</td>\n",
       "      <td>Seed</td>\n",
       "      <td>Mumbai</td>\n",
       "      <td>Maharashtra</td>\n",
       "      <td>India</td>\n",
       "    </tr>\n",
       "    <tr>\n",
       "      <th>2</th>\n",
       "      <td>MyLoanCare</td>\n",
       "      <td>Credit</td>\n",
       "      <td>780000.0</td>\n",
       "      <td>Leading Online Loans Marketplace in India</td>\n",
       "      <td>2018</td>\n",
       "      <td>Series A</td>\n",
       "      <td>Gurgaon</td>\n",
       "      <td>Haryana</td>\n",
       "      <td>India</td>\n",
       "    </tr>\n",
       "    <tr>\n",
       "      <th>3</th>\n",
       "      <td>PayMe India</td>\n",
       "      <td>Financial Services</td>\n",
       "      <td>2000000.0</td>\n",
       "      <td>PayMe India is an innovative FinTech organizat...</td>\n",
       "      <td>2018</td>\n",
       "      <td>Angel</td>\n",
       "      <td>Noida</td>\n",
       "      <td>Uttar Pradesh</td>\n",
       "      <td>India</td>\n",
       "    </tr>\n",
       "    <tr>\n",
       "      <th>4</th>\n",
       "      <td>Eunimart</td>\n",
       "      <td>E-Commerce Platforms</td>\n",
       "      <td>0.0</td>\n",
       "      <td>Eunimart is a one stop solution for merchants ...</td>\n",
       "      <td>2018</td>\n",
       "      <td>Seed</td>\n",
       "      <td>Hyderabad</td>\n",
       "      <td>Andhra Pradesh</td>\n",
       "      <td>India</td>\n",
       "    </tr>\n",
       "    <tr>\n",
       "      <th>...</th>\n",
       "      <td>...</td>\n",
       "      <td>...</td>\n",
       "      <td>...</td>\n",
       "      <td>...</td>\n",
       "      <td>...</td>\n",
       "      <td>...</td>\n",
       "      <td>...</td>\n",
       "      <td>...</td>\n",
       "      <td>...</td>\n",
       "    </tr>\n",
       "    <tr>\n",
       "      <th>521</th>\n",
       "      <td>Udaan</td>\n",
       "      <td>B2B</td>\n",
       "      <td>225000000.0</td>\n",
       "      <td>Udaan is a B2B trade platform, designed specif...</td>\n",
       "      <td>2018</td>\n",
       "      <td>Series C</td>\n",
       "      <td>Bangalore</td>\n",
       "      <td>Karnataka</td>\n",
       "      <td>India</td>\n",
       "    </tr>\n",
       "    <tr>\n",
       "      <th>522</th>\n",
       "      <td>Happyeasygo Group</td>\n",
       "      <td>Tourism</td>\n",
       "      <td>0.0</td>\n",
       "      <td>HappyEasyGo is an online travel domain.</td>\n",
       "      <td>2018</td>\n",
       "      <td>Series A</td>\n",
       "      <td>Haryana</td>\n",
       "      <td>Haryana</td>\n",
       "      <td>India</td>\n",
       "    </tr>\n",
       "    <tr>\n",
       "      <th>523</th>\n",
       "      <td>Mombay</td>\n",
       "      <td>Food and Beverage</td>\n",
       "      <td>7500.0</td>\n",
       "      <td>Mombay is a unique opportunity for housewives ...</td>\n",
       "      <td>2018</td>\n",
       "      <td>Seed</td>\n",
       "      <td>Mumbai</td>\n",
       "      <td>Maharashtra</td>\n",
       "      <td>India</td>\n",
       "    </tr>\n",
       "    <tr>\n",
       "      <th>524</th>\n",
       "      <td>Droni Tech</td>\n",
       "      <td>Information Technology</td>\n",
       "      <td>420000.0</td>\n",
       "      <td>Droni Tech manufacture UAVs and develop softwa...</td>\n",
       "      <td>2018</td>\n",
       "      <td>Seed</td>\n",
       "      <td>Mumbai</td>\n",
       "      <td>Maharashtra</td>\n",
       "      <td>India</td>\n",
       "    </tr>\n",
       "    <tr>\n",
       "      <th>525</th>\n",
       "      <td>Netmeds</td>\n",
       "      <td>Biotechnology</td>\n",
       "      <td>35000000.0</td>\n",
       "      <td>Welcome to India's most convenient pharmacy!</td>\n",
       "      <td>2018</td>\n",
       "      <td>Series C</td>\n",
       "      <td>Chennai</td>\n",
       "      <td>Tamil Nadu</td>\n",
       "      <td>India</td>\n",
       "    </tr>\n",
       "  </tbody>\n",
       "</table>\n",
       "<p>526 rows × 9 columns</p>\n",
       "</div>"
      ],
      "text/plain": [
       "          Company Name                Industry       Amount  \\\n",
       "0      TheCollegeFever         Brand Marketing     250000.0   \n",
       "1      Happy Cow Dairy             Agriculture     480000.0   \n",
       "2           MyLoanCare                  Credit     780000.0   \n",
       "3          PayMe India      Financial Services    2000000.0   \n",
       "4             Eunimart    E-Commerce Platforms          0.0   \n",
       "..                 ...                     ...          ...   \n",
       "521              Udaan                     B2B  225000000.0   \n",
       "522  Happyeasygo Group                 Tourism          0.0   \n",
       "523             Mombay       Food and Beverage       7500.0   \n",
       "524         Droni Tech  Information Technology     420000.0   \n",
       "525            Netmeds           Biotechnology   35000000.0   \n",
       "\n",
       "                                         About Company  year     Stage  \\\n",
       "0    TheCollegeFever is a hub for fun, fiesta and f...  2018      Seed   \n",
       "1    A startup which aggregates milk from dairy far...  2018      Seed   \n",
       "2            Leading Online Loans Marketplace in India  2018  Series A   \n",
       "3    PayMe India is an innovative FinTech organizat...  2018     Angel   \n",
       "4    Eunimart is a one stop solution for merchants ...  2018      Seed   \n",
       "..                                                 ...   ...       ...   \n",
       "521  Udaan is a B2B trade platform, designed specif...  2018  Series C   \n",
       "522            HappyEasyGo is an online travel domain.  2018  Series A   \n",
       "523  Mombay is a unique opportunity for housewives ...  2018      Seed   \n",
       "524  Droni Tech manufacture UAVs and develop softwa...  2018      Seed   \n",
       "525       Welcome to India's most convenient pharmacy!  2018  Series C   \n",
       "\n",
       "          City           Region Country  \n",
       "0    Bangalore        Karnataka   India  \n",
       "1       Mumbai      Maharashtra   India  \n",
       "2      Gurgaon          Haryana   India  \n",
       "3        Noida    Uttar Pradesh   India  \n",
       "4    Hyderabad   Andhra Pradesh   India  \n",
       "..         ...              ...     ...  \n",
       "521  Bangalore        Karnataka   India  \n",
       "522    Haryana          Haryana   India  \n",
       "523     Mumbai      Maharashtra   India  \n",
       "524     Mumbai      Maharashtra   India  \n",
       "525    Chennai       Tamil Nadu   India  \n",
       "\n",
       "[526 rows x 9 columns]"
      ]
     },
     "execution_count": 46,
     "metadata": {},
     "output_type": "execute_result"
    }
   ],
   "source": [
    "#splitting Location column and reassigning to city, region and country\n",
    "df_2018[['City', 'Region', 'Country']]=(df_2018\n",
    "                                      ['Location']\n",
    "                                      .str\n",
    "                                      .split(',', expand=True) #split columns\n",
    "                                      .astype('category') #changing to category datatype\n",
    "                                      )\n",
    "#drop the deprecated Location column\n",
    "df_2018.drop(columns='Location', inplace=True)\n",
    "\n",
    "df_2018"
   ]
  },
  {
   "cell_type": "markdown",
   "metadata": {},
   "source": [
    "#### **Final Touches**"
   ]
  },
  {
   "cell_type": "code",
   "execution_count": 47,
   "metadata": {},
   "outputs": [
    {
     "data": {
      "text/plain": [
       "company          object\n",
       "sector         category\n",
       "amount          float64\n",
       "description      object\n",
       "year              int64\n",
       "stage          category\n",
       "location       category\n",
       "dtype: object"
      ]
     },
     "execution_count": 47,
     "metadata": {},
     "output_type": "execute_result"
    }
   ],
   "source": [
    "df_2018 = (df_2018\n",
    "           .drop_duplicates() #dropping duplicates\n",
    "           .drop(columns=['Country','Region']) #drop Country and region column\n",
    "           .rename(columns = {'Company Name': 'company', 'Industry': 'sector', \n",
    "                              'About Company': 'description', 'City': 'location',\n",
    "                              'Amount':'amount','Stage':'stage'}) #rename columns\n",
    "           ) \n",
    "\n",
    "df_2018.dtypes"
   ]
  },
  {
   "cell_type": "markdown",
   "metadata": {},
   "source": [
    "## **2019 CLEANING**"
   ]
  },
  {
   "cell_type": "code",
   "execution_count": 48,
   "metadata": {},
   "outputs": [
    {
     "data": {
      "text/plain": [
       "Index(['Company/Brand', 'Founded', 'HeadQuarter', 'Sector', 'What it does',\n",
       "       'Founders', 'Investor', 'Amount($)', 'Stage', 'year'],\n",
       "      dtype='object')"
      ]
     },
     "execution_count": 48,
     "metadata": {},
     "output_type": "execute_result"
    }
   ],
   "source": [
    "#checking if columns are as expected\n",
    "(df_2019\n",
    " .columns\n",
    " )"
   ]
  },
  {
   "cell_type": "code",
   "execution_count": 49,
   "metadata": {},
   "outputs": [
    {
     "data": {
      "text/plain": [
       "Company/Brand     0\n",
       "Founded          29\n",
       "HeadQuarter      19\n",
       "Sector            5\n",
       "What it does      0\n",
       "Founders          3\n",
       "Investor          0\n",
       "Amount($)         0\n",
       "Stage            46\n",
       "year              0\n",
       "dtype: int64"
      ]
     },
     "execution_count": 49,
     "metadata": {},
     "output_type": "execute_result"
    }
   ],
   "source": [
    "#checking nulls\n",
    "(df_2019\n",
    ".isnull()\n",
    ".sum())"
   ]
  },
  {
   "cell_type": "markdown",
   "metadata": {},
   "source": [
    "* There are nulls in 5 columns. dive further into each column"
   ]
  },
  {
   "cell_type": "code",
   "execution_count": 50,
   "metadata": {},
   "outputs": [
    {
     "data": {
      "text/plain": [
       "Company/Brand     object\n",
       "Founded          float64\n",
       "HeadQuarter       object\n",
       "Sector            object\n",
       "What it does      object\n",
       "Founders          object\n",
       "Investor          object\n",
       "Amount($)         object\n",
       "Stage             object\n",
       "year               int64\n",
       "dtype: object"
      ]
     },
     "execution_count": 50,
     "metadata": {},
     "output_type": "execute_result"
    }
   ],
   "source": [
    "#checking dtypes\n",
    "(df_2019\n",
    ".dtypes)"
   ]
  },
  {
   "cell_type": "markdown",
   "metadata": {},
   "source": [
    "* The founded column is already in the expected datatype. The other columns need to be checked and cleaned."
   ]
  },
  {
   "cell_type": "markdown",
   "metadata": {},
   "source": [
    "#### **Amount Column Cleaning**"
   ]
  },
  {
   "cell_type": "code",
   "execution_count": 51,
   "metadata": {},
   "outputs": [
    {
     "data": {
      "text/plain": [
       "array(['$6,300,000', '$150,000,000', '$28,000,000', '$30,000,000',\n",
       "       '$6,000,000', 'Undisclosed', '$1,000,000', '$20,000,000',\n",
       "       '$275,000,000', '$22,000,000', '$5,000,000', '$140,500',\n",
       "       '$540,000,000', '$15,000,000', '$182,700', '$12,000,000',\n",
       "       '$11,000,000', '$15,500,000', '$1,500,000', '$5,500,000',\n",
       "       '$2,500,000', '$140,000', '$230,000,000', '$49,400,000',\n",
       "       '$32,000,000', '$26,000,000', '$150,000', '$400,000', '$2,000,000',\n",
       "       '$100,000,000', '$8,000,000', '$100,000', '$50,000,000',\n",
       "       '$120,000,000', '$4,000,000', '$6,800,000', '$36,000,000',\n",
       "       '$5,700,000', '$25,000,000', '$600,000', '$70,000,000',\n",
       "       '$60,000,000', '$220,000', '$2,800,000', '$2,100,000',\n",
       "       '$7,000,000', '$311,000,000', '$4,800,000', '$693,000,000',\n",
       "       '$33,000,000'], dtype=object)"
      ]
     },
     "execution_count": 51,
     "metadata": {},
     "output_type": "execute_result"
    }
   ],
   "source": [
    "(df_2019\n",
    " ['Amount($)']\n",
    " .unique()\n",
    " )"
   ]
  },
  {
   "cell_type": "markdown",
   "metadata": {},
   "source": [
    "* The columns have a currency symbol and commas separating the values. There is also 'Undisclosed' text.\n",
    "\n",
    "**Decision** To clean the currency symbol and comma and replace undisclosed with None"
   ]
  },
  {
   "cell_type": "code",
   "execution_count": 52,
   "metadata": {},
   "outputs": [
    {
     "data": {
      "text/plain": [
       "0       6300000.0\n",
       "1     150000000.0\n",
       "2      28000000.0\n",
       "3      30000000.0\n",
       "4       6000000.0\n",
       "         ...     \n",
       "84     20000000.0\n",
       "85    693000000.0\n",
       "86      5000000.0\n",
       "87     50000000.0\n",
       "88     33000000.0\n",
       "Name: Amount($), Length: 89, dtype: float64"
      ]
     },
     "execution_count": 52,
     "metadata": {},
     "output_type": "execute_result"
    }
   ],
   "source": [
    "df_2019['Amount($)'] = (df_2019\n",
    "                     ['Amount($)']\n",
    "                     .str\n",
    "                     .replace(',|\\$','', regex= True) #Remove the comma sign and the currency symbols\n",
    "                     .replace({'Undisclosed' : None}, regex=True) # replacing Undisclosed with None\n",
    "                     .astype(float) #converting to float\n",
    "                     )\n",
    "df_2019['Amount($)']"
   ]
  },
  {
   "cell_type": "markdown",
   "metadata": {},
   "source": [
    "#### **Investor Column Cleaning**"
   ]
  },
  {
   "cell_type": "code",
   "execution_count": 53,
   "metadata": {},
   "outputs": [
    {
     "data": {
      "text/plain": [
       "0                                  Sixth Sense Ventures\n",
       "1                                      General Atlantic\n",
       "2        Deepak Parekh, Amitabh Bachchan, Piyush Pandey\n",
       "3     Evolvence India Fund (EIF), Pidilite Group, FJ...\n",
       "4              Innovation in Food and Agriculture (IFA)\n",
       "                            ...                        \n",
       "84    Tiger Global, Nexus Venture Partners, Accel Pa...\n",
       "85    MyPreferred Transformation, Avendus Finance, S...\n",
       "86                                      Sequoia Capital\n",
       "87    Norwest Venture Partners, General Catalyst, Fu...\n",
       "88       TPG, Norwest Venture Partners, Evolvence India\n",
       "Name: Investor, Length: 89, dtype: category\n",
       "Categories (86, object): ['AC Ventures, Henkel', 'Alibaba', 'Alteria Capital', 'Amplo, FJ Labs, Rogue One Capital', ..., 'Wilson Global Opportunities Fund', 'Windrose Capital', 'Work10M, Michael and Susan Dell Foundation, E..., 'Zoomcar Inc']"
      ]
     },
     "execution_count": 53,
     "metadata": {},
     "output_type": "execute_result"
    }
   ],
   "source": [
    "df_2019['Investor'] = (df_2019\n",
    "                       ['Investor']\n",
    "                       .astype('category') #converting to category dtype\n",
    "                       )\n",
    "df_2019.Investor"
   ]
  },
  {
   "cell_type": "markdown",
   "metadata": {},
   "source": [
    "#### **Headquarter Column Cleaning**"
   ]
  },
  {
   "cell_type": "code",
   "execution_count": 54,
   "metadata": {},
   "outputs": [
    {
     "data": {
      "text/plain": [
       "0       Unknown\n",
       "1        Mumbai\n",
       "2        Mumbai\n",
       "3       Chennai\n",
       "4     Telangana\n",
       "        ...    \n",
       "84       Mumbai\n",
       "85     Gurugram\n",
       "86        Delhi\n",
       "87        Delhi\n",
       "88    Rajasthan\n",
       "Name: HeadQuarter, Length: 89, dtype: category\n",
       "Categories (18, object): ['Ahmedabad', 'Bangalore', 'Chandigarh', 'Chennai', ..., 'Surat', 'Telangana', 'Unknown', 'Uttar pradesh']"
      ]
     },
     "execution_count": 54,
     "metadata": {},
     "output_type": "execute_result"
    }
   ],
   "source": [
    "df_2019['HeadQuarter'] = (df_2019\n",
    "                       ['HeadQuarter']\n",
    "                       .fillna('Unknown') #filling na with unknown\n",
    "                       .astype('category') #converting to category\n",
    "                    )\n",
    "df_2019.HeadQuarter"
   ]
  },
  {
   "cell_type": "markdown",
   "metadata": {},
   "source": [
    "* converting to category reduces the entries to 17 categories instead of 89 entries"
   ]
  },
  {
   "cell_type": "markdown",
   "metadata": {},
   "source": [
    "#### **Sector Column Cleaning**"
   ]
  },
  {
   "cell_type": "code",
   "execution_count": 55,
   "metadata": {},
   "outputs": [
    {
     "data": {
      "text/plain": [
       "0                   Ecommerce\n",
       "1                      Edtech\n",
       "2                      Edtech\n",
       "3             Interior design\n",
       "4                    AgriTech\n",
       "               ...           \n",
       "84                  Infratech\n",
       "85                Hospitality\n",
       "86    Automobile & Technology\n",
       "87                 Automobile\n",
       "88                    Banking\n",
       "Name: Sector, Length: 89, dtype: category\n",
       "Categories (53, object): ['AI', 'AI & Tech', 'Accomodation', 'AgriTech', ..., 'Travel', 'Unkonwn', 'Virtual Banking', 'Yoga & wellness']"
      ]
     },
     "execution_count": 55,
     "metadata": {},
     "output_type": "execute_result"
    }
   ],
   "source": [
    "df_2019['Sector'] = (df_2019\n",
    "                     ['Sector']\n",
    "                     .fillna('Unkonwn')\n",
    "                     .astype('category') #converting to category\n",
    "                    )\n",
    "df_2019.Sector"
   ]
  },
  {
   "cell_type": "markdown",
   "metadata": {},
   "source": [
    "* converting to category makes the sector column more efficient since it has 52 objects instead of 89"
   ]
  },
  {
   "cell_type": "markdown",
   "metadata": {},
   "source": [
    "#### **Stage Column Cleaning**"
   ]
  },
  {
   "cell_type": "code",
   "execution_count": 56,
   "metadata": {},
   "outputs": [
    {
     "data": {
      "text/plain": [
       "0           Unknown\n",
       "1          Series C\n",
       "2     Fresh funding\n",
       "3          Series D\n",
       "4           Unknown\n",
       "          ...      \n",
       "84         Series A\n",
       "85          Unknown\n",
       "86         Series B\n",
       "87          Unknown\n",
       "88          Unknown\n",
       "Name: Stage, Length: 89, dtype: category\n",
       "Categories (16, object): ['Fresh funding', 'Post series A', 'Pre series A', 'Pre-series A', ..., 'Series E', 'Series F', 'Series G', 'Unknown']"
      ]
     },
     "execution_count": 56,
     "metadata": {},
     "output_type": "execute_result"
    }
   ],
   "source": [
    "df_2019['Stage']= (df_2019\n",
    "                   ['Stage']\n",
    "                   .fillna('Unknown') #fill na with Unknown\n",
    "                   .astype('category') #changing dtype to category\n",
    "                   )\n",
    "\n",
    "df_2019.Stage"
   ]
  },
  {
   "cell_type": "markdown",
   "metadata": {},
   "source": [
    "* converting to category reduces the number to 15 categories instead of 89 entries\n",
    "* The Nulls may represent undisclosed information so we fill with Undisclosed"
   ]
  },
  {
   "cell_type": "markdown",
   "metadata": {},
   "source": [
    "#### **Founded Column Cleaning**"
   ]
  },
  {
   "cell_type": "code",
   "execution_count": 57,
   "metadata": {},
   "outputs": [
    {
     "data": {
      "text/plain": [
       "0        0\n",
       "1     2014\n",
       "2        0\n",
       "3     2014\n",
       "4     2004\n",
       "      ... \n",
       "84       0\n",
       "85    2013\n",
       "86    2016\n",
       "87    2015\n",
       "88       0\n",
       "Name: Founded, Length: 89, dtype: int32"
      ]
     },
     "execution_count": 57,
     "metadata": {},
     "output_type": "execute_result"
    }
   ],
   "source": [
    "#Dealing with nulls\n",
    "df_2019['Founded'] = (df_2019\n",
    "                      ['Founded']\n",
    "                      .fillna(0) #fill missing values with 0 to represent unknown\n",
    "                      .astype('int') #converting to int\n",
    "                      )\n",
    "df_2019.Founded"
   ]
  },
  {
   "cell_type": "markdown",
   "metadata": {},
   "source": [
    "#### **Founders Column Cleaning**"
   ]
  },
  {
   "cell_type": "code",
   "execution_count": 58,
   "metadata": {},
   "outputs": [
    {
     "data": {
      "text/plain": [
       "0                                    Shantanu Deshpande\n",
       "1                 Adamas Belva Syah Devara, Iman Usman.\n",
       "2                                         Jatin Solanki\n",
       "3                          Srikanth Iyer, Rama Harinath\n",
       "4                                Narayana Reddy Punyala\n",
       "                            ...                        \n",
       "84                      Aaditya Sharda, Souvik Sengupta\n",
       "85                                       Ritesh Agarwal\n",
       "86    Amit Bhasin, Kushal Karwa, Nitin Rana, Rishabh...\n",
       "87    Niraj Singh, Ramanshu Mahaur, Ganesh Pawar, Mo...\n",
       "88                                       Rajendra Setia\n",
       "Name: Founders, Length: 89, dtype: object"
      ]
     },
     "execution_count": 58,
     "metadata": {},
     "output_type": "execute_result"
    }
   ],
   "source": [
    "df_2019['Founders'] = (df_2019\n",
    "                       ['Founders']\n",
    "                       .fillna('Unknown')\n",
    "                       )\n",
    "df_2019.Founders"
   ]
  },
  {
   "cell_type": "markdown",
   "metadata": {},
   "source": [
    "#### **Final Touches**"
   ]
  },
  {
   "cell_type": "code",
   "execution_count": 59,
   "metadata": {},
   "outputs": [],
   "source": [
    "df_2019['Amount($)'] = (df_2019\n",
    "                     ['Amount($)']\n",
    "                     .fillna(0) # filling nulls with 0 to represent unknown\n",
    "                     )"
   ]
  },
  {
   "cell_type": "code",
   "execution_count": 60,
   "metadata": {},
   "outputs": [
    {
     "data": {
      "text/plain": [
       "company          object\n",
       "founded           int32\n",
       "location       category\n",
       "sector         category\n",
       "description      object\n",
       "founders         object\n",
       "investor       category\n",
       "amount          float64\n",
       "stage          category\n",
       "year              int64\n",
       "dtype: object"
      ]
     },
     "execution_count": 60,
     "metadata": {},
     "output_type": "execute_result"
    }
   ],
   "source": [
    "df_2019 = (df_2019\n",
    "           .drop_duplicates() #dropping duplicates\n",
    "           .rename(columns = {'Company/Brand': 'company', 'Investor':'investor', \n",
    "                              'What it does': 'description','Amount($)':'amount',\n",
    "                              'Founders':'founders', 'Founded': 'founded','Stage':'stage',\n",
    "                              'Sector':'sector','HeadQuarter':'location'}) #rename columns\n",
    "           ) \n",
    "\n",
    "df_2019.dtypes"
   ]
  },
  {
   "cell_type": "markdown",
   "metadata": {},
   "source": [
    "## **2020 CLEANING**"
   ]
  },
  {
   "cell_type": "code",
   "execution_count": 61,
   "metadata": {},
   "outputs": [
    {
     "data": {
      "text/html": [
       "<div>\n",
       "<style scoped>\n",
       "    .dataframe tbody tr th:only-of-type {\n",
       "        vertical-align: middle;\n",
       "    }\n",
       "\n",
       "    .dataframe tbody tr th {\n",
       "        vertical-align: top;\n",
       "    }\n",
       "\n",
       "    .dataframe thead th {\n",
       "        text-align: right;\n",
       "    }\n",
       "</style>\n",
       "<table border=\"1\" class=\"dataframe\">\n",
       "  <thead>\n",
       "    <tr style=\"text-align: right;\">\n",
       "      <th></th>\n",
       "      <th>Company_Brand</th>\n",
       "      <th>Founded</th>\n",
       "      <th>HeadQuarter</th>\n",
       "      <th>Sector</th>\n",
       "      <th>What_it_does</th>\n",
       "      <th>Founders</th>\n",
       "      <th>Investor</th>\n",
       "      <th>Amount</th>\n",
       "      <th>Stage</th>\n",
       "      <th>column10</th>\n",
       "      <th>year</th>\n",
       "    </tr>\n",
       "  </thead>\n",
       "  <tbody>\n",
       "    <tr>\n",
       "      <th>0</th>\n",
       "      <td>Aqgromalin</td>\n",
       "      <td>2019.0</td>\n",
       "      <td>Chennai</td>\n",
       "      <td>AgriTech</td>\n",
       "      <td>Cultivating Ideas for Profit</td>\n",
       "      <td>Prasanna Manogaran, Bharani C L</td>\n",
       "      <td>Angel investors</td>\n",
       "      <td>200000.0</td>\n",
       "      <td>None</td>\n",
       "      <td>None</td>\n",
       "      <td>2020</td>\n",
       "    </tr>\n",
       "    <tr>\n",
       "      <th>1</th>\n",
       "      <td>Krayonnz</td>\n",
       "      <td>2019.0</td>\n",
       "      <td>Bangalore</td>\n",
       "      <td>EdTech</td>\n",
       "      <td>An academy-guardian-scholar centric ecosystem ...</td>\n",
       "      <td>Saurabh Dixit, Gurudutt Upadhyay</td>\n",
       "      <td>GSF Accelerator</td>\n",
       "      <td>100000.0</td>\n",
       "      <td>Pre-seed</td>\n",
       "      <td>None</td>\n",
       "      <td>2020</td>\n",
       "    </tr>\n",
       "    <tr>\n",
       "      <th>2</th>\n",
       "      <td>PadCare Labs</td>\n",
       "      <td>2018.0</td>\n",
       "      <td>Pune</td>\n",
       "      <td>Hygiene management</td>\n",
       "      <td>Converting bio-hazardous waste to harmless waste</td>\n",
       "      <td>Ajinkya Dhariya</td>\n",
       "      <td>Venture Center</td>\n",
       "      <td>NaN</td>\n",
       "      <td>Pre-seed</td>\n",
       "      <td>None</td>\n",
       "      <td>2020</td>\n",
       "    </tr>\n",
       "    <tr>\n",
       "      <th>3</th>\n",
       "      <td>NCOME</td>\n",
       "      <td>2020.0</td>\n",
       "      <td>New Delhi</td>\n",
       "      <td>Escrow</td>\n",
       "      <td>Escrow-as-a-service platform</td>\n",
       "      <td>Ritesh Tiwari</td>\n",
       "      <td>Venture Catalysts, PointOne Capital</td>\n",
       "      <td>400000.0</td>\n",
       "      <td>None</td>\n",
       "      <td>None</td>\n",
       "      <td>2020</td>\n",
       "    </tr>\n",
       "    <tr>\n",
       "      <th>4</th>\n",
       "      <td>Gramophone</td>\n",
       "      <td>2016.0</td>\n",
       "      <td>Indore</td>\n",
       "      <td>AgriTech</td>\n",
       "      <td>Gramophone is an AgTech platform enabling acce...</td>\n",
       "      <td>Ashish Rajan Singh, Harshit Gupta, Nishant Mah...</td>\n",
       "      <td>Siana Capital Management, Info Edge</td>\n",
       "      <td>340000.0</td>\n",
       "      <td>None</td>\n",
       "      <td>None</td>\n",
       "      <td>2020</td>\n",
       "    </tr>\n",
       "  </tbody>\n",
       "</table>\n",
       "</div>"
      ],
      "text/plain": [
       "  Company_Brand  Founded HeadQuarter              Sector  \\\n",
       "0    Aqgromalin   2019.0     Chennai            AgriTech   \n",
       "1      Krayonnz   2019.0   Bangalore              EdTech   \n",
       "2  PadCare Labs   2018.0        Pune  Hygiene management   \n",
       "3         NCOME   2020.0   New Delhi              Escrow   \n",
       "4    Gramophone   2016.0      Indore            AgriTech   \n",
       "\n",
       "                                        What_it_does  \\\n",
       "0                       Cultivating Ideas for Profit   \n",
       "1  An academy-guardian-scholar centric ecosystem ...   \n",
       "2   Converting bio-hazardous waste to harmless waste   \n",
       "3                       Escrow-as-a-service platform   \n",
       "4  Gramophone is an AgTech platform enabling acce...   \n",
       "\n",
       "                                            Founders  \\\n",
       "0                    Prasanna Manogaran, Bharani C L   \n",
       "1                   Saurabh Dixit, Gurudutt Upadhyay   \n",
       "2                                    Ajinkya Dhariya   \n",
       "3                                      Ritesh Tiwari   \n",
       "4  Ashish Rajan Singh, Harshit Gupta, Nishant Mah...   \n",
       "\n",
       "                              Investor    Amount     Stage column10  year  \n",
       "0                      Angel investors  200000.0      None     None  2020  \n",
       "1                      GSF Accelerator  100000.0  Pre-seed     None  2020  \n",
       "2                       Venture Center       NaN  Pre-seed     None  2020  \n",
       "3  Venture Catalysts, PointOne Capital  400000.0      None     None  2020  \n",
       "4  Siana Capital Management, Info Edge  340000.0      None     None  2020  "
      ]
     },
     "execution_count": 61,
     "metadata": {},
     "output_type": "execute_result"
    }
   ],
   "source": [
    "#checking column types\n",
    "(df_2020\n",
    " .head())"
   ]
  },
  {
   "cell_type": "code",
   "execution_count": 62,
   "metadata": {},
   "outputs": [
    {
     "data": {
      "text/plain": [
       "Company_Brand     object\n",
       "Founded          float64\n",
       "HeadQuarter       object\n",
       "Sector            object\n",
       "What_it_does      object\n",
       "Founders          object\n",
       "Investor          object\n",
       "Amount           float64\n",
       "Stage             object\n",
       "column10          object\n",
       "year               int64\n",
       "dtype: object"
      ]
     },
     "execution_count": 62,
     "metadata": {},
     "output_type": "execute_result"
    }
   ],
   "source": [
    "df_2020.dtypes"
   ]
  },
  {
   "cell_type": "code",
   "execution_count": 63,
   "metadata": {},
   "outputs": [
    {
     "data": {
      "text/plain": [
       "Company_Brand       0\n",
       "Founded           213\n",
       "HeadQuarter        94\n",
       "Sector             13\n",
       "What_it_does        0\n",
       "Founders           12\n",
       "Investor           38\n",
       "Amount            254\n",
       "Stage             464\n",
       "column10         1053\n",
       "year                0\n",
       "dtype: int64"
      ]
     },
     "execution_count": 63,
     "metadata": {},
     "output_type": "execute_result"
    }
   ],
   "source": [
    "df_2020.isna().sum()"
   ]
  },
  {
   "cell_type": "markdown",
   "metadata": {},
   "source": [
    "**Notes:**\n",
    "1. Founded column is not in the correct data type\n",
    "2. The dataset has all the expected columns. The HeadQuarter column should be Headquarter\n",
    "3. There is a column (column 10) that is not required for the analysis - to be dropped."
   ]
  },
  {
   "cell_type": "code",
   "execution_count": 64,
   "metadata": {},
   "outputs": [
    {
     "data": {
      "text/html": [
       "<div>\n",
       "<style scoped>\n",
       "    .dataframe tbody tr th:only-of-type {\n",
       "        vertical-align: middle;\n",
       "    }\n",
       "\n",
       "    .dataframe tbody tr th {\n",
       "        vertical-align: top;\n",
       "    }\n",
       "\n",
       "    .dataframe thead th {\n",
       "        text-align: right;\n",
       "    }\n",
       "</style>\n",
       "<table border=\"1\" class=\"dataframe\">\n",
       "  <thead>\n",
       "    <tr style=\"text-align: right;\">\n",
       "      <th></th>\n",
       "      <th>Company_Brand</th>\n",
       "      <th>Founded</th>\n",
       "      <th>HeadQuarter</th>\n",
       "      <th>Sector</th>\n",
       "      <th>What_it_does</th>\n",
       "      <th>Founders</th>\n",
       "      <th>Investor</th>\n",
       "      <th>Amount</th>\n",
       "      <th>Stage</th>\n",
       "      <th>year</th>\n",
       "    </tr>\n",
       "  </thead>\n",
       "  <tbody>\n",
       "    <tr>\n",
       "      <th>0</th>\n",
       "      <td>Aqgromalin</td>\n",
       "      <td>2019.0</td>\n",
       "      <td>Chennai</td>\n",
       "      <td>AgriTech</td>\n",
       "      <td>Cultivating Ideas for Profit</td>\n",
       "      <td>Prasanna Manogaran, Bharani C L</td>\n",
       "      <td>Angel investors</td>\n",
       "      <td>200000.0</td>\n",
       "      <td>None</td>\n",
       "      <td>2020</td>\n",
       "    </tr>\n",
       "    <tr>\n",
       "      <th>1</th>\n",
       "      <td>Krayonnz</td>\n",
       "      <td>2019.0</td>\n",
       "      <td>Bangalore</td>\n",
       "      <td>EdTech</td>\n",
       "      <td>An academy-guardian-scholar centric ecosystem ...</td>\n",
       "      <td>Saurabh Dixit, Gurudutt Upadhyay</td>\n",
       "      <td>GSF Accelerator</td>\n",
       "      <td>100000.0</td>\n",
       "      <td>Pre-seed</td>\n",
       "      <td>2020</td>\n",
       "    </tr>\n",
       "    <tr>\n",
       "      <th>2</th>\n",
       "      <td>PadCare Labs</td>\n",
       "      <td>2018.0</td>\n",
       "      <td>Pune</td>\n",
       "      <td>Hygiene management</td>\n",
       "      <td>Converting bio-hazardous waste to harmless waste</td>\n",
       "      <td>Ajinkya Dhariya</td>\n",
       "      <td>Venture Center</td>\n",
       "      <td>NaN</td>\n",
       "      <td>Pre-seed</td>\n",
       "      <td>2020</td>\n",
       "    </tr>\n",
       "    <tr>\n",
       "      <th>3</th>\n",
       "      <td>NCOME</td>\n",
       "      <td>2020.0</td>\n",
       "      <td>New Delhi</td>\n",
       "      <td>Escrow</td>\n",
       "      <td>Escrow-as-a-service platform</td>\n",
       "      <td>Ritesh Tiwari</td>\n",
       "      <td>Venture Catalysts, PointOne Capital</td>\n",
       "      <td>400000.0</td>\n",
       "      <td>None</td>\n",
       "      <td>2020</td>\n",
       "    </tr>\n",
       "    <tr>\n",
       "      <th>4</th>\n",
       "      <td>Gramophone</td>\n",
       "      <td>2016.0</td>\n",
       "      <td>Indore</td>\n",
       "      <td>AgriTech</td>\n",
       "      <td>Gramophone is an AgTech platform enabling acce...</td>\n",
       "      <td>Ashish Rajan Singh, Harshit Gupta, Nishant Mah...</td>\n",
       "      <td>Siana Capital Management, Info Edge</td>\n",
       "      <td>340000.0</td>\n",
       "      <td>None</td>\n",
       "      <td>2020</td>\n",
       "    </tr>\n",
       "  </tbody>\n",
       "</table>\n",
       "</div>"
      ],
      "text/plain": [
       "  Company_Brand  Founded HeadQuarter              Sector  \\\n",
       "0    Aqgromalin   2019.0     Chennai            AgriTech   \n",
       "1      Krayonnz   2019.0   Bangalore              EdTech   \n",
       "2  PadCare Labs   2018.0        Pune  Hygiene management   \n",
       "3         NCOME   2020.0   New Delhi              Escrow   \n",
       "4    Gramophone   2016.0      Indore            AgriTech   \n",
       "\n",
       "                                        What_it_does  \\\n",
       "0                       Cultivating Ideas for Profit   \n",
       "1  An academy-guardian-scholar centric ecosystem ...   \n",
       "2   Converting bio-hazardous waste to harmless waste   \n",
       "3                       Escrow-as-a-service platform   \n",
       "4  Gramophone is an AgTech platform enabling acce...   \n",
       "\n",
       "                                            Founders  \\\n",
       "0                    Prasanna Manogaran, Bharani C L   \n",
       "1                   Saurabh Dixit, Gurudutt Upadhyay   \n",
       "2                                    Ajinkya Dhariya   \n",
       "3                                      Ritesh Tiwari   \n",
       "4  Ashish Rajan Singh, Harshit Gupta, Nishant Mah...   \n",
       "\n",
       "                              Investor    Amount     Stage  year  \n",
       "0                      Angel investors  200000.0      None  2020  \n",
       "1                      GSF Accelerator  100000.0  Pre-seed  2020  \n",
       "2                       Venture Center       NaN  Pre-seed  2020  \n",
       "3  Venture Catalysts, PointOne Capital  400000.0      None  2020  \n",
       "4  Siana Capital Management, Info Edge  340000.0      None  2020  "
      ]
     },
     "execution_count": 64,
     "metadata": {},
     "output_type": "execute_result"
    }
   ],
   "source": [
    "# Drop the column10 column\n",
    "df_2020 = (df_2020\n",
    "           .drop(columns=\"column10\")\n",
    "           )\n",
    "df_2020.head()"
   ]
  },
  {
   "cell_type": "code",
   "execution_count": 65,
   "metadata": {},
   "outputs": [
    {
     "data": {
      "text/plain": [
       "(1055, 10)"
      ]
     },
     "execution_count": 65,
     "metadata": {},
     "output_type": "execute_result"
    }
   ],
   "source": [
    "#checking the shapes of the dataframe\n",
    "(df_2020\n",
    " .shape\n",
    " )"
   ]
  },
  {
   "cell_type": "markdown",
   "metadata": {},
   "source": [
    "**Notes:**\n",
    "1. The dataset has 1055 observations and 10 features, the number of features is more than expected."
   ]
  },
  {
   "cell_type": "code",
   "execution_count": 66,
   "metadata": {},
   "outputs": [
    {
     "data": {
      "text/plain": [
       "Company_Brand      0\n",
       "Founded          213\n",
       "HeadQuarter       94\n",
       "Sector            13\n",
       "What_it_does       0\n",
       "Founders          12\n",
       "Investor          38\n",
       "Amount           254\n",
       "Stage            464\n",
       "year               0\n",
       "dtype: int64"
      ]
     },
     "execution_count": 66,
     "metadata": {},
     "output_type": "execute_result"
    }
   ],
   "source": [
    "# Check for missing values\n",
    "df_2020.isna().sum()\n"
   ]
  },
  {
   "cell_type": "markdown",
   "metadata": {},
   "source": [
    "**Observation:**\n",
    "1. The data has A LOT of missing values."
   ]
  },
  {
   "cell_type": "code",
   "execution_count": 67,
   "metadata": {},
   "outputs": [
    {
     "data": {
      "text/plain": [
       "3"
      ]
     },
     "execution_count": 67,
     "metadata": {},
     "output_type": "execute_result"
    }
   ],
   "source": [
    "# Check for duplicates\n",
    "df_2020.duplicated().sum()"
   ]
  },
  {
   "cell_type": "markdown",
   "metadata": {},
   "source": [
    "**Observation:**\n",
    "1. There are 3 duplicates in the data, which will be dropped"
   ]
  },
  {
   "cell_type": "code",
   "execution_count": 68,
   "metadata": {},
   "outputs": [],
   "source": [
    "# Drop duplicates\n",
    "df_2020 = (df_2020\n",
    "           .drop_duplicates()\n",
    "           )"
   ]
  },
  {
   "cell_type": "markdown",
   "metadata": {},
   "source": [
    "#### **Note**\n",
    "Dropping observations is not a solutions to this data cleaning; the problem will be approached in a different manner.\n",
    "\n",
    "1. The missing values in the `Amount` column has been filled with `0s`\n",
    "2. The missing values in the `Founded` columns will be filled with `0s` to represent unknown year.\n",
    "3. All the missing values in the object columns will be filled with `Unknown`, this will ensure the integrity of the data.\n",
    "4. Columns such as Sector, Investor and stage is having a wrong datatype. We have to convert them to the Categorical Dtype"
   ]
  },
  {
   "cell_type": "markdown",
   "metadata": {},
   "source": [
    "#### **Amount Column Cleaning**\n"
   ]
  },
  {
   "cell_type": "code",
   "execution_count": 69,
   "metadata": {},
   "outputs": [
    {
     "data": {
      "text/plain": [
       "0         200000.0\n",
       "1         100000.0\n",
       "2              0.0\n",
       "3         400000.0\n",
       "4         340000.0\n",
       "           ...    \n",
       "1050     1500000.0\n",
       "1051    13200000.0\n",
       "1052     8000000.0\n",
       "1053     8043000.0\n",
       "1054     9000000.0\n",
       "Name: Amount, Length: 1052, dtype: float64"
      ]
     },
     "execution_count": 69,
     "metadata": {},
     "output_type": "execute_result"
    }
   ],
   "source": [
    "#filling the NaN values with 0\n",
    "df_2020['Amount'] = (df_2020\n",
    "                     ['Amount']\n",
    "                     .fillna(0)\n",
    "                     )\n",
    "df_2020.Amount"
   ]
  },
  {
   "cell_type": "markdown",
   "metadata": {},
   "source": [
    "#### **Founded Column**"
   ]
  },
  {
   "cell_type": "code",
   "execution_count": 70,
   "metadata": {},
   "outputs": [
    {
     "data": {
      "text/plain": [
       "0       2019\n",
       "1       2019\n",
       "2       2018\n",
       "3       2020\n",
       "4       2016\n",
       "        ... \n",
       "1050       0\n",
       "1051       0\n",
       "1052    2012\n",
       "1053    2015\n",
       "1054    2017\n",
       "Name: Founded, Length: 1052, dtype: int32"
      ]
     },
     "execution_count": 70,
     "metadata": {},
     "output_type": "execute_result"
    }
   ],
   "source": [
    "# Convert Founded to int dtype\n",
    "df_2020['Founded'] = (df_2020\n",
    "                      ['Founded']\n",
    "                      .fillna(0)\n",
    "                      .astype('int') #converting to int\n",
    "                      )\n",
    "\n",
    "df_2020.Founded"
   ]
  },
  {
   "cell_type": "markdown",
   "metadata": {},
   "source": [
    "#### **Founders Column**"
   ]
  },
  {
   "cell_type": "code",
   "execution_count": 71,
   "metadata": {},
   "outputs": [
    {
     "data": {
      "text/plain": [
       "0                         Prasanna Manogaran, Bharani C L\n",
       "1                        Saurabh Dixit, Gurudutt Upadhyay\n",
       "2                                         Ajinkya Dhariya\n",
       "3                                           Ritesh Tiwari\n",
       "4       Ashish Rajan Singh, Harshit Gupta, Nishant Mah...\n",
       "                              ...                        \n",
       "1050                                    Akshay Chaturvedi\n",
       "1051                      Sujith Narayanan, Sumit Gwalani\n",
       "1052                            Manish Taneja, Rahul Dash\n",
       "1053                        Amit Singh, Deepanshu Malviya\n",
       "1054                       Jayakrishnan, Abhijeet Manohar\n",
       "Name: Founders, Length: 1052, dtype: object"
      ]
     },
     "execution_count": 71,
     "metadata": {},
     "output_type": "execute_result"
    }
   ],
   "source": [
    "#filling Founders na with unknown\n",
    "df_2020['Founders'] = (df_2020\n",
    "                       ['Founders']\n",
    "                       .fillna('Unknown')\n",
    "                       )\n",
    "df_2020['Founders']"
   ]
  },
  {
   "cell_type": "markdown",
   "metadata": {},
   "source": [
    "#### **Stage Column**"
   ]
  },
  {
   "cell_type": "code",
   "execution_count": 72,
   "metadata": {},
   "outputs": [],
   "source": [
    "#filling the na with unknown\n",
    "df_2020['Stage'] = (df_2020\n",
    "                    ['Stage']\n",
    "                    .fillna('Unknown') #filling with Unknown\n",
    "                    .astype('category') #converting to category dtype\n",
    "                    )"
   ]
  },
  {
   "cell_type": "markdown",
   "metadata": {},
   "source": [
    "#### **HeadQuarter Column**"
   ]
  },
  {
   "cell_type": "code",
   "execution_count": 73,
   "metadata": {},
   "outputs": [],
   "source": [
    "#filling na with unknown\n",
    "df_2020['HeadQuarter'] = (df_2020\n",
    "                          ['HeadQuarter']\n",
    "                          .fillna('Unknown')\n",
    "                          )"
   ]
  },
  {
   "cell_type": "markdown",
   "metadata": {},
   "source": [
    "#### **Investor Column**"
   ]
  },
  {
   "cell_type": "code",
   "execution_count": 74,
   "metadata": {},
   "outputs": [],
   "source": [
    "#filling na with unkown\n",
    "df_2020['Investor'] = (df_2020\n",
    "                       ['Investor']\n",
    "                       .fillna('Unknown')\n",
    "                       )"
   ]
  },
  {
   "cell_type": "markdown",
   "metadata": {},
   "source": [
    "#### **Sector Column**"
   ]
  },
  {
   "cell_type": "code",
   "execution_count": 75,
   "metadata": {},
   "outputs": [
    {
     "data": {
      "text/plain": [
       "0                 AgriTech\n",
       "1                   EdTech\n",
       "2       Hygiene management\n",
       "3                   Escrow\n",
       "4                 AgriTech\n",
       "               ...        \n",
       "1050                Edtech\n",
       "1051               Fintech\n",
       "1052             Cosmetics\n",
       "1053             Transport\n",
       "1054              Logitech\n",
       "Name: Sector, Length: 1052, dtype: object"
      ]
     },
     "execution_count": 75,
     "metadata": {},
     "output_type": "execute_result"
    }
   ],
   "source": [
    "df_2020['Sector'] = (df_2020\n",
    "                     ['Sector']\n",
    "                     .fillna('Unknown')\n",
    "                     )\n",
    "df_2020['Sector']"
   ]
  },
  {
   "cell_type": "markdown",
   "metadata": {},
   "source": [
    "#### **Final Touches**"
   ]
  },
  {
   "cell_type": "code",
   "execution_count": 76,
   "metadata": {},
   "outputs": [
    {
     "data": {
      "text/plain": [
       "Company_Brand    0\n",
       "Founded          0\n",
       "HeadQuarter      0\n",
       "Sector           0\n",
       "What_it_does     0\n",
       "Founders         0\n",
       "Investor         0\n",
       "Amount           0\n",
       "Stage            0\n",
       "year             0\n",
       "dtype: int64"
      ]
     },
     "execution_count": 76,
     "metadata": {},
     "output_type": "execute_result"
    }
   ],
   "source": [
    "#confirming no nulls remain\n",
    "df_2020.isna().sum()"
   ]
  },
  {
   "cell_type": "code",
   "execution_count": 77,
   "metadata": {},
   "outputs": [
    {
     "data": {
      "text/plain": [
       "Company_Brand      object\n",
       "Founded             int32\n",
       "HeadQuarter      category\n",
       "Sector           category\n",
       "What_it_does       object\n",
       "Founders           object\n",
       "Investor         category\n",
       "Amount            float64\n",
       "Stage            category\n",
       "year                int64\n",
       "dtype: object"
      ]
     },
     "execution_count": 77,
     "metadata": {},
     "output_type": "execute_result"
    }
   ],
   "source": [
    "# Converting the dtype of Sector, Stage, and Investor from Object to categorical.\n",
    "for col in ['Sector', 'Investor', \"Stage\", \"HeadQuarter\"]:\n",
    "    df_2020[col] = df_2020[col].astype('category')\n",
    "    \n",
    "df_2020.dtypes"
   ]
  },
  {
   "cell_type": "code",
   "execution_count": 78,
   "metadata": {},
   "outputs": [
    {
     "data": {
      "text/plain": [
       "company          object\n",
       "founded           int32\n",
       "location       category\n",
       "sector         category\n",
       "description      object\n",
       "founders         object\n",
       "investor       category\n",
       "amount          float64\n",
       "stage          category\n",
       "year              int64\n",
       "dtype: object"
      ]
     },
     "execution_count": 78,
     "metadata": {},
     "output_type": "execute_result"
    }
   ],
   "source": [
    "#renaming all columns to expected column names\n",
    "df_2020 = (df_2020\n",
    "           .rename(columns = {'Company_Brand':'company','HeadQuarter':'location',\n",
    "                              'Sector':'sector','What_it_does':'description',\n",
    "                              'Founders':'founders','Investor':'investor', 'Amount':'amount',\n",
    "                              'Stage':'stage', 'Founded':'founded'}) #renaming columns\n",
    "           )\n",
    "df_2020.dtypes"
   ]
  },
  {
   "cell_type": "markdown",
   "metadata": {},
   "source": [
    "## **2021 CLEANING**"
   ]
  },
  {
   "cell_type": "code",
   "execution_count": 79,
   "metadata": {},
   "outputs": [
    {
     "data": {
      "text/html": [
       "<div>\n",
       "<style scoped>\n",
       "    .dataframe tbody tr th:only-of-type {\n",
       "        vertical-align: middle;\n",
       "    }\n",
       "\n",
       "    .dataframe tbody tr th {\n",
       "        vertical-align: top;\n",
       "    }\n",
       "\n",
       "    .dataframe thead th {\n",
       "        text-align: right;\n",
       "    }\n",
       "</style>\n",
       "<table border=\"1\" class=\"dataframe\">\n",
       "  <thead>\n",
       "    <tr style=\"text-align: right;\">\n",
       "      <th></th>\n",
       "      <th>Company_Brand</th>\n",
       "      <th>Founded</th>\n",
       "      <th>HeadQuarter</th>\n",
       "      <th>Sector</th>\n",
       "      <th>What_it_does</th>\n",
       "      <th>Founders</th>\n",
       "      <th>Investor</th>\n",
       "      <th>Amount</th>\n",
       "      <th>Stage</th>\n",
       "      <th>year</th>\n",
       "    </tr>\n",
       "  </thead>\n",
       "  <tbody>\n",
       "    <tr>\n",
       "      <th>0</th>\n",
       "      <td>Unbox Robotics</td>\n",
       "      <td>2019.0</td>\n",
       "      <td>Bangalore</td>\n",
       "      <td>AI startup</td>\n",
       "      <td>Unbox Robotics builds on-demand AI-driven ware...</td>\n",
       "      <td>Pramod Ghadge, Shahid Memon</td>\n",
       "      <td>BEENEXT, Entrepreneur First</td>\n",
       "      <td>$1,200,000</td>\n",
       "      <td>Pre-series A</td>\n",
       "      <td>2021</td>\n",
       "    </tr>\n",
       "    <tr>\n",
       "      <th>1</th>\n",
       "      <td>upGrad</td>\n",
       "      <td>2015.0</td>\n",
       "      <td>Mumbai</td>\n",
       "      <td>EdTech</td>\n",
       "      <td>UpGrad is an online higher education platform.</td>\n",
       "      <td>Mayank Kumar, Phalgun Kompalli, Ravijot Chugh,...</td>\n",
       "      <td>Unilazer Ventures, IIFL Asset Management</td>\n",
       "      <td>$120,000,000</td>\n",
       "      <td>None</td>\n",
       "      <td>2021</td>\n",
       "    </tr>\n",
       "    <tr>\n",
       "      <th>2</th>\n",
       "      <td>Lead School</td>\n",
       "      <td>2012.0</td>\n",
       "      <td>Mumbai</td>\n",
       "      <td>EdTech</td>\n",
       "      <td>LEAD School offers technology based school tra...</td>\n",
       "      <td>Smita Deorah, Sumeet Mehta</td>\n",
       "      <td>GSV Ventures, Westbridge Capital</td>\n",
       "      <td>$30,000,000</td>\n",
       "      <td>Series D</td>\n",
       "      <td>2021</td>\n",
       "    </tr>\n",
       "    <tr>\n",
       "      <th>3</th>\n",
       "      <td>Bizongo</td>\n",
       "      <td>2015.0</td>\n",
       "      <td>Mumbai</td>\n",
       "      <td>B2B E-commerce</td>\n",
       "      <td>Bizongo is a business-to-business online marke...</td>\n",
       "      <td>Aniket Deb, Ankit Tomar, Sachin Agrawal</td>\n",
       "      <td>CDC Group, IDG Capital</td>\n",
       "      <td>$51,000,000</td>\n",
       "      <td>Series C</td>\n",
       "      <td>2021</td>\n",
       "    </tr>\n",
       "    <tr>\n",
       "      <th>4</th>\n",
       "      <td>FypMoney</td>\n",
       "      <td>2021.0</td>\n",
       "      <td>Gurugram</td>\n",
       "      <td>FinTech</td>\n",
       "      <td>FypMoney is Digital NEO Bank for Teenagers, em...</td>\n",
       "      <td>Kapil Banwari</td>\n",
       "      <td>Liberatha Kallat, Mukesh Yadav, Dinesh Nagpal</td>\n",
       "      <td>$2,000,000</td>\n",
       "      <td>Seed</td>\n",
       "      <td>2021</td>\n",
       "    </tr>\n",
       "    <tr>\n",
       "      <th>5</th>\n",
       "      <td>Urban Company</td>\n",
       "      <td>2014.0</td>\n",
       "      <td>New Delhi</td>\n",
       "      <td>Home services</td>\n",
       "      <td>Urban Company (Formerly UrbanClap) is a home a...</td>\n",
       "      <td>Abhiraj Singh Bhal, Raghav Chandra, Varun Khaitan</td>\n",
       "      <td>Vy Capital</td>\n",
       "      <td>$188,000,000</td>\n",
       "      <td>None</td>\n",
       "      <td>2021</td>\n",
       "    </tr>\n",
       "    <tr>\n",
       "      <th>6</th>\n",
       "      <td>Comofi Medtech</td>\n",
       "      <td>2018.0</td>\n",
       "      <td>Bangalore</td>\n",
       "      <td>HealthTech</td>\n",
       "      <td>Comofi Medtech is a healthcare robotics startup.</td>\n",
       "      <td>Gururaj KB</td>\n",
       "      <td>CIIE.CO, KIIT-TBI</td>\n",
       "      <td>$200,000</td>\n",
       "      <td>None</td>\n",
       "      <td>2021</td>\n",
       "    </tr>\n",
       "    <tr>\n",
       "      <th>7</th>\n",
       "      <td>Qube Health</td>\n",
       "      <td>2016.0</td>\n",
       "      <td>Mumbai</td>\n",
       "      <td>HealthTech</td>\n",
       "      <td>India's Most Respected Workplace Healthcare Ma...</td>\n",
       "      <td>Gagan Kapur</td>\n",
       "      <td>Inflection Point Ventures</td>\n",
       "      <td>Undisclosed</td>\n",
       "      <td>Pre-series A</td>\n",
       "      <td>2021</td>\n",
       "    </tr>\n",
       "    <tr>\n",
       "      <th>8</th>\n",
       "      <td>Vitra.ai</td>\n",
       "      <td>2020.0</td>\n",
       "      <td>Bangalore</td>\n",
       "      <td>Tech Startup</td>\n",
       "      <td>Vitra.ai is an AI-based video translation plat...</td>\n",
       "      <td>Akash Nidhi PS</td>\n",
       "      <td>Inflexor Ventures</td>\n",
       "      <td>Undisclosed</td>\n",
       "      <td>None</td>\n",
       "      <td>2021</td>\n",
       "    </tr>\n",
       "    <tr>\n",
       "      <th>9</th>\n",
       "      <td>Taikee</td>\n",
       "      <td>2010.0</td>\n",
       "      <td>Mumbai</td>\n",
       "      <td>E-commerce</td>\n",
       "      <td>Taikee is the ISO-certified, B2B e-commerce pl...</td>\n",
       "      <td>Nidhi Ramachandran, Sachin Chhabra</td>\n",
       "      <td>None</td>\n",
       "      <td>$1,000,000</td>\n",
       "      <td>None</td>\n",
       "      <td>2021</td>\n",
       "    </tr>\n",
       "  </tbody>\n",
       "</table>\n",
       "</div>"
      ],
      "text/plain": [
       "    Company_Brand  Founded HeadQuarter          Sector  \\\n",
       "0  Unbox Robotics   2019.0   Bangalore      AI startup   \n",
       "1          upGrad   2015.0      Mumbai          EdTech   \n",
       "2     Lead School   2012.0      Mumbai          EdTech   \n",
       "3         Bizongo   2015.0      Mumbai  B2B E-commerce   \n",
       "4        FypMoney   2021.0    Gurugram         FinTech   \n",
       "5   Urban Company   2014.0   New Delhi   Home services   \n",
       "6  Comofi Medtech   2018.0   Bangalore      HealthTech   \n",
       "7     Qube Health   2016.0      Mumbai      HealthTech   \n",
       "8        Vitra.ai   2020.0   Bangalore    Tech Startup   \n",
       "9          Taikee   2010.0      Mumbai      E-commerce   \n",
       "\n",
       "                                        What_it_does  \\\n",
       "0  Unbox Robotics builds on-demand AI-driven ware...   \n",
       "1     UpGrad is an online higher education platform.   \n",
       "2  LEAD School offers technology based school tra...   \n",
       "3  Bizongo is a business-to-business online marke...   \n",
       "4  FypMoney is Digital NEO Bank for Teenagers, em...   \n",
       "5  Urban Company (Formerly UrbanClap) is a home a...   \n",
       "6   Comofi Medtech is a healthcare robotics startup.   \n",
       "7  India's Most Respected Workplace Healthcare Ma...   \n",
       "8  Vitra.ai is an AI-based video translation plat...   \n",
       "9  Taikee is the ISO-certified, B2B e-commerce pl...   \n",
       "\n",
       "                                            Founders  \\\n",
       "0                        Pramod Ghadge, Shahid Memon   \n",
       "1  Mayank Kumar, Phalgun Kompalli, Ravijot Chugh,...   \n",
       "2                         Smita Deorah, Sumeet Mehta   \n",
       "3            Aniket Deb, Ankit Tomar, Sachin Agrawal   \n",
       "4                                      Kapil Banwari   \n",
       "5  Abhiraj Singh Bhal, Raghav Chandra, Varun Khaitan   \n",
       "6                                         Gururaj KB   \n",
       "7                                        Gagan Kapur   \n",
       "8                                     Akash Nidhi PS   \n",
       "9                 Nidhi Ramachandran, Sachin Chhabra   \n",
       "\n",
       "                                        Investor        Amount         Stage  \\\n",
       "0                    BEENEXT, Entrepreneur First    $1,200,000  Pre-series A   \n",
       "1       Unilazer Ventures, IIFL Asset Management  $120,000,000          None   \n",
       "2               GSV Ventures, Westbridge Capital   $30,000,000      Series D   \n",
       "3                         CDC Group, IDG Capital   $51,000,000      Series C   \n",
       "4  Liberatha Kallat, Mukesh Yadav, Dinesh Nagpal    $2,000,000          Seed   \n",
       "5                                     Vy Capital  $188,000,000          None   \n",
       "6                              CIIE.CO, KIIT-TBI      $200,000          None   \n",
       "7                      Inflection Point Ventures   Undisclosed  Pre-series A   \n",
       "8                              Inflexor Ventures   Undisclosed          None   \n",
       "9                                           None    $1,000,000          None   \n",
       "\n",
       "   year  \n",
       "0  2021  \n",
       "1  2021  \n",
       "2  2021  \n",
       "3  2021  \n",
       "4  2021  \n",
       "5  2021  \n",
       "6  2021  \n",
       "7  2021  \n",
       "8  2021  \n",
       "9  2021  "
      ]
     },
     "execution_count": 79,
     "metadata": {},
     "output_type": "execute_result"
    }
   ],
   "source": [
    "df_2021.head(10)"
   ]
  },
  {
   "cell_type": "code",
   "execution_count": 80,
   "metadata": {},
   "outputs": [
    {
     "data": {
      "text/plain": [
       "Company_Brand     object\n",
       "Founded          float64\n",
       "HeadQuarter       object\n",
       "Sector            object\n",
       "What_it_does      object\n",
       "Founders          object\n",
       "Investor          object\n",
       "Amount            object\n",
       "Stage             object\n",
       "year               int64\n",
       "dtype: object"
      ]
     },
     "execution_count": 80,
     "metadata": {},
     "output_type": "execute_result"
    }
   ],
   "source": [
    "#checking datatypes\n",
    "df_2021.dtypes"
   ]
  },
  {
   "cell_type": "markdown",
   "metadata": {},
   "source": [
    "**Observations:**\n",
    "Some columns aren't in the expected datatype."
   ]
  },
  {
   "cell_type": "code",
   "execution_count": 81,
   "metadata": {},
   "outputs": [
    {
     "data": {
      "text/plain": [
       "Company_Brand      0\n",
       "Founded            1\n",
       "HeadQuarter        1\n",
       "Sector             0\n",
       "What_it_does       0\n",
       "Founders           4\n",
       "Investor          62\n",
       "Amount             3\n",
       "Stage            428\n",
       "year               0\n",
       "dtype: int64"
      ]
     },
     "execution_count": 81,
     "metadata": {},
     "output_type": "execute_result"
    }
   ],
   "source": [
    "#checking nulls\n",
    "df_2021.isna().sum()"
   ]
  },
  {
   "cell_type": "markdown",
   "metadata": {},
   "source": [
    "**Observation:** \n",
    "There are missing values in most columns, we will fill/drop as appropriate"
   ]
  },
  {
   "cell_type": "code",
   "execution_count": 82,
   "metadata": {},
   "outputs": [
    {
     "data": {
      "text/plain": [
       "19"
      ]
     },
     "execution_count": 82,
     "metadata": {},
     "output_type": "execute_result"
    }
   ],
   "source": [
    "#check for duplicates\n",
    "df_2021.duplicated().sum()"
   ]
  },
  {
   "cell_type": "markdown",
   "metadata": {},
   "source": [
    "* There are 19 duplicate records. We will drop them"
   ]
  },
  {
   "cell_type": "code",
   "execution_count": 83,
   "metadata": {},
   "outputs": [
    {
     "data": {
      "text/html": [
       "<div>\n",
       "<style scoped>\n",
       "    .dataframe tbody tr th:only-of-type {\n",
       "        vertical-align: middle;\n",
       "    }\n",
       "\n",
       "    .dataframe tbody tr th {\n",
       "        vertical-align: top;\n",
       "    }\n",
       "\n",
       "    .dataframe thead th {\n",
       "        text-align: right;\n",
       "    }\n",
       "</style>\n",
       "<table border=\"1\" class=\"dataframe\">\n",
       "  <thead>\n",
       "    <tr style=\"text-align: right;\">\n",
       "      <th></th>\n",
       "      <th>Company_Brand</th>\n",
       "      <th>Founded</th>\n",
       "      <th>HeadQuarter</th>\n",
       "      <th>Sector</th>\n",
       "      <th>What_it_does</th>\n",
       "      <th>Founders</th>\n",
       "      <th>Investor</th>\n",
       "      <th>Amount</th>\n",
       "      <th>Stage</th>\n",
       "      <th>year</th>\n",
       "    </tr>\n",
       "  </thead>\n",
       "  <tbody>\n",
       "    <tr>\n",
       "      <th>0</th>\n",
       "      <td>Unbox Robotics</td>\n",
       "      <td>2019.0</td>\n",
       "      <td>Bangalore</td>\n",
       "      <td>AI startup</td>\n",
       "      <td>Unbox Robotics builds on-demand AI-driven ware...</td>\n",
       "      <td>Pramod Ghadge, Shahid Memon</td>\n",
       "      <td>BEENEXT, Entrepreneur First</td>\n",
       "      <td>$1,200,000</td>\n",
       "      <td>Pre-series A</td>\n",
       "      <td>2021</td>\n",
       "    </tr>\n",
       "    <tr>\n",
       "      <th>1</th>\n",
       "      <td>upGrad</td>\n",
       "      <td>2015.0</td>\n",
       "      <td>Mumbai</td>\n",
       "      <td>EdTech</td>\n",
       "      <td>UpGrad is an online higher education platform.</td>\n",
       "      <td>Mayank Kumar, Phalgun Kompalli, Ravijot Chugh,...</td>\n",
       "      <td>Unilazer Ventures, IIFL Asset Management</td>\n",
       "      <td>$120,000,000</td>\n",
       "      <td>None</td>\n",
       "      <td>2021</td>\n",
       "    </tr>\n",
       "    <tr>\n",
       "      <th>2</th>\n",
       "      <td>Lead School</td>\n",
       "      <td>2012.0</td>\n",
       "      <td>Mumbai</td>\n",
       "      <td>EdTech</td>\n",
       "      <td>LEAD School offers technology based school tra...</td>\n",
       "      <td>Smita Deorah, Sumeet Mehta</td>\n",
       "      <td>GSV Ventures, Westbridge Capital</td>\n",
       "      <td>$30,000,000</td>\n",
       "      <td>Series D</td>\n",
       "      <td>2021</td>\n",
       "    </tr>\n",
       "    <tr>\n",
       "      <th>3</th>\n",
       "      <td>Bizongo</td>\n",
       "      <td>2015.0</td>\n",
       "      <td>Mumbai</td>\n",
       "      <td>B2B E-commerce</td>\n",
       "      <td>Bizongo is a business-to-business online marke...</td>\n",
       "      <td>Aniket Deb, Ankit Tomar, Sachin Agrawal</td>\n",
       "      <td>CDC Group, IDG Capital</td>\n",
       "      <td>$51,000,000</td>\n",
       "      <td>Series C</td>\n",
       "      <td>2021</td>\n",
       "    </tr>\n",
       "    <tr>\n",
       "      <th>4</th>\n",
       "      <td>FypMoney</td>\n",
       "      <td>2021.0</td>\n",
       "      <td>Gurugram</td>\n",
       "      <td>FinTech</td>\n",
       "      <td>FypMoney is Digital NEO Bank for Teenagers, em...</td>\n",
       "      <td>Kapil Banwari</td>\n",
       "      <td>Liberatha Kallat, Mukesh Yadav, Dinesh Nagpal</td>\n",
       "      <td>$2,000,000</td>\n",
       "      <td>Seed</td>\n",
       "      <td>2021</td>\n",
       "    </tr>\n",
       "    <tr>\n",
       "      <th>...</th>\n",
       "      <td>...</td>\n",
       "      <td>...</td>\n",
       "      <td>...</td>\n",
       "      <td>...</td>\n",
       "      <td>...</td>\n",
       "      <td>...</td>\n",
       "      <td>...</td>\n",
       "      <td>...</td>\n",
       "      <td>...</td>\n",
       "      <td>...</td>\n",
       "    </tr>\n",
       "    <tr>\n",
       "      <th>1204</th>\n",
       "      <td>Gigforce</td>\n",
       "      <td>2019.0</td>\n",
       "      <td>Gurugram</td>\n",
       "      <td>Staffing &amp; Recruiting</td>\n",
       "      <td>A gig/on-demand staffing company.</td>\n",
       "      <td>Chirag Mittal, Anirudh Syal</td>\n",
       "      <td>Endiya Partners</td>\n",
       "      <td>$3000000</td>\n",
       "      <td>Pre-series A</td>\n",
       "      <td>2021</td>\n",
       "    </tr>\n",
       "    <tr>\n",
       "      <th>1205</th>\n",
       "      <td>Vahdam</td>\n",
       "      <td>2015.0</td>\n",
       "      <td>New Delhi</td>\n",
       "      <td>Food &amp; Beverages</td>\n",
       "      <td>VAHDAM is among the world’s first vertically i...</td>\n",
       "      <td>Bala Sarda</td>\n",
       "      <td>IIFL AMC</td>\n",
       "      <td>$20000000</td>\n",
       "      <td>Series D</td>\n",
       "      <td>2021</td>\n",
       "    </tr>\n",
       "    <tr>\n",
       "      <th>1206</th>\n",
       "      <td>Leap Finance</td>\n",
       "      <td>2019.0</td>\n",
       "      <td>Bangalore</td>\n",
       "      <td>Financial Services</td>\n",
       "      <td>International education loans for high potenti...</td>\n",
       "      <td>Arnav Kumar, Vaibhav Singh</td>\n",
       "      <td>Owl Ventures</td>\n",
       "      <td>$55000000</td>\n",
       "      <td>Series C</td>\n",
       "      <td>2021</td>\n",
       "    </tr>\n",
       "    <tr>\n",
       "      <th>1207</th>\n",
       "      <td>CollegeDekho</td>\n",
       "      <td>2015.0</td>\n",
       "      <td>Gurugram</td>\n",
       "      <td>EdTech</td>\n",
       "      <td>Collegedekho.com is Student’s Partner, Friend ...</td>\n",
       "      <td>Ruchir Arora</td>\n",
       "      <td>Winter Capital, ETS, Man Capital</td>\n",
       "      <td>$26000000</td>\n",
       "      <td>Series B</td>\n",
       "      <td>2021</td>\n",
       "    </tr>\n",
       "    <tr>\n",
       "      <th>1208</th>\n",
       "      <td>WeRize</td>\n",
       "      <td>2019.0</td>\n",
       "      <td>Bangalore</td>\n",
       "      <td>Financial Services</td>\n",
       "      <td>India’s first socially distributed full stack ...</td>\n",
       "      <td>Vishal Chopra, Himanshu Gupta</td>\n",
       "      <td>3one4 Capital, Kalaari Capital</td>\n",
       "      <td>$8000000</td>\n",
       "      <td>Series A</td>\n",
       "      <td>2021</td>\n",
       "    </tr>\n",
       "  </tbody>\n",
       "</table>\n",
       "<p>1190 rows × 10 columns</p>\n",
       "</div>"
      ],
      "text/plain": [
       "       Company_Brand  Founded HeadQuarter                 Sector  \\\n",
       "0     Unbox Robotics   2019.0   Bangalore             AI startup   \n",
       "1             upGrad   2015.0      Mumbai                 EdTech   \n",
       "2        Lead School   2012.0      Mumbai                 EdTech   \n",
       "3            Bizongo   2015.0      Mumbai         B2B E-commerce   \n",
       "4           FypMoney   2021.0    Gurugram                FinTech   \n",
       "...              ...      ...         ...                    ...   \n",
       "1204        Gigforce   2019.0    Gurugram  Staffing & Recruiting   \n",
       "1205          Vahdam   2015.0   New Delhi       Food & Beverages   \n",
       "1206    Leap Finance   2019.0   Bangalore     Financial Services   \n",
       "1207    CollegeDekho   2015.0    Gurugram                 EdTech   \n",
       "1208          WeRize   2019.0   Bangalore     Financial Services   \n",
       "\n",
       "                                           What_it_does  \\\n",
       "0     Unbox Robotics builds on-demand AI-driven ware...   \n",
       "1        UpGrad is an online higher education platform.   \n",
       "2     LEAD School offers technology based school tra...   \n",
       "3     Bizongo is a business-to-business online marke...   \n",
       "4     FypMoney is Digital NEO Bank for Teenagers, em...   \n",
       "...                                                 ...   \n",
       "1204                  A gig/on-demand staffing company.   \n",
       "1205  VAHDAM is among the world’s first vertically i...   \n",
       "1206  International education loans for high potenti...   \n",
       "1207  Collegedekho.com is Student’s Partner, Friend ...   \n",
       "1208  India’s first socially distributed full stack ...   \n",
       "\n",
       "                                               Founders  \\\n",
       "0                           Pramod Ghadge, Shahid Memon   \n",
       "1     Mayank Kumar, Phalgun Kompalli, Ravijot Chugh,...   \n",
       "2                            Smita Deorah, Sumeet Mehta   \n",
       "3               Aniket Deb, Ankit Tomar, Sachin Agrawal   \n",
       "4                                         Kapil Banwari   \n",
       "...                                                 ...   \n",
       "1204                        Chirag Mittal, Anirudh Syal   \n",
       "1205                                         Bala Sarda   \n",
       "1206                         Arnav Kumar, Vaibhav Singh   \n",
       "1207                                       Ruchir Arora   \n",
       "1208                      Vishal Chopra, Himanshu Gupta   \n",
       "\n",
       "                                           Investor        Amount  \\\n",
       "0                       BEENEXT, Entrepreneur First    $1,200,000   \n",
       "1          Unilazer Ventures, IIFL Asset Management  $120,000,000   \n",
       "2                  GSV Ventures, Westbridge Capital   $30,000,000   \n",
       "3                            CDC Group, IDG Capital   $51,000,000   \n",
       "4     Liberatha Kallat, Mukesh Yadav, Dinesh Nagpal    $2,000,000   \n",
       "...                                             ...           ...   \n",
       "1204                                Endiya Partners      $3000000   \n",
       "1205                                       IIFL AMC     $20000000   \n",
       "1206                                   Owl Ventures     $55000000   \n",
       "1207               Winter Capital, ETS, Man Capital     $26000000   \n",
       "1208                 3one4 Capital, Kalaari Capital      $8000000   \n",
       "\n",
       "             Stage  year  \n",
       "0     Pre-series A  2021  \n",
       "1             None  2021  \n",
       "2         Series D  2021  \n",
       "3         Series C  2021  \n",
       "4             Seed  2021  \n",
       "...            ...   ...  \n",
       "1204  Pre-series A  2021  \n",
       "1205      Series D  2021  \n",
       "1206      Series C  2021  \n",
       "1207      Series B  2021  \n",
       "1208      Series A  2021  \n",
       "\n",
       "[1190 rows x 10 columns]"
      ]
     },
     "execution_count": 83,
     "metadata": {},
     "output_type": "execute_result"
    }
   ],
   "source": [
    "#drop duplicates\n",
    "df_2021 = (df_2021\n",
    "           .drop_duplicates()\n",
    "           )\n",
    "df_2021"
   ]
  },
  {
   "cell_type": "markdown",
   "metadata": {},
   "source": [
    "#### **Founded Column Cleaning**"
   ]
  },
  {
   "cell_type": "code",
   "execution_count": 84,
   "metadata": {},
   "outputs": [
    {
     "data": {
      "text/plain": [
       "1"
      ]
     },
     "execution_count": 84,
     "metadata": {},
     "output_type": "execute_result"
    }
   ],
   "source": [
    "#checking for nulls\n",
    "df_2021['Founded'].isna().sum()"
   ]
  },
  {
   "cell_type": "code",
   "execution_count": 85,
   "metadata": {},
   "outputs": [
    {
     "data": {
      "text/plain": [
       "array([2019., 2015., 2012., 2021., 2014., 2018., 2016., 2020., 2010.,\n",
       "       2017., 1993., 2008., 2013., 1999., 1989., 2011.,   nan, 2009.,\n",
       "       2002., 1994., 2006., 2000., 2007., 1978., 2003., 1998., 1991.,\n",
       "       1984., 2004., 2005., 1963.])"
      ]
     },
     "execution_count": 85,
     "metadata": {},
     "output_type": "execute_result"
    }
   ],
   "source": [
    "df_2021['Founded'].unique()"
   ]
  },
  {
   "cell_type": "markdown",
   "metadata": {},
   "source": [
    "* The Founded column has one null and the rest are correctly matched to int datatype\n",
    "* We will fill the null with 0 to represent unknown"
   ]
  },
  {
   "cell_type": "code",
   "execution_count": 86,
   "metadata": {},
   "outputs": [
    {
     "data": {
      "text/plain": [
       "0       2019\n",
       "1       2015\n",
       "2       2012\n",
       "3       2015\n",
       "4       2021\n",
       "        ... \n",
       "1204    2019\n",
       "1205    2015\n",
       "1206    2019\n",
       "1207    2015\n",
       "1208    2019\n",
       "Name: Founded, Length: 1190, dtype: int32"
      ]
     },
     "execution_count": 86,
     "metadata": {},
     "output_type": "execute_result"
    }
   ],
   "source": [
    "df_2021['Founded'] = (df_2021\n",
    "                      ['Founded']\n",
    "                      .fillna(0) #filling na with 0 to represent unknown\n",
    "                      .astype('int') #converting to int\n",
    "                      )\n",
    "df_2021.Founded"
   ]
  },
  {
   "cell_type": "markdown",
   "metadata": {},
   "source": [
    "#### **HeadQuarter Column cleaning**"
   ]
  },
  {
   "cell_type": "code",
   "execution_count": 87,
   "metadata": {},
   "outputs": [
    {
     "data": {
      "text/plain": [
       "array(['Bangalore', 'Mumbai', 'Gurugram', 'New Delhi', 'Hyderabad',\n",
       "       'Jaipur', 'Ahmadabad', 'Chennai', None,\n",
       "       'Small Towns, Andhra Pradesh', 'Goa', 'Rajsamand', 'Ranchi',\n",
       "       'Faridabad, Haryana', 'Gujarat', 'Pune', 'Thane', 'Computer Games',\n",
       "       'Cochin', 'Noida', 'Chandigarh', 'Gurgaon', 'Vadodara',\n",
       "       'Food & Beverages', 'Pharmaceuticals\\t#REF!', 'Gurugram\\t#REF!',\n",
       "       'Kolkata', 'Ahmedabad', 'Mohali', 'Haryana', 'Indore', 'Powai',\n",
       "       'Ghaziabad', 'Nagpur', 'West Bengal', 'Patna', 'Samsitpur',\n",
       "       'Lucknow', 'Telangana', 'Silvassa', 'Thiruvananthapuram',\n",
       "       'Faridabad', 'Roorkee', 'Ambernath', 'Panchkula', 'Surat',\n",
       "       'Coimbatore', 'Andheri', 'Mangalore', 'Telugana', 'Bhubaneswar',\n",
       "       'Kottayam', 'Beijing', 'Panaji', 'Satara', 'Orissia', 'Jodhpur',\n",
       "       'New York', 'Santra', 'Mountain View, CA', 'Trivandrum',\n",
       "       'Jharkhand', 'Kanpur', 'Bhilwara', 'Guwahati',\n",
       "       'Online Media\\t#REF!', 'Kochi', 'London',\n",
       "       'Information Technology & Services', 'The Nilgiris', 'Gandhinagar'],\n",
       "      dtype=object)"
      ]
     },
     "execution_count": 87,
     "metadata": {},
     "output_type": "execute_result"
    }
   ],
   "source": [
    "df_2021['HeadQuarter'].unique()"
   ]
  },
  {
   "cell_type": "markdown",
   "metadata": {},
   "source": [
    "**Observations:**\n",
    "The column has some unexpected values including potential sector names and what it does."
   ]
  },
  {
   "cell_type": "code",
   "execution_count": 88,
   "metadata": {},
   "outputs": [
    {
     "data": {
      "text/plain": [
       "0       Bangalore\n",
       "1          Mumbai\n",
       "2          Mumbai\n",
       "3          Mumbai\n",
       "4        Gurugram\n",
       "          ...    \n",
       "1204     Gurugram\n",
       "1205    New Delhi\n",
       "1206    Bangalore\n",
       "1207     Gurugram\n",
       "1208    Bangalore\n",
       "Name: HeadQuarter, Length: 1190, dtype: category\n",
       "Categories (69, object): ['Ahmadabad', 'Ahmedabad', 'Ambernath', 'Andheri', ..., 'Thiruvananthapuram', 'Trivandrum', 'Vadodara', 'West Bengal']"
      ]
     },
     "execution_count": 88,
     "metadata": {},
     "output_type": "execute_result"
    }
   ],
   "source": [
    "df_2021['HeadQuarter'] = (df_2021\n",
    "                      ['HeadQuarter']\n",
    "                      .fillna((df_2021.HeadQuarter.mode()[0])) #filling with mode\n",
    "                      .replace('\\t#REF!','', regex=True) #removing the \\t#REF! in some cells\n",
    "                      .astype('category') #converting to category\n",
    "                      )\n",
    "df_2021.HeadQuarter"
   ]
  },
  {
   "cell_type": "markdown",
   "metadata": {},
   "source": [
    "#### **Sector Column Cleaning**"
   ]
  },
  {
   "cell_type": "code",
   "execution_count": 89,
   "metadata": {},
   "outputs": [
    {
     "data": {
      "text/plain": [
       "Sector\n",
       "FinTech                  121\n",
       "EdTech                   102\n",
       "Financial Services        59\n",
       "E-commerce                37\n",
       "Food & Beverages          36\n",
       "                        ... \n",
       "Home Decor                 1\n",
       "TaaS startup               1\n",
       "Beverages                  1\n",
       "Manufacturing startup      1\n",
       "Staffing & Recruiting      1\n",
       "Name: count, Length: 254, dtype: int64"
      ]
     },
     "execution_count": 89,
     "metadata": {},
     "output_type": "execute_result"
    }
   ],
   "source": [
    "#checking unique entries\n",
    "df_2021['Sector'].value_counts()"
   ]
  },
  {
   "cell_type": "code",
   "execution_count": 90,
   "metadata": {},
   "outputs": [],
   "source": [
    "df_2021['Sector'] = (df_2021\n",
    "                     ['Sector']\n",
    "                     .astype('category') #converting to category\n",
    "                    )"
   ]
  },
  {
   "cell_type": "markdown",
   "metadata": {},
   "source": [
    "#### **Founders Column Cleaning**"
   ]
  },
  {
   "cell_type": "code",
   "execution_count": 91,
   "metadata": {},
   "outputs": [
    {
     "data": {
      "text/plain": [
       "array(['Pramod Ghadge, Shahid Memon',\n",
       "       'Mayank Kumar, Phalgun Kompalli, Ravijot Chugh, Ronnie Screwvala',\n",
       "       'Smita Deorah, Sumeet Mehta', ..., 'Bala Sarda',\n",
       "       'Arnav Kumar, Vaibhav Singh', 'Vishal Chopra, Himanshu Gupta'],\n",
       "      dtype=object)"
      ]
     },
     "execution_count": 91,
     "metadata": {},
     "output_type": "execute_result"
    }
   ],
   "source": [
    "#overview of the column\n",
    "df_2021['Founders'].unique()"
   ]
  },
  {
   "cell_type": "code",
   "execution_count": 92,
   "metadata": {},
   "outputs": [],
   "source": [
    "df_2021['Founders'] = (df_2021\n",
    "                       ['Founders'] #renaming columns\n",
    "                       .fillna('Unknown') #filling na with Unkown\n",
    "                       )"
   ]
  },
  {
   "cell_type": "markdown",
   "metadata": {},
   "source": [
    "#### **Investor Column Cleaning**"
   ]
  },
  {
   "cell_type": "code",
   "execution_count": 93,
   "metadata": {},
   "outputs": [
    {
     "data": {
      "text/plain": [
       "Investor\n",
       "Unknown                                                61\n",
       "Inflection Point Ventures                              23\n",
       "Tiger Global                                           11\n",
       "Venture Catalysts                                      11\n",
       "Elevation Capital                                       7\n",
       "                                                       ..\n",
       "Hindustan Media Ventures                                1\n",
       "Hitesh Oberoi, Lightbox                                 1\n",
       "Hornbill Capital Advisers, Plutus Wealth Management     1\n",
       "Hungama, Hindustan Talkies                              1\n",
       "velocity.in                                             1\n",
       "Name: count, Length: 938, dtype: int64"
      ]
     },
     "execution_count": 93,
     "metadata": {},
     "output_type": "execute_result"
    }
   ],
   "source": [
    "df_2021['Investor'] = (df_2021\n",
    "                       ['Investor']\n",
    "                       .fillna('Unknown') #filling na with Unknown\n",
    "                       .astype('category')\n",
    "                       )\n",
    "df_2021.Investor.value_counts()"
   ]
  },
  {
   "cell_type": "markdown",
   "metadata": {},
   "source": [
    "#### **Amount Column Cleaning**"
   ]
  },
  {
   "cell_type": "code",
   "execution_count": 94,
   "metadata": {},
   "outputs": [
    {
     "data": {
      "text/plain": [
       "0         $1,200,000\n",
       "1       $120,000,000\n",
       "2        $30,000,000\n",
       "3        $51,000,000\n",
       "4         $2,000,000\n",
       "            ...     \n",
       "1204        $3000000\n",
       "1205       $20000000\n",
       "1206       $55000000\n",
       "1207       $26000000\n",
       "1208        $8000000\n",
       "Name: Amount, Length: 1190, dtype: object"
      ]
     },
     "execution_count": 94,
     "metadata": {},
     "output_type": "execute_result"
    }
   ],
   "source": [
    "df_2021['Amount']"
   ]
  },
  {
   "cell_type": "code",
   "execution_count": 95,
   "metadata": {},
   "outputs": [
    {
     "data": {
      "text/plain": [
       "array(['1200000', '120000000', '30000000', '51000000', '2000000',\n",
       "       '188000000', '200000', 0, '1000000', '3000000', '100000', '700000',\n",
       "       '9000000', '40000000', '49000000', '400000', '300000', '25000000',\n",
       "       '160000000', '150000', '1800000', '5000000', '850000', '53000000',\n",
       "       '500000', '1100000', '6000000', '800000', '10000000', '21000000',\n",
       "       '7500000', '26000000', '7400000', '1500000', '600000', '800000000',\n",
       "       '17000000', '3500000', '15000000', '215000000', '2500000',\n",
       "       '350000000', '5500000', '83000000', '110000000', '500000000',\n",
       "       '65000000', '150000000000', '300000000', '2200000', '35000000',\n",
       "       '140000000', '4000000', '13000000', None, '9500000', '8000000',\n",
       "       'Upsparks', '12000000', '1700000', '150000000', '100000000',\n",
       "       '225000000', '6700000', '1300000', '20000000', '250000',\n",
       "       '52000000', '3800000', '17500000', '42000000', '2300000',\n",
       "       '7000000', '450000000', '28000000', '8500000', '37000000',\n",
       "       '370000000', '16000000', '44000000', '770000', '125000000',\n",
       "       '50000000', '4900000', '145000000', '22000000', '70000000',\n",
       "       '6600000', '32000000', '24000000', '725000', '461000', 'Series C',\n",
       "       'Seed', '96000000', '60000000', '266000000', '4500000',\n",
       "       '325000000', '6500000', '1600000', '225000', '85000000', '235000',\n",
       "       '260000', '2900000', '86000000', '130000', '10000', '111000000',\n",
       "       '265000', '76000000', '75000000', '1000000000', '18000000',\n",
       "       '350000', '95000000', '4100000', '5200000', '1400000', '2600000',\n",
       "       '900000', '11000000', '280000000', '14300000', '81000000',\n",
       "       '8200000', '720000', '330000', '200000000', '36000000', '67000000',\n",
       "       '10200000', '220000000', '108000000', '450000', '660000000',\n",
       "       'ah! Ventures', '45000000', '3200000', '370000', 'Pre-series A',\n",
       "       'ITO Angel Network LetsVenture', '48000000', '3600000',\n",
       "       '192000000', '1900000', '41000000', '144000000', '270000000',\n",
       "       '140000', '250000000', '320000', '4800000', '38000000', '125000',\n",
       "       '64000000', '620000', 'JITO Angel Network LetsVenture', '1250000',\n",
       "       '400000000', '27000000', '234000000', '460000000', '13500000',\n",
       "       '5100000', '195000000', '7300000', '6300000', '12500000',\n",
       "       '16500000', '340000', '43000000', '3300000', '92000000',\n",
       "       '135000000', '155000', '2100000', '840000000', '248000000',\n",
       "       '4300000', '570000', '4700000', '260000000', '175000000',\n",
       "       '19000000', '810000', '600000000', '90000000', '5700000',\n",
       "       '6750000', '78000000', '5400000', '115000000', '255000000',\n",
       "       '570000000', '550000', '2700000', '4200000', '31000000', '540000',\n",
       "       '14000000', '', '6200000', '750000', '23000000', '55000000'],\n",
       "      dtype=object)"
      ]
     },
     "execution_count": 95,
     "metadata": {},
     "output_type": "execute_result"
    }
   ],
   "source": [
    "df_2021['Amount'] = (df_2021\n",
    "                     ['Amount']\n",
    "                     .replace('\\$|,','', regex=True) #replacing $ and comma with blank\n",
    "                     .replace({'Undisclosed|undisclosed': 0}, regex=True) # replacing the Undisclosed with 0\n",
    "                     )\n",
    "\n",
    "df_2021.Amount.unique()"
   ]
  },
  {
   "cell_type": "markdown",
   "metadata": {},
   "source": [
    "**Observation:**\n",
    "There are some values from other columns that are wrongly placed in the Amount column.\\\n",
    "**Decision:**\n",
    "Check how many they are."
   ]
  },
  {
   "cell_type": "code",
   "execution_count": 96,
   "metadata": {},
   "outputs": [
    {
     "data": {
      "text/plain": [
       "86                                None\n",
       "98                            Upsparks\n",
       "242                           Series C\n",
       "257                               Seed\n",
       "538                       ah! Ventures\n",
       "545                       Pre-series A\n",
       "551      ITO Angel Network LetsVenture\n",
       "674                               None\n",
       "677     JITO Angel Network LetsVenture\n",
       "1100                              None\n",
       "1137                                  \n",
       "1146                                  \n",
       "1148                              Seed\n",
       "Name: Amount, dtype: object"
      ]
     },
     "execution_count": 96,
     "metadata": {},
     "output_type": "execute_result"
    }
   ],
   "source": [
    "#checking columns where the amount is not a number\n",
    "df_2021['Amount'][pd.to_numeric(df_2021['Amount'], errors='coerce').isnull()]"
   ]
  },
  {
   "cell_type": "markdown",
   "metadata": {},
   "source": [
    "* There are 13 instances where the amount column is not a number.\n",
    "* Some are mismatched columns with the stage column and some are mismatched with the and others are undefined. \n",
    "\n",
    "**Decision:**\n",
    "To drop the rows as they are few and won't affect the overall dataset."
   ]
  },
  {
   "cell_type": "code",
   "execution_count": 97,
   "metadata": {},
   "outputs": [],
   "source": [
    "#making a dataset where the mismatchd columns have been removed\n",
    "df_2021= df_2021[~pd.to_numeric(df_2021['Amount'], errors='coerce').isnull()]"
   ]
  },
  {
   "cell_type": "code",
   "execution_count": 98,
   "metadata": {},
   "outputs": [
    {
     "data": {
      "text/plain": [
       "0         1200000.0\n",
       "1       120000000.0\n",
       "2        30000000.0\n",
       "3        51000000.0\n",
       "4         2000000.0\n",
       "           ...     \n",
       "1204      3000000.0\n",
       "1205     20000000.0\n",
       "1206     55000000.0\n",
       "1207     26000000.0\n",
       "1208      8000000.0\n",
       "Name: Amount, Length: 1177, dtype: float64"
      ]
     },
     "execution_count": 98,
     "metadata": {},
     "output_type": "execute_result"
    }
   ],
   "source": [
    "#converting Amount column to float type\n",
    "df_2021['Amount'] = (df_2021\n",
    "                     ['Amount']\n",
    "                     .astype('float'))\n",
    "df_2021.Amount"
   ]
  },
  {
   "cell_type": "markdown",
   "metadata": {},
   "source": [
    "#### **Stage Column Cleaning**"
   ]
  },
  {
   "cell_type": "code",
   "execution_count": 99,
   "metadata": {},
   "outputs": [],
   "source": [
    "#filling na with unknown\n",
    "df_2021['Stage'] = (df_2021\n",
    "                    ['Stage']\n",
    "                    .fillna('Unknown') #filling with unknown\n",
    "                    .astype('category') #changing to category type\n",
    "                    )"
   ]
  },
  {
   "cell_type": "code",
   "execution_count": 100,
   "metadata": {},
   "outputs": [
    {
     "data": {
      "text/plain": [
       "['Pre-series A', 'Unknown', 'Series D', 'Series C', 'Seed', ..., 'Series D1', 'Seies A', 'Pre-series', 'Series A2', 'Series I']\n",
       "Length: 28\n",
       "Categories (28, object): ['Bridge', 'Debt', 'Early seed', 'PE', ..., 'Series G', 'Series H', 'Series I', 'Unknown']"
      ]
     },
     "execution_count": 100,
     "metadata": {},
     "output_type": "execute_result"
    }
   ],
   "source": [
    "#checking unique values\n",
    "df_2021['Stage'].unique()"
   ]
  },
  {
   "cell_type": "markdown",
   "metadata": {},
   "source": [
    "#### **Final Touches**"
   ]
  },
  {
   "cell_type": "code",
   "execution_count": 101,
   "metadata": {},
   "outputs": [
    {
     "data": {
      "text/plain": [
       "Company_Brand    0\n",
       "Founded          0\n",
       "HeadQuarter      0\n",
       "Sector           0\n",
       "What_it_does     0\n",
       "Founders         0\n",
       "Investor         0\n",
       "Amount           0\n",
       "Stage            0\n",
       "year             0\n",
       "dtype: int64"
      ]
     },
     "execution_count": 101,
     "metadata": {},
     "output_type": "execute_result"
    }
   ],
   "source": [
    "#confirming all nulls have been removed\n",
    "df_2021.isna().sum()"
   ]
  },
  {
   "cell_type": "code",
   "execution_count": 102,
   "metadata": {},
   "outputs": [
    {
     "data": {
      "text/plain": [
       "Company_Brand      object\n",
       "Founded             int32\n",
       "HeadQuarter      category\n",
       "Sector           category\n",
       "What_it_does       object\n",
       "Founders           object\n",
       "Investor         category\n",
       "Amount            float64\n",
       "Stage            category\n",
       "year                int64\n",
       "dtype: object"
      ]
     },
     "execution_count": 102,
     "metadata": {},
     "output_type": "execute_result"
    }
   ],
   "source": [
    "#checking dtypes\n",
    "df_2021.dtypes"
   ]
  },
  {
   "cell_type": "code",
   "execution_count": 103,
   "metadata": {},
   "outputs": [
    {
     "data": {
      "text/plain": [
       "Index(['company', 'founded', 'location', 'sector', 'description', 'founders',\n",
       "       'investor', 'amount', 'stage', 'year'],\n",
       "      dtype='object')"
      ]
     },
     "execution_count": 103,
     "metadata": {},
     "output_type": "execute_result"
    }
   ],
   "source": [
    "df_2021 = (df_2021\n",
    "           .rename(columns = {'Company_Brand': 'company', 'Stage': 'stage',\n",
    "                              'Founded':'founded','HeadQuarter':'location',\n",
    "                              'Sector':'sector','What_it_does':'description',\n",
    "                              'Amount':'amount','Founders':'founders','Investor':'investor'}) #renaming columns\n",
    "           )\n",
    "\n",
    "df_2021.columns"
   ]
  },
  {
   "cell_type": "markdown",
   "metadata": {},
   "source": [
    "## **COMBINING ALL CLEANED YEARS**"
   ]
  },
  {
   "cell_type": "code",
   "execution_count": 104,
   "metadata": {},
   "outputs": [
    {
     "data": {
      "text/html": [
       "<div>\n",
       "<style scoped>\n",
       "    .dataframe tbody tr th:only-of-type {\n",
       "        vertical-align: middle;\n",
       "    }\n",
       "\n",
       "    .dataframe tbody tr th {\n",
       "        vertical-align: top;\n",
       "    }\n",
       "\n",
       "    .dataframe thead th {\n",
       "        text-align: right;\n",
       "    }\n",
       "</style>\n",
       "<table border=\"1\" class=\"dataframe\">\n",
       "  <thead>\n",
       "    <tr style=\"text-align: right;\">\n",
       "      <th></th>\n",
       "      <th>company</th>\n",
       "      <th>sector</th>\n",
       "      <th>amount</th>\n",
       "      <th>description</th>\n",
       "      <th>year</th>\n",
       "      <th>stage</th>\n",
       "      <th>location</th>\n",
       "      <th>founded</th>\n",
       "      <th>founders</th>\n",
       "      <th>investor</th>\n",
       "    </tr>\n",
       "  </thead>\n",
       "  <tbody>\n",
       "    <tr>\n",
       "      <th>0</th>\n",
       "      <td>TheCollegeFever</td>\n",
       "      <td>Brand Marketing</td>\n",
       "      <td>250000.0</td>\n",
       "      <td>TheCollegeFever is a hub for fun, fiesta and f...</td>\n",
       "      <td>2018</td>\n",
       "      <td>Seed</td>\n",
       "      <td>Bangalore</td>\n",
       "      <td>NaN</td>\n",
       "      <td>NaN</td>\n",
       "      <td>NaN</td>\n",
       "    </tr>\n",
       "    <tr>\n",
       "      <th>1</th>\n",
       "      <td>Happy Cow Dairy</td>\n",
       "      <td>Agriculture</td>\n",
       "      <td>480000.0</td>\n",
       "      <td>A startup which aggregates milk from dairy far...</td>\n",
       "      <td>2018</td>\n",
       "      <td>Seed</td>\n",
       "      <td>Mumbai</td>\n",
       "      <td>NaN</td>\n",
       "      <td>NaN</td>\n",
       "      <td>NaN</td>\n",
       "    </tr>\n",
       "    <tr>\n",
       "      <th>2</th>\n",
       "      <td>MyLoanCare</td>\n",
       "      <td>Credit</td>\n",
       "      <td>780000.0</td>\n",
       "      <td>Leading Online Loans Marketplace in India</td>\n",
       "      <td>2018</td>\n",
       "      <td>Series A</td>\n",
       "      <td>Gurgaon</td>\n",
       "      <td>NaN</td>\n",
       "      <td>NaN</td>\n",
       "      <td>NaN</td>\n",
       "    </tr>\n",
       "    <tr>\n",
       "      <th>3</th>\n",
       "      <td>PayMe India</td>\n",
       "      <td>Financial Services</td>\n",
       "      <td>2000000.0</td>\n",
       "      <td>PayMe India is an innovative FinTech organizat...</td>\n",
       "      <td>2018</td>\n",
       "      <td>Angel</td>\n",
       "      <td>Noida</td>\n",
       "      <td>NaN</td>\n",
       "      <td>NaN</td>\n",
       "      <td>NaN</td>\n",
       "    </tr>\n",
       "    <tr>\n",
       "      <th>4</th>\n",
       "      <td>Eunimart</td>\n",
       "      <td>E-Commerce Platforms</td>\n",
       "      <td>0.0</td>\n",
       "      <td>Eunimart is a one stop solution for merchants ...</td>\n",
       "      <td>2018</td>\n",
       "      <td>Seed</td>\n",
       "      <td>Hyderabad</td>\n",
       "      <td>NaN</td>\n",
       "      <td>NaN</td>\n",
       "      <td>NaN</td>\n",
       "    </tr>\n",
       "    <tr>\n",
       "      <th>...</th>\n",
       "      <td>...</td>\n",
       "      <td>...</td>\n",
       "      <td>...</td>\n",
       "      <td>...</td>\n",
       "      <td>...</td>\n",
       "      <td>...</td>\n",
       "      <td>...</td>\n",
       "      <td>...</td>\n",
       "      <td>...</td>\n",
       "      <td>...</td>\n",
       "    </tr>\n",
       "    <tr>\n",
       "      <th>1204</th>\n",
       "      <td>Gigforce</td>\n",
       "      <td>Staffing &amp; Recruiting</td>\n",
       "      <td>3000000.0</td>\n",
       "      <td>A gig/on-demand staffing company.</td>\n",
       "      <td>2021</td>\n",
       "      <td>Pre-series A</td>\n",
       "      <td>Gurugram</td>\n",
       "      <td>2019.0</td>\n",
       "      <td>Chirag Mittal, Anirudh Syal</td>\n",
       "      <td>Endiya Partners</td>\n",
       "    </tr>\n",
       "    <tr>\n",
       "      <th>1205</th>\n",
       "      <td>Vahdam</td>\n",
       "      <td>Food &amp; Beverages</td>\n",
       "      <td>20000000.0</td>\n",
       "      <td>VAHDAM is among the world’s first vertically i...</td>\n",
       "      <td>2021</td>\n",
       "      <td>Series D</td>\n",
       "      <td>New Delhi</td>\n",
       "      <td>2015.0</td>\n",
       "      <td>Bala Sarda</td>\n",
       "      <td>IIFL AMC</td>\n",
       "    </tr>\n",
       "    <tr>\n",
       "      <th>1206</th>\n",
       "      <td>Leap Finance</td>\n",
       "      <td>Financial Services</td>\n",
       "      <td>55000000.0</td>\n",
       "      <td>International education loans for high potenti...</td>\n",
       "      <td>2021</td>\n",
       "      <td>Series C</td>\n",
       "      <td>Bangalore</td>\n",
       "      <td>2019.0</td>\n",
       "      <td>Arnav Kumar, Vaibhav Singh</td>\n",
       "      <td>Owl Ventures</td>\n",
       "    </tr>\n",
       "    <tr>\n",
       "      <th>1207</th>\n",
       "      <td>CollegeDekho</td>\n",
       "      <td>EdTech</td>\n",
       "      <td>26000000.0</td>\n",
       "      <td>Collegedekho.com is Student’s Partner, Friend ...</td>\n",
       "      <td>2021</td>\n",
       "      <td>Series B</td>\n",
       "      <td>Gurugram</td>\n",
       "      <td>2015.0</td>\n",
       "      <td>Ruchir Arora</td>\n",
       "      <td>Winter Capital, ETS, Man Capital</td>\n",
       "    </tr>\n",
       "    <tr>\n",
       "      <th>1208</th>\n",
       "      <td>WeRize</td>\n",
       "      <td>Financial Services</td>\n",
       "      <td>8000000.0</td>\n",
       "      <td>India’s first socially distributed full stack ...</td>\n",
       "      <td>2021</td>\n",
       "      <td>Series A</td>\n",
       "      <td>Bangalore</td>\n",
       "      <td>2019.0</td>\n",
       "      <td>Vishal Chopra, Himanshu Gupta</td>\n",
       "      <td>3one4 Capital, Kalaari Capital</td>\n",
       "    </tr>\n",
       "  </tbody>\n",
       "</table>\n",
       "<p>2843 rows × 10 columns</p>\n",
       "</div>"
      ],
      "text/plain": [
       "              company                 sector      amount  \\\n",
       "0     TheCollegeFever        Brand Marketing    250000.0   \n",
       "1     Happy Cow Dairy            Agriculture    480000.0   \n",
       "2          MyLoanCare                 Credit    780000.0   \n",
       "3         PayMe India     Financial Services   2000000.0   \n",
       "4            Eunimart   E-Commerce Platforms         0.0   \n",
       "...               ...                    ...         ...   \n",
       "1204         Gigforce  Staffing & Recruiting   3000000.0   \n",
       "1205           Vahdam       Food & Beverages  20000000.0   \n",
       "1206     Leap Finance     Financial Services  55000000.0   \n",
       "1207     CollegeDekho                 EdTech  26000000.0   \n",
       "1208           WeRize     Financial Services   8000000.0   \n",
       "\n",
       "                                            description  year         stage  \\\n",
       "0     TheCollegeFever is a hub for fun, fiesta and f...  2018          Seed   \n",
       "1     A startup which aggregates milk from dairy far...  2018          Seed   \n",
       "2             Leading Online Loans Marketplace in India  2018      Series A   \n",
       "3     PayMe India is an innovative FinTech organizat...  2018         Angel   \n",
       "4     Eunimart is a one stop solution for merchants ...  2018          Seed   \n",
       "...                                                 ...   ...           ...   \n",
       "1204                  A gig/on-demand staffing company.  2021  Pre-series A   \n",
       "1205  VAHDAM is among the world’s first vertically i...  2021      Series D   \n",
       "1206  International education loans for high potenti...  2021      Series C   \n",
       "1207  Collegedekho.com is Student’s Partner, Friend ...  2021      Series B   \n",
       "1208  India’s first socially distributed full stack ...  2021      Series A   \n",
       "\n",
       "       location  founded                       founders  \\\n",
       "0     Bangalore      NaN                            NaN   \n",
       "1        Mumbai      NaN                            NaN   \n",
       "2       Gurgaon      NaN                            NaN   \n",
       "3         Noida      NaN                            NaN   \n",
       "4     Hyderabad      NaN                            NaN   \n",
       "...         ...      ...                            ...   \n",
       "1204   Gurugram   2019.0    Chirag Mittal, Anirudh Syal   \n",
       "1205  New Delhi   2015.0                     Bala Sarda   \n",
       "1206  Bangalore   2019.0     Arnav Kumar, Vaibhav Singh   \n",
       "1207   Gurugram   2015.0                   Ruchir Arora   \n",
       "1208  Bangalore   2019.0  Vishal Chopra, Himanshu Gupta   \n",
       "\n",
       "                              investor  \n",
       "0                                  NaN  \n",
       "1                                  NaN  \n",
       "2                                  NaN  \n",
       "3                                  NaN  \n",
       "4                                  NaN  \n",
       "...                                ...  \n",
       "1204                   Endiya Partners  \n",
       "1205                          IIFL AMC  \n",
       "1206                      Owl Ventures  \n",
       "1207  Winter Capital, ETS, Man Capital  \n",
       "1208    3one4 Capital, Kalaari Capital  \n",
       "\n",
       "[2843 rows x 10 columns]"
      ]
     },
     "execution_count": 104,
     "metadata": {},
     "output_type": "execute_result"
    }
   ],
   "source": [
    "#combining all 4 years into one dataframe\n",
    "dfs = [df_2018,df_2019,df_2020,df_2021]\n",
    "\n",
    "df = pd.concat(dfs)\n",
    "df"
   ]
  },
  {
   "cell_type": "markdown",
   "metadata": {},
   "source": [
    "* The combined data has 2859 rows and 10 columns"
   ]
  },
  {
   "cell_type": "code",
   "execution_count": 105,
   "metadata": {},
   "outputs": [
    {
     "data": {
      "text/plain": [
       "Index(['company', 'sector', 'amount', 'description', 'year', 'stage',\n",
       "       'location', 'founded', 'founders', 'investor'],\n",
       "      dtype='object')"
      ]
     },
     "execution_count": 105,
     "metadata": {},
     "output_type": "execute_result"
    }
   ],
   "source": [
    "#checking we have all the columns\n",
    "df.columns"
   ]
  },
  {
   "cell_type": "code",
   "execution_count": 106,
   "metadata": {},
   "outputs": [
    {
     "data": {
      "text/plain": [
       "company         object\n",
       "sector          object\n",
       "amount         float64\n",
       "description     object\n",
       "year             int64\n",
       "stage           object\n",
       "location        object\n",
       "founded        float64\n",
       "founders        object\n",
       "investor        object\n",
       "dtype: object"
      ]
     },
     "execution_count": 106,
     "metadata": {},
     "output_type": "execute_result"
    }
   ],
   "source": [
    "#checking the combined column dtypes\n",
    "df.dtypes"
   ]
  },
  {
   "cell_type": "code",
   "execution_count": 107,
   "metadata": {},
   "outputs": [
    {
     "data": {
      "text/plain": [
       "company          0\n",
       "sector           0\n",
       "amount           0\n",
       "description      0\n",
       "year             0\n",
       "stage            0\n",
       "location         0\n",
       "founded        525\n",
       "founders       525\n",
       "investor       525\n",
       "dtype: int64"
      ]
     },
     "execution_count": 107,
     "metadata": {},
     "output_type": "execute_result"
    }
   ],
   "source": [
    "#checking comb_df nulls\n",
    "df.isna().sum()"
   ]
  },
  {
   "cell_type": "markdown",
   "metadata": {},
   "source": [
    "**Observation:**\n",
    "* As expected 525 missing values in the investors, founded and founders column because they are missing in the 2018 dataset.\n",
    "\n",
    "**Decision:**\n",
    "* Impute them with unrecorded\n"
   ]
  },
  {
   "cell_type": "code",
   "execution_count": 113,
   "metadata": {},
   "outputs": [],
   "source": [
    "#imputing \n",
    "df[['founded', 'founders', 'investor']] = df[['founded', 'founders', 'investor']].fillna('Unrecorded')"
   ]
  },
  {
   "cell_type": "code",
   "execution_count": 115,
   "metadata": {},
   "outputs": [
    {
     "data": {
      "text/html": [
       "<div>\n",
       "<style scoped>\n",
       "    .dataframe tbody tr th:only-of-type {\n",
       "        vertical-align: middle;\n",
       "    }\n",
       "\n",
       "    .dataframe tbody tr th {\n",
       "        vertical-align: top;\n",
       "    }\n",
       "\n",
       "    .dataframe thead th {\n",
       "        text-align: right;\n",
       "    }\n",
       "</style>\n",
       "<table border=\"1\" class=\"dataframe\">\n",
       "  <thead>\n",
       "    <tr style=\"text-align: right;\">\n",
       "      <th></th>\n",
       "      <th>company</th>\n",
       "      <th>sector</th>\n",
       "      <th>amount</th>\n",
       "      <th>description</th>\n",
       "      <th>year</th>\n",
       "      <th>stage</th>\n",
       "      <th>location</th>\n",
       "      <th>founded</th>\n",
       "      <th>founders</th>\n",
       "      <th>investor</th>\n",
       "    </tr>\n",
       "  </thead>\n",
       "  <tbody>\n",
       "    <tr>\n",
       "      <th>count</th>\n",
       "      <td>2843</td>\n",
       "      <td>2843</td>\n",
       "      <td>2843.00</td>\n",
       "      <td>2843</td>\n",
       "      <td>2843.00</td>\n",
       "      <td>2843</td>\n",
       "      <td>2843</td>\n",
       "      <td>2843</td>\n",
       "      <td>2843</td>\n",
       "      <td>2843</td>\n",
       "    </tr>\n",
       "    <tr>\n",
       "      <th>unique</th>\n",
       "      <td>2204</td>\n",
       "      <td>594</td>\n",
       "      <td>NaN</td>\n",
       "      <td>2678</td>\n",
       "      <td>NaN</td>\n",
       "      <td>72</td>\n",
       "      <td>138</td>\n",
       "      <td>36</td>\n",
       "      <td>1969</td>\n",
       "      <td>1766</td>\n",
       "    </tr>\n",
       "    <tr>\n",
       "      <th>top</th>\n",
       "      <td>BharatPe</td>\n",
       "      <td>FinTech</td>\n",
       "      <td>NaN</td>\n",
       "      <td>Provides online learning classes</td>\n",
       "      <td>NaN</td>\n",
       "      <td>Unknown</td>\n",
       "      <td>Bangalore</td>\n",
       "      <td>Unrecorded</td>\n",
       "      <td>Unrecorded</td>\n",
       "      <td>Unrecorded</td>\n",
       "    </tr>\n",
       "    <tr>\n",
       "      <th>freq</th>\n",
       "      <td>10</td>\n",
       "      <td>174</td>\n",
       "      <td>NaN</td>\n",
       "      <td>5</td>\n",
       "      <td>NaN</td>\n",
       "      <td>922</td>\n",
       "      <td>858</td>\n",
       "      <td>525</td>\n",
       "      <td>525</td>\n",
       "      <td>525</td>\n",
       "    </tr>\n",
       "    <tr>\n",
       "      <th>mean</th>\n",
       "      <td>NaN</td>\n",
       "      <td>NaN</td>\n",
       "      <td>98267494.98</td>\n",
       "      <td>NaN</td>\n",
       "      <td>2020.01</td>\n",
       "      <td>NaN</td>\n",
       "      <td>NaN</td>\n",
       "      <td>NaN</td>\n",
       "      <td>NaN</td>\n",
       "      <td>NaN</td>\n",
       "    </tr>\n",
       "    <tr>\n",
       "      <th>std</th>\n",
       "      <td>NaN</td>\n",
       "      <td>NaN</td>\n",
       "      <td>3105049636.00</td>\n",
       "      <td>NaN</td>\n",
       "      <td>1.09</td>\n",
       "      <td>NaN</td>\n",
       "      <td>NaN</td>\n",
       "      <td>NaN</td>\n",
       "      <td>NaN</td>\n",
       "      <td>NaN</td>\n",
       "    </tr>\n",
       "    <tr>\n",
       "      <th>min</th>\n",
       "      <td>NaN</td>\n",
       "      <td>NaN</td>\n",
       "      <td>0.00</td>\n",
       "      <td>NaN</td>\n",
       "      <td>2018.00</td>\n",
       "      <td>NaN</td>\n",
       "      <td>NaN</td>\n",
       "      <td>NaN</td>\n",
       "      <td>NaN</td>\n",
       "      <td>NaN</td>\n",
       "    </tr>\n",
       "    <tr>\n",
       "      <th>25%</th>\n",
       "      <td>NaN</td>\n",
       "      <td>NaN</td>\n",
       "      <td>200000.00</td>\n",
       "      <td>NaN</td>\n",
       "      <td>2020.00</td>\n",
       "      <td>NaN</td>\n",
       "      <td>NaN</td>\n",
       "      <td>NaN</td>\n",
       "      <td>NaN</td>\n",
       "      <td>NaN</td>\n",
       "    </tr>\n",
       "    <tr>\n",
       "      <th>50%</th>\n",
       "      <td>NaN</td>\n",
       "      <td>NaN</td>\n",
       "      <td>1500000.00</td>\n",
       "      <td>NaN</td>\n",
       "      <td>2020.00</td>\n",
       "      <td>NaN</td>\n",
       "      <td>NaN</td>\n",
       "      <td>NaN</td>\n",
       "      <td>NaN</td>\n",
       "      <td>NaN</td>\n",
       "    </tr>\n",
       "    <tr>\n",
       "      <th>75%</th>\n",
       "      <td>NaN</td>\n",
       "      <td>NaN</td>\n",
       "      <td>8000000.00</td>\n",
       "      <td>NaN</td>\n",
       "      <td>2021.00</td>\n",
       "      <td>NaN</td>\n",
       "      <td>NaN</td>\n",
       "      <td>NaN</td>\n",
       "      <td>NaN</td>\n",
       "      <td>NaN</td>\n",
       "    </tr>\n",
       "    <tr>\n",
       "      <th>max</th>\n",
       "      <td>NaN</td>\n",
       "      <td>NaN</td>\n",
       "      <td>150000000000.00</td>\n",
       "      <td>NaN</td>\n",
       "      <td>2021.00</td>\n",
       "      <td>NaN</td>\n",
       "      <td>NaN</td>\n",
       "      <td>NaN</td>\n",
       "      <td>NaN</td>\n",
       "      <td>NaN</td>\n",
       "    </tr>\n",
       "  </tbody>\n",
       "</table>\n",
       "</div>"
      ],
      "text/plain": [
       "         company   sector          amount                       description  \\\n",
       "count       2843     2843         2843.00                              2843   \n",
       "unique      2204      594             NaN                              2678   \n",
       "top     BharatPe  FinTech             NaN  Provides online learning classes   \n",
       "freq          10      174             NaN                                 5   \n",
       "mean         NaN      NaN     98267494.98                               NaN   \n",
       "std          NaN      NaN   3105049636.00                               NaN   \n",
       "min          NaN      NaN            0.00                               NaN   \n",
       "25%          NaN      NaN       200000.00                               NaN   \n",
       "50%          NaN      NaN      1500000.00                               NaN   \n",
       "75%          NaN      NaN      8000000.00                               NaN   \n",
       "max          NaN      NaN 150000000000.00                               NaN   \n",
       "\n",
       "          year    stage   location     founded    founders    investor  \n",
       "count  2843.00     2843       2843        2843        2843        2843  \n",
       "unique     NaN       72        138          36        1969        1766  \n",
       "top        NaN  Unknown  Bangalore  Unrecorded  Unrecorded  Unrecorded  \n",
       "freq       NaN      922        858         525         525         525  \n",
       "mean   2020.01      NaN        NaN         NaN         NaN         NaN  \n",
       "std       1.09      NaN        NaN         NaN         NaN         NaN  \n",
       "min    2018.00      NaN        NaN         NaN         NaN         NaN  \n",
       "25%    2020.00      NaN        NaN         NaN         NaN         NaN  \n",
       "50%    2020.00      NaN        NaN         NaN         NaN         NaN  \n",
       "75%    2021.00      NaN        NaN         NaN         NaN         NaN  \n",
       "max    2021.00      NaN        NaN         NaN         NaN         NaN  "
      ]
     },
     "execution_count": 115,
     "metadata": {},
     "output_type": "execute_result"
    }
   ],
   "source": [
    "#checking column summary stats\n",
    "pd.options.display.float_format = '{:.2f}'.format #suppress scientific notation\n",
    "df.describe(include='all')"
   ]
  },
  {
   "cell_type": "markdown",
   "metadata": {},
   "source": [
    "**Observations:**\n",
    "1. There are `2204` unique companies and  `2843` total companies, meaning some companies have been funded more than once, with the most occuring company being `BharatPie` a total of `10` times.\n",
    "2. The top sector is `Fintech` appearing a total of `174` times however, there are `594` unique sectors. This is unexpected and highly irregular. Further investigation is needed.\n",
    "3. There `2678` unique descriptions and the top one repeats `5` times which is provides online learning classes.\n",
    "4. The minimum amount of funding received is `0` which is the representation we chose for undisclosed amounts. The highest amount of funding received is `150,000,000,000` which may be valid but will have an impact on the statistical analysis.\n",
    "5. There are `72` unique stages of funding which is more than expected and the top is `Unknown` which is our representation for the missing and undisclosed stages.\n",
    "6. There are `138` unique locations and the top location is `Bangalore` with `858` companies coming from there.\n",
    "7. The year and founded columns are numeric but in this case they should be categories as they are simply labels and don't have any mathematical significance. We shall convert them to categories.\n",
    "8. There are `1765` unique investors in the ecosystem. The top one is undisclosed as shown by our `Unknown` representation and appears `99` times.\n"
   ]
  },
  {
   "cell_type": "markdown",
   "metadata": {},
   "source": [
    "**Decisions:**\n",
    "1. To look into the sector and stage columns to combine them as needed to fewer categories.\n",
    "2. Convert year and founded columns to categories."
   ]
  },
  {
   "cell_type": "code",
   "execution_count": 116,
   "metadata": {},
   "outputs": [
    {
     "data": {
      "text/plain": [
       "company          object\n",
       "sector           object\n",
       "amount          float64\n",
       "description      object\n",
       "year           category\n",
       "stage            object\n",
       "location         object\n",
       "founded        category\n",
       "founders         object\n",
       "investor         object\n",
       "dtype: object"
      ]
     },
     "execution_count": 116,
     "metadata": {},
     "output_type": "execute_result"
    }
   ],
   "source": [
    "#converting founded and year columns to categories\n",
    "df['year'] = (df\n",
    "                   ['year']\n",
    "                   .astype('category')\n",
    "                   )\n",
    "df['founded'] = (df\n",
    "                   ['founded']\n",
    "                   .astype('category')\n",
    "                   )\n",
    "df.dtypes"
   ]
  },
  {
   "cell_type": "code",
   "execution_count": 117,
   "metadata": {},
   "outputs": [
    {
     "data": {
      "text/plain": [
       "array(['Brand Marketing', 'Agriculture', 'Credit', 'Financial Services',\n",
       "       'E-Commerce Platforms', 'Cloud Infrastructure', 'Internet',\n",
       "       'Market Research', 'Information Services', 'Mobile Payments',\n",
       "       'B2B', 'Apps', 'Food Delivery', 'Industrial Automation',\n",
       "       'Automotive', 'Finance', 'Accounting', 'Artificial Intelligence',\n",
       "       'Internet of Things', 'Air Transportation', 'Food and Beverage',\n",
       "       'Autonomous Vehicles', 'Enterprise Software', 'Logistics',\n",
       "       'Insurance', 'Information Technology', 'Blockchain', 'Education',\n",
       "       'E-Commerce', 'Renewable Energy', 'E-Learning', 'Clean Energy',\n",
       "       'Transportation', 'Fitness', 'Hospitality',\n",
       "       'Media and Entertainment', 'Broadcasting', 'EdTech', 'Health Care',\n",
       "       '—', 'Sports', 'Big Data', 'Cloud Computing', 'Food Processing',\n",
       "       'Trading Platform', 'Consumer Goods', 'Wellness', 'Fashion',\n",
       "       'Consulting', 'Biotechnology', 'Communities', 'Consumer',\n",
       "       'Consumer Applications', 'Mobile', 'Advertising', 'Marketplace',\n",
       "       'Aerospace', 'Home Decor', 'Energy', 'Digital Marketing',\n",
       "       'Creative Agency', 'Consumer Lending', 'Health Diagnostics',\n",
       "       'Banking', 'Embedded Systems', 'Beauty', 'AgTech', 'Credit Cards',\n",
       "       'Software', 'Manufacturing', 'Hospital', 'Events', '3D Printing',\n",
       "       'Digital Entertainment', 'Funding Platform', 'Classifieds',\n",
       "       'Enterprise Resource Planning (ERP)', 'Audio', 'Government',\n",
       "       'Digital Media', 'Business Intelligence', 'Children', 'Rental',\n",
       "       'Travel', 'Wealth Management', 'Veterinary', 'Tourism',\n",
       "       'Consumer Electronics', 'Analytics', 'Facilities Support Services',\n",
       "       'Medical', 'Music Streaming', 'Retail', 'Business Development',\n",
       "       'Human Resources', 'Customer Service', 'Training',\n",
       "       'Dietary Supplements', 'Collaboration', 'Nanotechnology',\n",
       "       'File Sharing', 'Crowdfunding', 'Catering', 'Computer', 'Android',\n",
       "       'Delivery', 'Environmental Consulting', 'Commercial Real Estate',\n",
       "       'Delivery Service', 'Basketball', 'Fraud Detection',\n",
       "       'Cryptocurrency', 'Wedding', 'Crowdsourcing', 'Farming',\n",
       "       'Business Travel', 'Career Planning', 'Medical Device',\n",
       "       'Alternative Medicine', 'Dental', 'CleanTech', 'Marketing',\n",
       "       'Commercial', 'Continuing Education', 'Smart Cities',\n",
       "       'Social Media', 'Biopharma', 'Child Care', 'Health Insurance',\n",
       "       'Gaming', 'Search Engine', 'Battery', 'Cosmetics', 'eSports',\n",
       "       'Reading Apps', 'Electric Vehicle', 'Packaging Services',\n",
       "       'Last Mile Transportation', 'Cooking', 'FinTech', 'Online Games',\n",
       "       'Online Portals', 'Music', 'News', 'Industrial', 'Dating',\n",
       "       'Fantasy Sports', 'Eyewear', 'Ecommerce', 'Edtech',\n",
       "       'Interior design', 'AgriTech', 'Technology', 'SaaS', 'AI & Tech',\n",
       "       'E-commerce', 'E-commerce & AR', 'Fintech', 'HR tech', 'Food tech',\n",
       "       'Health', 'Healthcare', 'Safety tech', 'Pharmaceutical',\n",
       "       'Insurance technology', 'AI', 'Foodtech', 'Food', 'IoT',\n",
       "       'E-marketplace', 'Robotics & AI', 'Food & Nutrition', 'Unkonwn',\n",
       "       'E-Sports', 'Jewellery', 'B2B Supply Chain', 'Games',\n",
       "       'Food & tech', 'Accomodation', 'Automotive tech', 'Legal tech',\n",
       "       'Mutual Funds', 'Cybersecurity', 'Automobile', 'Healthtech',\n",
       "       'Yoga & wellness', 'Virtual Banking', 'Transport & Rentals',\n",
       "       'Marketing & Customer loyalty', 'Infratech',\n",
       "       'Automobile & Technology', 'Hygiene management', 'Escrow',\n",
       "       'Networking platform', 'Food & Bevarages', 'HealthTech',\n",
       "       'Fashion startup', 'Food Industry', 'Virtual auditing startup',\n",
       "       'Work fulfillment', 'AI startup', 'Telecommunication',\n",
       "       'Tech Startup', 'Medtech', 'Tyre management', 'Cloud company',\n",
       "       'Software company', 'Venture capitalist', 'Renewable player',\n",
       "       'IoT startup', 'SaaS startup', 'Aero company', 'Marketing company',\n",
       "       'Retail startup', 'Co-working Startup', 'Finance company',\n",
       "       'Tech company', 'Solar Monitoring Company',\n",
       "       'Video sharing platform', 'Gaming startup',\n",
       "       'Video streaming platform', 'Consumer appliances',\n",
       "       'Blockchain startup', 'Conversational AI platform', 'Real Estate',\n",
       "       'SaaS platform', 'AI platform', 'Fusion beverages', 'HR Tech',\n",
       "       'Job portal', 'Dairy startup', 'Content management', 'Spacetech',\n",
       "       'Trading platform', 'AI Company', 'Photonics startup',\n",
       "       'Entertainment', 'Scanning app', 'Skincare startup',\n",
       "       'Food and Beverages', 'Biotechnology company', 'FoodTech',\n",
       "       'Proptech', 'Fitness startup', 'PaaS startup', 'Beverages',\n",
       "       'Automobiles', 'Deeptech', 'EV startup', 'AR/VR startup',\n",
       "       'Recruitment startup', 'QSR startup', 'Video platform',\n",
       "       'Fertility tech', 'Luxury car startup', 'FM', 'Nutrition sector',\n",
       "       'Tech platform', 'Video', 'Retail Tech', 'HeathTech',\n",
       "       'Sles and marketing', 'LegalTech', 'Car Service',\n",
       "       'Bike marketplace', 'Agri tech', 'Reatil startup', 'AR platform',\n",
       "       'Content marketplace', 'Interior Design', 'Rental space',\n",
       "       'Soil-Tech', 'Ayurveda tech', 'Packaging solution startup',\n",
       "       'Cleantech', 'Sanitation solutions', 'HealthCare', 'Home Design',\n",
       "       'InsureTech', 'AI Startup', 'Solar solution', 'Jewellery startup',\n",
       "       'Multinational conglomerate company', 'Deeptech startup',\n",
       "       'Social Network', 'Publication', 'Tech', 'Venture capital',\n",
       "       'Entreprenurship', 'Food devlivery', 'Warehouse',\n",
       "       'Online financial service', 'Eyeglasses', 'Battery design',\n",
       "       'Online credit management startup', 'Beverage', 'TravelTech',\n",
       "       'Startup laboratory', 'Personal care startup',\n",
       "       'Customer service company', 'SaaS\\xa0\\xa0startup',\n",
       "       'Marketing startup', 'Service industry', 'Social media',\n",
       "       'AR startup', 'HR Tech startup', 'Automotive Startup',\n",
       "       'Food Startup', 'EdTech Startup', 'Car Trade', 'EdtTech',\n",
       "       'AI Platform', 'Automation', 'Solar SaaS', 'WL & RAC protection',\n",
       "       'Social commerce', 'Home interior services', 'Agritech startup',\n",
       "       'API platform', 'Deep Tech', 'Electricity', 'Automotive company',\n",
       "       'FMCG', 'Insurance Tech', 'Video personalization',\n",
       "       'Software Company', 'Biomaterial startup', 'IT', 'Craft Beer',\n",
       "       'Investment', 'Linguistic Spiritual', 'Construction',\n",
       "       'Battery manufacturer', 'Nano Distribution Network', 'AI health',\n",
       "       'Dating app', 'Media', 'Healthcare/Edtech', 'Social Commerce',\n",
       "       'Agritech/Commerce', 'Mobility tech', 'Social e-commerce',\n",
       "       'Food & Logistics', 'SpaceTech', 'Nutrition Tech', 'HR', 'Unknown',\n",
       "       'Agritech', 'AR/VR', 'Appliance', 'Mental Health',\n",
       "       'Solar Solution', 'B2B marketplace', 'Fashion Tech',\n",
       "       'Nutrition tech', 'Health & Wellness', 'Cloud Kitchen',\n",
       "       'IoT/Automobile', 'Eye Wear', 'Digital tech', 'Data Intelligence',\n",
       "       'Co-living', 'Food & Beverages', 'Defense tech',\n",
       "       'Construction tech', 'Nutrition', 'Coworking', 'Micro-mobiity',\n",
       "       'Auto-tech', 'Robotics', 'Logitech', 'Med Tech', 'Life sciences',\n",
       "       'Retail Aggregator', 'Deep Tech AI', 'Biotech', 'HrTech',\n",
       "       'Mobility/Transport', 'AI & Debt', 'SaaS/Edtech', 'Transport',\n",
       "       'Co-working', 'Insurtech', 'Legal', 'EV', 'Supply chain, Agritech',\n",
       "       'Pharma', 'Foodtech & Logistics', 'Housing', 'Data Analytics',\n",
       "       'Investment Tech', 'Dairy', 'Beauty & wellness', 'Travel & SaaS',\n",
       "       'Tourism & EV', 'Media Tech', 'Location Analytics', 'E store',\n",
       "       'Data Science', 'Health and Fitness', 'Interior & decor',\n",
       "       'eMobility', 'Automation tech', 'Media & Networking', 'E-market',\n",
       "       'AI & Data science', 'Travel tech', 'Automotive and Rentals',\n",
       "       'E-tail', 'AI & Media', 'Machine Learning', 'Content Marktplace',\n",
       "       'Visual Media', 'Hygiene', 'VR & SaaS', 'Sales & Services',\n",
       "       'AI & Deep learning', 'Housing & Rentals', 'Estore', 'E tailor',\n",
       "       'E-mobility', 'Ad-tech', 'Neo-banking', 'Transport Automation',\n",
       "       'Techonology', 'AI Robotics', 'Preschool Daycare', 'Food diet',\n",
       "       'B2B Agritech', 'E-connect', 'Tech hub', 'Consultancy', 'Pharmacy',\n",
       "       'Deisgning', 'Taxation', 'Automobile Technology', 'B2B E-commerce',\n",
       "       'Home services', 'B2B service', 'Helathcare', 'Electronics',\n",
       "       'IT startup', 'Aeorspace', 'Oil and Energy', 'Telecommuncation',\n",
       "       'Milk startup', 'AI Chatbot', 'Food delivery', 'Fantasy sports',\n",
       "       'Video communication', 'Skill development', 'Recruitment',\n",
       "       'Computer Games', 'Apparel & Fashion', 'Logistics & Supply Chain',\n",
       "       'SportsTech', 'HRTech', 'Wine & Spirits',\n",
       "       'Mechanical & Industrial Engineering', 'Spiritual', 'Lifestyle',\n",
       "       'Computer software', 'Tech startup', 'Digital mortgage',\n",
       "       'Information Technology & Services', 'Furniture', 'Healtcare',\n",
       "       'Tobacco', 'Insuretech', 'MLOps platform', 'Venture Capital',\n",
       "       'Pet care', 'Drone', 'Wholesale', 'E-learning',\n",
       "       'Consumer Services', 'Venture Capital & Private Equity',\n",
       "       'Health, Wellness & Fitness', 'OTT', 'Education Management',\n",
       "       'Computer Software', 'Software Startup',\n",
       "       'Computer & Network Security', 'Capital Markets', 'Social network',\n",
       "       'Hospital & Health Care', 'Hauz Khas', 'Mobility',\n",
       "       'Digital platform', 'B2B Ecommerce', 'Online Media',\n",
       "       'Mobile Games', 'Food Production', 'Podcast', 'Content publishing',\n",
       "       'Water purification', 'Content commerce', 'Innovation Management',\n",
       "       'Celebrity Engagement', 'Personal Care', 'Cannabis startup',\n",
       "       'Blogging', 'BioTechnology', 'B2B Marketplace', 'Health care',\n",
       "       'Social audio', 'Fashion and lifestyle', 'Delivery service',\n",
       "       'B2B Manufacturing', 'Solar', 'TaaS startup',\n",
       "       'Manufacturing startup', 'Vehicle repair startup', 'Advisory firm',\n",
       "       'Legaltech', 'Pollution control equiptment', 'Fashion & Lifestyle',\n",
       "       'D2C', 'Environmental Services', 'Merchandise',\n",
       "       'Facilities Services', 'Marketing & Advertising', 'D2C Business',\n",
       "       'NFT Marketplace', 'Consumer software', 'Social community',\n",
       "       'Fishery', 'Renewables & Environment', 'Online storytelling',\n",
       "       'Aviation', 'IT company', 'Environmental service',\n",
       "       'Job discovery platform', 'D2C Fashion', 'Heathcare', 'CRM',\n",
       "       'D2C startup', 'Innovation management', 'Community platform',\n",
       "       'Networking', 'Consumer service', 'Consumer goods', 'MarTech',\n",
       "       'Advertisement', 'Content creation', 'Augmented reality',\n",
       "       'Bike Rental', 'Beauty products', 'FemTech', 'Cultural',\n",
       "       'Supply chain platform', 'Social platform', 'Real estate',\n",
       "       'AI company', 'Sports startup', 'Matrimony', 'Crypto', 'Clothing',\n",
       "       'IoT platform', 'Commerce', 'Defense & Space',\n",
       "       'Business Supplies & Equipment', 'NFT', 'Oil & Energy',\n",
       "       'Company-as-a-Service', 'Textiles',\n",
       "       'Professional Training & Coaching', 'Maritime',\n",
       "       'Housing Marketplace', 'Furniture Rental', 'Telecommunications',\n",
       "       'Equity Management', 'Cloud kitchen', 'Community',\n",
       "       'Higher Education', 'Mechanical Or Industrial Engineering',\n",
       "       'D2C jewellery', 'Sales and Distribution',\n",
       "       'Translation & Localization', 'Investment Banking', 'Femtech',\n",
       "       'sports', 'Foootwear', 'Legal Services', 'Arts & Crafts',\n",
       "       'Investment Management', 'Management Consulting', 'B2B startup',\n",
       "       'Design', 'B2B Travel', 'Manchester, Greater Manchester',\n",
       "       'Product studio', 'Aviation & Aerospace', 'Staffing & Recruiting'],\n",
       "      dtype=object)"
      ]
     },
     "execution_count": 117,
     "metadata": {},
     "output_type": "execute_result"
    }
   ],
   "source": [
    "#extracting the top unique sectors\n",
    "df['sector'].unique()"
   ]
  },
  {
   "cell_type": "code",
   "execution_count": 118,
   "metadata": {},
   "outputs": [],
   "source": [
    "def combine_similar_labels(labels_series, threshold=80):\n",
    "    \"\"\"\n",
    "    Combines similar labels in a pandas Series based on text similarities.\n",
    "\n",
    "    Args:\n",
    "        labels_series (pd.Series): The Series containing labels.\n",
    "        threshold (int, optional): Similarity threshold (default is 80).\n",
    "\n",
    "    Returns:\n",
    "        pd.Series: A new Series with combined labels.\n",
    "    \"\"\"\n",
    "    # Create an empty dictionary to store combined labels\n",
    "    combined_labels = {}\n",
    "\n",
    "    # Iterate through each label\n",
    "    for label in labels_series.unique():\n",
    "        # Find close matches for the current label\n",
    "        matches = process.extract(label, labels_series.unique(), limit=None)\n",
    "        \n",
    "        # Filter matches based on similarity threshold\n",
    "        close_matches = [match[0] for match in matches if match[1] >= threshold]\n",
    "        \n",
    "        # Combine similar labels into a single label\n",
    "        combined_label = ', '.join(close_matches)\n",
    "        \n",
    "        # Store the combined label\n",
    "        combined_labels[label] = combined_label\n",
    "\n",
    "    # Map the original labels to their combined versions\n",
    "    combined_series = labels_series.map(combined_labels)\n",
    "\n",
    "    return combined_series"
   ]
  },
  {
   "cell_type": "code",
   "execution_count": 120,
   "metadata": {},
   "outputs": [
    {
     "name": "stderr",
     "output_type": "stream",
     "text": [
      "Applied processor reduces input query to empty string, all comparisons will have score 0. [Query: '—']\n"
     ]
    }
   ],
   "source": [
    "#Combining labels if they have at least 95% similarity\n",
    "df['sector'] = (combine_similar_labels(df['sector'], threshold=95))"
   ]
  },
  {
   "cell_type": "code",
   "execution_count": 121,
   "metadata": {},
   "outputs": [
    {
     "data": {
      "text/plain": [
       "sector\n",
       "FinTech, Fintech                                                          259\n",
       "EdTech, Edtech                                                            217\n",
       "E-Commerce, E-commerce, B2B E-commerce, Commerce, Ecommerce                95\n",
       "Financial Services                                                         86\n",
       "Healthcare, HealthCare, Health Care, Health care, Healtcare, Heathcare     66\n",
       "AgriTech, Agritech                                                         62\n",
       "Healthtech, HealthTech, HeathTech                                          60\n",
       "Automotive                                                                 53\n",
       "Food & Beverages, Food and Beverages                                       38\n",
       "Logistics                                                                  37\n",
       "Name: count, dtype: int64"
      ]
     },
     "execution_count": 121,
     "metadata": {},
     "output_type": "execute_result"
    }
   ],
   "source": [
    "#viewing the top 10 grouped sectors\n",
    "df['sector'] = (df\n",
    "                     ['sector']\n",
    "                     .astype('category')\n",
    "                     )\n",
    "df['sector'].value_counts().nlargest(10)"
   ]
  },
  {
   "cell_type": "code",
   "execution_count": 122,
   "metadata": {},
   "outputs": [],
   "source": [
    "#separating the combined lists and reducing to one sector\n",
    "sep_sect = (df\n",
    "            ['sector']\n",
    "            .str\n",
    "            .split(',', expand=True) #splitting the sectors with more than one description\n",
    "            )\n",
    "#dropping the excess descriptions to remain with only the first instance\n",
    "df['sector'] = sep_sect.drop(columns=[1,2,3,4,5])\n"
   ]
  },
  {
   "cell_type": "code",
   "execution_count": 123,
   "metadata": {},
   "outputs": [
    {
     "data": {
      "text/plain": [
       "sector\n",
       "FinTech               259\n",
       "EdTech                217\n",
       "E-Commerce             95\n",
       "Financial Services     86\n",
       "Healthcare             66\n",
       "AgriTech               62\n",
       "Healthtech             60\n",
       "Automotive             53\n",
       "Food & Beverages       38\n",
       "Logistics              37\n",
       "Name: count, dtype: int64"
      ]
     },
     "execution_count": 123,
     "metadata": {},
     "output_type": "execute_result"
    }
   ],
   "source": [
    "#confirming the sectors have been reduced to one descriptor\n",
    "#viewing the top 10 sectors\n",
    "df['sector'].value_counts().nlargest(10)"
   ]
  },
  {
   "cell_type": "code",
   "execution_count": 124,
   "metadata": {},
   "outputs": [
    {
     "name": "stdout",
     "output_type": "stream",
     "text": [
      "data saved\n"
     ]
    }
   ],
   "source": [
    "#writing out our clean combined dataset\n",
    "df.to_csv('Cleaned Data')\n",
    "print('data saved')"
   ]
  },
  {
   "cell_type": "markdown",
   "metadata": {},
   "source": [
    "## **STATISTICAL ANALYSIS**"
   ]
  },
  {
   "cell_type": "markdown",
   "metadata": {},
   "source": [
    "##### **KEY ASSUMPTION**\n",
    "Based on our Business Questions, we will only use some of the columns to answer the questions while others will be dropped as they are not related to our current objective.\n",
    "\n",
    "The key columns we will use to answer each question are:\n",
    "\n",
    "| **QUESTION**  |  **COLUMN TO USE** |\n",
    "|---------------|-----------------|\n",
    "| **1. What is the Total Value of the Indian Startup Ecosystem?** |  |        \n",
    "|  - How Many startups were founded in the period | **Founded** |\n",
    "|  - How Much Money has the ecosystem received in funding | **Amount** |\n",
    "| **2. How has the Ecosystem changed over time?** |   |\n",
    "|  - What is the change in performance year on year | **Amount and Year** |\n",
    "|  - Which region has the best performance | **Amount and Location** |\n",
    "| **3. What is the Success rate of Start-ups in the ecosystem?** |   |\n",
    "|  - Are there any unicorns from the ecosystem | **Amount** |\n",
    "|  - How Many Unicorns | **Amount** |\n",
    "| **4. Who is already in the Ecosystem?** |   |\n",
    "|  - How many companies are already involved in the ecosystem | **Investor** |\n",
    "|  - What fields are they invested in | **Sector and Investor** |\n",
    "| **5. Which is the best performing sector in the ecosystem?** |   |\n",
    "|  - Sector with highest amount raised | **Sector and Amount** |\n",
    "|  - Sector with most start-ups | **Sector and Company** |"
   ]
  },
  {
   "cell_type": "markdown",
   "metadata": {},
   "source": [
    "##### **QUESTION 1: What is the Total Value of the Indian Startup Ecosystem?** "
   ]
  },
  {
   "cell_type": "markdown",
   "metadata": {},
   "source": [
    "**1-a. How Many Startups were Founded in the Period?**"
   ]
  },
  {
   "cell_type": "code",
   "execution_count": 125,
   "metadata": {},
   "outputs": [
    {
     "data": {
      "text/plain": [
       "2204"
      ]
     },
     "execution_count": 125,
     "metadata": {},
     "output_type": "execute_result"
    }
   ],
   "source": [
    "#total number of companies in the ecosystem\n",
    "df['company'].nunique()"
   ]
  },
  {
   "cell_type": "code",
   "execution_count": 133,
   "metadata": {},
   "outputs": [
    {
     "ename": "TypeError",
     "evalue": "'>=' not supported between instances of 'str' and 'int'",
     "output_type": "error",
     "traceback": [
      "\u001b[1;31m---------------------------------------------------------------------------\u001b[0m",
      "\u001b[1;31mTypeError\u001b[0m                                 Traceback (most recent call last)",
      "Cell \u001b[1;32mIn[133], line 5\u001b[0m\n\u001b[0;32m      2\u001b[0m Total \u001b[38;5;241m=\u001b[39m \u001b[38;5;241m0\u001b[39m\n\u001b[0;32m      4\u001b[0m \u001b[38;5;28;01mfor\u001b[39;00m co \u001b[38;5;129;01min\u001b[39;00m df[\u001b[38;5;124m'\u001b[39m\u001b[38;5;124mfounded\u001b[39m\u001b[38;5;124m'\u001b[39m]:\n\u001b[1;32m----> 5\u001b[0m     \u001b[38;5;28;01mif\u001b[39;00m \u001b[43mco\u001b[49m\u001b[43m \u001b[49m\u001b[38;5;241;43m>\u001b[39;49m\u001b[38;5;241;43m=\u001b[39;49m\u001b[43m \u001b[49m\u001b[38;5;241;43m2018\u001b[39;49m:\n\u001b[0;32m      6\u001b[0m         Total \u001b[38;5;241m=\u001b[39m Total \u001b[38;5;241m+\u001b[39m \u001b[38;5;241m1\u001b[39m\n\u001b[0;32m      8\u001b[0m \u001b[38;5;28mprint\u001b[39m(\u001b[38;5;124mf\u001b[39m\u001b[38;5;124m'\u001b[39m\u001b[38;5;124mThere were \u001b[39m\u001b[38;5;132;01m{\u001b[39;00mTotal\u001b[38;5;132;01m}\u001b[39;00m\u001b[38;5;124m companies founded between 2018 and 2021\u001b[39m\u001b[38;5;124m'\u001b[39m)\n",
      "\u001b[1;31mTypeError\u001b[0m: '>=' not supported between instances of 'str' and 'int'"
     ]
    }
   ],
   "source": [
    "#counting the number of start-ups founded since 2018\n",
    "Total = 0\n",
    "\n",
    "for co in df['founded']:\n",
    "    if co >= 2018:\n",
    "        Total = Total + 1\n",
    "\n",
    "print(f'There were {Total} companies founded between 2018 and 2021')"
   ]
  },
  {
   "cell_type": "code",
   "execution_count": 134,
   "metadata": {},
   "outputs": [
    {
     "ename": "TypeError",
     "evalue": "'<' not supported between instances of 'str' and 'int'",
     "output_type": "error",
     "traceback": [
      "\u001b[1;31m---------------------------------------------------------------------------\u001b[0m",
      "\u001b[1;31mTypeError\u001b[0m                                 Traceback (most recent call last)",
      "Cell \u001b[1;32mIn[134], line 5\u001b[0m\n\u001b[0;32m      2\u001b[0m prev_Total \u001b[38;5;241m=\u001b[39m \u001b[38;5;241m0\u001b[39m\n\u001b[0;32m      4\u001b[0m \u001b[38;5;28;01mfor\u001b[39;00m co \u001b[38;5;129;01min\u001b[39;00m df[\u001b[38;5;124m'\u001b[39m\u001b[38;5;124mfounded\u001b[39m\u001b[38;5;124m'\u001b[39m]:\n\u001b[1;32m----> 5\u001b[0m     \u001b[38;5;28;01mif\u001b[39;00m \u001b[43mco\u001b[49m\u001b[43m \u001b[49m\u001b[38;5;241;43m<\u001b[39;49m\u001b[43m \u001b[49m\u001b[38;5;241;43m2018\u001b[39;49m:\n\u001b[0;32m      6\u001b[0m         prev_Total \u001b[38;5;241m=\u001b[39m prev_Total \u001b[38;5;241m+\u001b[39m \u001b[38;5;241m1\u001b[39m\n\u001b[0;32m      8\u001b[0m \u001b[38;5;28mprint\u001b[39m(\u001b[38;5;124mf\u001b[39m\u001b[38;5;124m'\u001b[39m\u001b[38;5;124mThere were \u001b[39m\u001b[38;5;132;01m{\u001b[39;00mprev_Total\u001b[38;5;132;01m}\u001b[39;00m\u001b[38;5;124m companies founded before 2018\u001b[39m\u001b[38;5;124m'\u001b[39m)\n",
      "\u001b[1;31mTypeError\u001b[0m: '<' not supported between instances of 'str' and 'int'"
     ]
    }
   ],
   "source": [
    "#comparing with previous period\n",
    "prev_Total = 0\n",
    "\n",
    "for co in df['founded']:\n",
    "    if co < 2018:\n",
    "        prev_Total = prev_Total + 1\n",
    "\n",
    "print(f'There were {prev_Total} companies founded before 2018')"
   ]
  },
  {
   "cell_type": "code",
   "execution_count": 135,
   "metadata": {},
   "outputs": [
    {
     "ename": "ZeroDivisionError",
     "evalue": "division by zero",
     "output_type": "error",
     "traceback": [
      "\u001b[1;31m---------------------------------------------------------------------------\u001b[0m",
      "\u001b[1;31mZeroDivisionError\u001b[0m                         Traceback (most recent call last)",
      "Cell \u001b[1;32mIn[135], line 2\u001b[0m\n\u001b[0;32m      1\u001b[0m \u001b[38;5;66;03m#checking percentage of total startups founded since 2018\u001b[39;00m\n\u001b[1;32m----> 2\u001b[0m founded_perc \u001b[38;5;241m=\u001b[39m (\u001b[43mTotal\u001b[49m\u001b[43m \u001b[49m\u001b[38;5;241;43m/\u001b[39;49m\u001b[43m \u001b[49m\u001b[43m(\u001b[49m\u001b[43mprev_Total\u001b[49m\u001b[43m \u001b[49m\u001b[38;5;241;43m+\u001b[39;49m\u001b[43m \u001b[49m\u001b[43mTotal\u001b[49m\u001b[43m)\u001b[49m)\u001b[38;5;241m*\u001b[39m\u001b[38;5;241m100\u001b[39m\n\u001b[0;32m      4\u001b[0m \u001b[38;5;28mprint\u001b[39m(\u001b[38;5;124mf\u001b[39m\u001b[38;5;124m'\u001b[39m\u001b[38;5;124mThe startups founded from 2018 account for \u001b[39m\u001b[38;5;132;01m{\u001b[39;00mfounded_perc\u001b[38;5;132;01m:\u001b[39;00m\u001b[38;5;124m.2f\u001b[39m\u001b[38;5;132;01m}\u001b[39;00m\u001b[38;5;124m percent of all startups\u001b[39m\u001b[38;5;124m'\u001b[39m)\n",
      "\u001b[1;31mZeroDivisionError\u001b[0m: division by zero"
     ]
    }
   ],
   "source": [
    "#checking percentage of total startups founded since 2018\n",
    "founded_perc = (Total / (prev_Total + Total))*100\n",
    "\n",
    "print(f'The startups founded from 2018 account for {founded_perc:.2f} percent of all startups')"
   ]
  },
  {
   "cell_type": "markdown",
   "metadata": {},
   "source": [
    "### **Observation**\n",
    "From the codes above;\n",
    "* There were 889 companies founded between 2018 and 2021\n",
    "* There were 1429 companies founded before 2018\n",
    " "
   ]
  },
  {
   "cell_type": "code",
   "execution_count": 140,
   "metadata": {},
   "outputs": [
    {
     "data": {
      "image/png": "[encoded data removed]",
      "text/plain": [
       "<Figure size 1000x500 with 1 Axes>"
      ]
     },
     "metadata": {},
     "output_type": "display_data"
    }
   ],
   "source": [
    "#checking the trend of startups founded over time\n",
    "(df\n",
    " .groupby('founded')\n",
    " .founded\n",
    " .count()\n",
    " .plot(kind='bar',\n",
    "       figsize= (10,5),\n",
    "       title = 'Startups Founded over the years'\n",
    "       )\n",
    ");"
   ]
  },
  {
   "cell_type": "code",
   "execution_count": null,
   "metadata": {},
   "outputs": [],
   "source": []
  }
 ],
 "metadata": {
  "kernelspec": {
   "display_name": "venv",
   "language": "python",
   "name": "python3"
  },
  "language_info": {
   "codemirror_mode": {
    "name": "ipython",
    "version": 3
   },
   "file_extension": ".py",
   "mimetype": "text/x-python",
   "name": "python",
   "nbconvert_exporter": "python",
   "pygments_lexer": "ipython3",
   "version": "3.11.3"
  }
 },
 "nbformat": 4,
 "nbformat_minor": 2
}
